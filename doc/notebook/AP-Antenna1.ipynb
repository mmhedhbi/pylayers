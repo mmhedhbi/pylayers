{
 "metadata": {
  "name": "",
  "signature": "sha256:58588777476476ab89c279ed4274160532326ed7319c5f962f0d35f2520b4796"
 },
 "nbformat": 3,
 "nbformat_minor": 0,
 "worksheets": [
  {
   "cells": [
    {
     "cell_type": "markdown",
     "metadata": {},
     "source": [
      "# Antennas "
     ]
    },
    {
     "cell_type": "markdown",
     "metadata": {},
     "source": [
      "Antennas can be described in different formats. From a simple antenna gain formula to a full polarization description. \n",
      "The following examples illustrates the main features of the Antenna class."
     ]
    },
    {
     "cell_type": "code",
     "collapsed": false,
     "input": [
      "from pylayers.antprop.antenna import *"
     ],
     "language": "python",
     "metadata": {},
     "outputs": [],
     "prompt_number": 1
    },
    {
     "cell_type": "markdown",
     "metadata": {},
     "source": [
      "Lets start by loading an antenna from a `vsh3` file."
     ]
    },
    {
     "cell_type": "code",
     "collapsed": false,
     "input": [
      "A = Antenna('S1R1.vsh3')\n",
      "A"
     ],
     "language": "python",
     "metadata": {},
     "outputs": [],
     "prompt_number": 2
    },
    {
     "cell_type": "markdown",
     "metadata": {},
     "source": [
      "In fact this is not a void antenna. There is a default file which has been loaded and there is an antenna down there. The only thing we know at that point is the name of the file which has extension '.vsh3' which means vector spherical harmonics in shape 3. To list all the availble antenna files in the dedicated directory of the project it i possible to invoke the `ls()` method."
     ]
    },
    {
     "cell_type": "code",
     "collapsed": false,
     "input": [
      "A.ls('sh3')"
     ],
     "language": "python",
     "metadata": {},
     "outputs": [],
     "prompt_number": 3
    },
    {
     "cell_type": "code",
     "collapsed": false,
     "input": [
      "A.ls('vsh3')"
     ],
     "language": "python",
     "metadata": {},
     "outputs": [],
     "prompt_number": 4
    },
    {
     "cell_type": "markdown",
     "metadata": {},
     "source": [
      "At that point the radiation pattern of the antenna has not yet been evaluated. For a shape 3 pattern the method to calculate the pattern is `Fsynth3()` with the `pattern` option set to true. "
     ]
    },
    {
     "cell_type": "code",
     "collapsed": false,
     "input": [
      "A.Fsynth3(pattern=True)"
     ],
     "language": "python",
     "metadata": {},
     "outputs": [],
     "prompt_number": 5
    },
    {
     "cell_type": "markdown",
     "metadata": {},
     "source": [
      "The `polar()` method allow to superpose different pattern for a list o frequecies `fGHz`\n",
      "+ If `phd` is precised the diagram is given as a function of $\\theta$\n",
      "+ If `thd` is precised the diagram is given as a function of $\\phi$"
     ]
    },
    {
     "cell_type": "code",
     "collapsed": false,
     "input": [
      "f = plt.figure(figsize=(15,15))\n",
      "a1 = f.add_subplot(121,polar=True)\n",
      "f1,a1 = A.polar(fGHz=[3,4,5],phd=0,GmaxdB=0,fig=f,ax=a1)\n",
      "a2 = f.add_subplot(122,polar=True)\n",
      "f2,a2 = A.polar(fGHz=[3,4,5],thd=90,GmaxdB=5,fig=f,ax=a2)"
     ],
     "language": "python",
     "metadata": {},
     "outputs": [],
     "prompt_number": 6
    },
    {
     "cell_type": "code",
     "collapsed": false,
     "input": [
      "A"
     ],
     "language": "python",
     "metadata": {},
     "outputs": [],
     "prompt_number": 7
    },
    {
     "cell_type": "code",
     "collapsed": false,
     "input": [
      "A.C.show(typ='s3')\n",
      "fig = gcf()\n",
      "plt.tight_layout()"
     ],
     "language": "python",
     "metadata": {},
     "outputs": [],
     "prompt_number": 8
    },
    {
     "cell_type": "markdown",
     "metadata": {},
     "source": [
      "## Defining Antenna gain from analytic formulas"
     ]
    },
    {
     "cell_type": "markdown",
     "metadata": {},
     "source": [
      "An antenna can be defined from closed-form expressions."
     ]
    },
    {
     "cell_type": "code",
     "collapsed": false,
     "input": [
      "A = Antenna('Omni')"
     ],
     "language": "python",
     "metadata": {},
     "outputs": [],
     "prompt_number": 9
    },
    {
     "cell_type": "code",
     "collapsed": false,
     "input": [
      "A.Fpatt(pattern=True)"
     ],
     "language": "python",
     "metadata": {},
     "outputs": [],
     "prompt_number": 10
    },
    {
     "cell_type": "code",
     "collapsed": false,
     "input": [
      "A.polar()"
     ],
     "language": "python",
     "metadata": {},
     "outputs": [],
     "prompt_number": 11
    }
   ],
   "metadata": {}
  }
 ]
}
