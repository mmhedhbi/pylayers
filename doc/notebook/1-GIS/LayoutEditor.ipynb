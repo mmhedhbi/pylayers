{
 "metadata": {
  "name": "",
  "signature": "sha256:aea99ab6ef43981ac971a91c179c5a42c6d18913ce1229fc9793f3774a6d4271"
 },
 "nbformat": 3,
 "nbformat_minor": 0,
 "worksheets": [
  {
   "cells": [
    {
     "cell_type": "code",
     "collapsed": false,
     "input": [
      "from IPython.core.display import HTML\n",
      "\n",
      "def css_styling():\n",
      "    styles = open(\"../styles/custom.css\", \"r\").read()\n",
      "    return HTML(styles)\n",
      "css_styling()"
     ],
     "language": "python",
     "metadata": {},
     "outputs": [
      {
       "html": [
        "<style>\n",
        "    @font-face {\n",
        "        font-family: \"Computer Modern\";\n",
        "        src: url('http://mirrors.ctan.org/fonts/cm-unicode/fonts/otf/cmunss.otf');\n",
        "    }\n",
        "    div.cell{\n",
        "        width:800px;\n",
        "        margin-left:16% !important;\n",
        "        margin-right:auto;\n",
        "    }\n",
        "    h1 {\n",
        "        font-family: Helvetica, serif;\n",
        "    }\n",
        "    h4{\n",
        "        margin-top:12px;\n",
        "        margin-bottom: 3px;\n",
        "       }\n",
        "    div.text_cell_render{\n",
        "        font-family: Computer Modern, \"Helvetica Neue\", Arial, Helvetica, Geneva, sans-serif;\n",
        "        line-height: 145%;\n",
        "        font-size: 130%;\n",
        "        width:800px;\n",
        "        margin-left:auto;\n",
        "        margin-right:auto;\n",
        "    }\n",
        "    .CodeMirror{\n",
        "            font-family: \"Source Code Pro\", source-code-pro,Consolas, monospace;\n",
        "    }\n",
        "    .prompt{\n",
        "        display: None;\n",
        "    }\n",
        "    .text_cell_render h5 {\n",
        "        font-weight: 300;\n",
        "        font-size: 22pt;\n",
        "        color: #4057A1;\n",
        "        font-style: italic;\n",
        "        margin-bottom: .5em;\n",
        "        margin-top: 0.5em;\n",
        "        display: block;\n",
        "    }\n",
        "    \n",
        "    .warning{\n",
        "        color: rgb( 240, 20, 20 )\n",
        "        }  \n",
        "</style>\n",
        "<script>\n",
        "    MathJax.Hub.Config({\n",
        "                        TeX: {\n",
        "                           extensions: [\"AMSmath.js\"]\n",
        "                           },\n",
        "                tex2jax: {\n",
        "                    inlineMath: [ ['$','$'], [\"\\\\(\",\"\\\\)\"] ],\n",
        "                    displayMath: [ ['$$','$$'], [\"\\\\[\",\"\\\\]\"] ]\n",
        "                },\n",
        "                displayAlign: 'center', // Change this to 'center' to center equations.\n",
        "                \"HTML-CSS\": {\n",
        "                    styles: {'.MathJax_Display': {\"margin\": 4}}\n",
        "                }\n",
        "        });\n",
        "</script>"
       ],
       "metadata": {},
       "output_type": "pyout",
       "prompt_number": 1,
       "text": [
        "<IPython.core.display.HTML at 0x2b28250>"
       ]
      }
     ],
     "prompt_number": 1
    },
    {
     "cell_type": "markdown",
     "metadata": {},
     "source": [
      "## The Layout class"
     ]
    },
    {
     "cell_type": "markdown",
     "metadata": {},
     "source": [
      "### Introduction"
     ]
    },
    {
     "cell_type": "markdown",
     "metadata": {},
     "source": [
      "This section explains the main features of the  **Layout** class. \n",
      "\n",
      "A Layout is a representation of a floorplan, it is handled by the module **pylayers.gis.layout**. \n",
      "\n",
      "This module recognizes different file formats including geo-referenced files in open street map format `.osm`. \n",
      "\n",
      "Using osm allows to take advantage \n",
      "of a mature floor plan editor *JOSM* with the plugin *PicLayer*. This is well described in http://wiki.openstreetmap.org/wiki/IndoorOSM\n",
      "\n",
      "The `pylayers.gis.osmparser` module parses `osm` files. \n",
      "\n",
      "See the following methods of the layout object \n",
      "\n",
      "+ `loadosm()` \n",
      "+ `saveosm()`\n",
      "\n",
      "\n"
     ]
    },
    {
     "cell_type": "markdown",
     "metadata": {},
     "source": [
      "### Structure of a Layout"
     ]
    },
    {
     "cell_type": "markdown",
     "metadata": {},
     "source": [
      "At first a Layout is described by a set of points (negative index) and a set of segments (positive index). \n",
      "\n",
      "Points and segments are nodes of the $\\mathcal{G}_s$ graph. \n",
      "\n",
      "It is required to respect a strict non overlapping rule. **No segments can recover partially or totally an other segment**.\n",
      "\n",
      "This rule allows to capture topological relations of the network which are exploited for further analysis. \n",
      "\n"
     ]
    },
    {
     "cell_type": "markdown",
     "metadata": {},
     "source": [
      "### Subsegments"
     ]
    },
    {
     "cell_type": "markdown",
     "metadata": {},
     "source": [
      "To describe doors and windows, the concept of `subsegment` is introduced. \n",
      "\n",
      "A `segment` has attributes :  \n",
      "\n",
      "+ `name` : slab name\n",
      "+ `z` : tuple of minimum and maximum heights with respect to ground (meters)\n",
      "+ `transition` : a boolean indicating if a human can cross this segment. For example, segments associated with a door are transition segments but we will see later that it may be judicious to split space with transparent segments which have the name 'AIR'. Those segments are also `transition=True`\n",
      "\n",
      "A `subsegment` belongs to a `segment`, it has mainly 2 attached parameters : \n",
      "\n",
      "+ `ss_name` : subsegment slab name\n",
      "+ `ss_z` : [(zmin1,zmax1),(zmin2,zmax2),...,(zminK,zmaxK))] list of minimum and maximum height of associated subsegments (meters) \n",
      "\n",
      "\n",
      "\n",
      "When appearing in a 3D ray a subsegment should have a unique index different from the segment index.\n"
     ]
    },
    {
     "cell_type": "markdown",
     "metadata": {},
     "source": [
      "### The different layout format "
     ]
    },
    {
     "cell_type": "markdown",
     "metadata": {},
     "source": [
      "The layout format has regularly evolved over time and is going to evolve again. \n",
      "Currently, the different recognized file extensions are the following : \n",
      "\n",
      "+ `.str2`: a ASCII file (Node list + edge list) \n",
      "+ `.str`  : a binary file which includes visibility relations between point and segments\n",
      "+ `.ini`  : an ini file which gather node list and edge list as well as the state of the current `display` dictionnary\n",
      "+ `.osm`  : an xml file which can be edited with [JOSM](http://josm.openstreetmap.de/)\n",
      "\n"
     ]
    },
    {
     "cell_type": "code",
     "collapsed": false,
     "input": [
      "from pylayers.gis.layout import *\n",
      "from pylayers.util.project import *"
     ],
     "language": "python",
     "metadata": {},
     "outputs": [],
     "prompt_number": 1
    },
    {
     "cell_type": "markdown",
     "metadata": {},
     "source": [
      "### Reading an exiting Layout"
     ]
    },
    {
     "cell_type": "markdown",
     "metadata": {},
     "source": [
      "To read an existing layout it is sufficient to create a Layout object with, as an argument, a file name with \n",
      "one of the recognized extension. All files are stored in the `pstruc['DIRSTRUC']` directory of the project. The project root directory \n",
      "is defined in the `$BASENAME` environment variable.\n"
     ]
    },
    {
     "cell_type": "code",
     "collapsed": false,
     "input": [
      "print pstruc['DIRSTRUC']"
     ],
     "language": "python",
     "metadata": {},
     "outputs": [],
     "prompt_number": 2
    },
    {
     "cell_type": "markdown",
     "metadata": {},
     "source": [
      "`pstruc` is a dictionnary which gathers all directories which are used in `PyLayers`"
     ]
    },
    {
     "cell_type": "code",
     "collapsed": false,
     "input": [
      "pstruc"
     ],
     "language": "python",
     "metadata": {},
     "outputs": [],
     "prompt_number": 3
    },
    {
     "cell_type": "markdown",
     "metadata": {},
     "source": [
      "The structure of the `.osm` file is shown below"
     ]
    },
    {
     "cell_type": "code",
     "collapsed": false,
     "input": [
      "%%bash \n",
      "\n",
      "    cd $BASENAME/struc\n",
      "    ls *.osm\n"
     ],
     "language": "python",
     "metadata": {},
     "outputs": [],
     "prompt_number": 4
    },
    {
     "cell_type": "code",
     "collapsed": false,
     "input": [
      "%%bash \n",
      "    cd $BASENAME/struc\n",
      "    head DLR.osm\n",
      "    echo '---'\n",
      "    tail -17 DLR.osm"
     ],
     "language": "python",
     "metadata": {},
     "outputs": [],
     "prompt_number": 5
    },
    {
     "cell_type": "markdown",
     "metadata": {},
     "source": [
      "To read a new layout in osm format :"
     ]
    },
    {
     "cell_type": "code",
     "collapsed": false,
     "input": [
      "L=Layout('DLR.osm')"
     ],
     "language": "python",
     "metadata": {},
     "outputs": [],
     "prompt_number": 6
    },
    {
     "cell_type": "code",
     "collapsed": false,
     "input": [
      "fig,ax=L.showGs()"
     ],
     "language": "python",
     "metadata": {},
     "outputs": [],
     "prompt_number": 7
    },
    {
     "cell_type": "code",
     "collapsed": false,
     "input": [
      "L.info()"
     ],
     "language": "python",
     "metadata": {},
     "outputs": [],
     "prompt_number": 8
    },
    {
     "cell_type": "markdown",
     "metadata": {},
     "source": [
      "The different graphs associated with the layout are then built"
     ]
    },
    {
     "cell_type": "code",
     "collapsed": false,
     "input": [
      "L.build()"
     ],
     "language": "python",
     "metadata": {},
     "outputs": [],
     "prompt_number": 9
    },
    {
     "cell_type": "markdown",
     "metadata": {},
     "source": [
      "The topological graph $\\mathcal{G}_t$ or graph of non overlapping cycles."
     ]
    },
    {
     "cell_type": "code",
     "collapsed": false,
     "input": [
      "f,a=L.showG('t')\n",
      "b=plt.axis('off')"
     ],
     "language": "python",
     "metadata": {},
     "outputs": [],
     "prompt_number": 10
    },
    {
     "cell_type": "markdown",
     "metadata": {},
     "source": [
      "The graph of room $\\mathcal{G}_r$. Two rooms which share at least a wall are connected. \n",
      "Two rooms which share only a corner (punctual connection) are not connected "
     ]
    },
    {
     "cell_type": "code",
     "collapsed": false,
     "input": [
      "f,a=L.showG('r')\n",
      "b=plt.axis('off')"
     ],
     "language": "python",
     "metadata": {},
     "outputs": [],
     "prompt_number": 11
    },
    {
     "cell_type": "markdown",
     "metadata": {},
     "source": [
      "The graph of waypath $\\mathcal{G}_w$. This graph is used for agent mobility. This allows to determine the shortest path between 2 rooms. This information could be included in the osm file. This is not the case yet"
     ]
    },
    {
     "cell_type": "code",
     "collapsed": false,
     "input": [
      "f,a=L.showG('w')\n",
      "b=plt.axis('off')"
     ],
     "language": "python",
     "metadata": {},
     "outputs": [],
     "prompt_number": 12
    },
    {
     "cell_type": "markdown",
     "metadata": {},
     "source": [
      "The graph of visibility $\\mathcal{G_v}$"
     ]
    },
    {
     "cell_type": "code",
     "collapsed": false,
     "input": [
      "f,a=L.showG('v')\n",
      "b=plt.axis('off')"
     ],
     "language": "python",
     "metadata": {},
     "outputs": [],
     "prompt_number": 13
    },
    {
     "cell_type": "markdown",
     "metadata": {},
     "source": [
      "The graph of interactions $\\mathcal{G}_i$ used to determine the ray signatures.\n"
     ]
    },
    {
     "cell_type": "code",
     "collapsed": false,
     "input": [
      "f=plt.figure(figsize=(15,15))\n",
      "a = f.gca()\n",
      "f,a=L.showG('i',fig=f,ax=a)\n",
      "b= plt.axis('off')"
     ],
     "language": "python",
     "metadata": {},
     "outputs": [],
     "prompt_number": 14
    },
    {
     "cell_type": "markdown",
     "metadata": {},
     "source": [
      "### The display options dictionnary "
     ]
    },
    {
     "cell_type": "code",
     "collapsed": false,
     "input": [
      "L.info()"
     ],
     "language": "python",
     "metadata": {},
     "outputs": [],
     "prompt_number": 15
    },
    {
     "cell_type": "markdown",
     "metadata": {},
     "source": [
      "The layout can be displayed using matplotlib ploting primitive. Several display options are specified in the display dictionnary. Those options are exploited in `showGs()` vizualisation method. \n",
      "\n"
     ]
    },
    {
     "cell_type": "code",
     "collapsed": false,
     "input": [
      "L.display"
     ],
     "language": "python",
     "metadata": {},
     "outputs": [],
     "prompt_number": 16
    },
    {
     "cell_type": "markdown",
     "metadata": {},
     "source": [
      "#### Layers"
     ]
    },
    {
     "cell_type": "markdown",
     "metadata": {},
     "source": [
      " + 'layer' : list , []\n",
      " + 'layerset',list, list of available layers \n",
      " + 'layers', list , []\n",
      " + 'activelayer', str , 'WINDOW_GLASS'\n",
      "\n",
      "        \n",
      " + 'alpha', float , 0.5 , overlay transparency \n",
      " + 'box', tuple , (-20,20,-10,10), (xmin xmax,ymin,ymax)\n"
     ]
    },
    {
     "cell_type": "markdown",
     "metadata": {},
     "source": [
      "#### Strings"
     ]
    },
    {
     "cell_type": "markdown",
     "metadata": {},
     "source": [
      " + 'title' : str , 'Init'\n",
      " + 'fileoverlay' : str , 'TA-Office.png'"
     ]
    },
    {
     "cell_type": "markdown",
     "metadata": {},
     "source": [
      "#### Sizes"
     ]
    },
    {
     "cell_type": "markdown",
     "metadata": {},
     "source": [
      " + 'fontsize', float , 10\n",
      " + 'ndsize', float , 10 \n",
      " + 'ndlblsize' : float  20 \n",
      " + 'edlblsize' : float , 20"
     ]
    },
    {
     "cell_type": "markdown",
     "metadata": {},
     "source": [
      "#### Booleans "
     ]
    },
    {
     "cell_type": "markdown",
     "metadata": {},
     "source": [
      " + 'edlabel', boolean, False\n",
      " + 'ticksoff',boolean, True\n",
      " + 'scaled' :  boolean , True\n",
      " + 'subseg' : boolean , True\n",
      " + 'nodes', boolean , True\n",
      " + 'visu', boolean , False\n",
      " + 'edges', boolean , True\n",
      " + 'clear', boolean, False\n",
      " + 'overlay', boolean , False\n",
      " + 'thin', boolean , False , If True trace all segments with thickness 1 \n",
      " + 'ndlabel',boolean, If True display node labels\n",
      " + 'ednodes', boolean, True"
     ]
    },
    {
     "cell_type": "markdown",
     "metadata": {},
     "source": [
      "### Interactive editor"
     ]
    },
    {
     "cell_type": "markdown",
     "metadata": {},
     "source": [
      "The command L.editor() launches an interactive editor. The state machine is implemented in module `pylayers.gis.selectl.py`.\n",
      "\n",
      "To have an idea of all available options, look in the [`pylayers.gis.SelectL`](  \n",
      "http://pylayers.github.io/pylayers/_modules/pylayers/gis/selectl.html#SelectL.new_state) module\n",
      "\n",
      "All bug correction and ergonomic improvement of this editor is welcome. Just pull request your modifications. \n"
     ]
    },
    {
     "cell_type": "markdown",
     "metadata": {},
     "source": [
      "PyLayers comes along with a low level structure editor based on `matplotlib` which can be invoqued using the `editor()` method. \n",
      "This editor is more suited for modyfing constitutive properties of walls. In the future a dedicated plugin in `JOSM`\n",
      "could be a much better solution. \n",
      "\n",
      "\n",
      "There are two different modes of edition \n",
      "\n",
      "+ A create points mode CP \n",
      "\n",
      "    + left clic   : free point \n",
      "    + right clic  : same x point \n",
      "    + center clic : same y point     \n",
      "\n",
      "+ A create segments mode\n",
      "    + left clic   : select point 1\n",
      "    + left clic   : select point 2\n",
      "    + left clic   : create a segment between point 1 and point 2    \n",
      "\n",
      "**m**  : to switch from one mode to an other\n",
      "\n",
      "**i** : to return to init state    \n",
      "\n"
     ]
    },
    {
     "cell_type": "markdown",
     "metadata": {},
     "source": [
      "#### Image overlay"
     ]
    },
    {
     "cell_type": "markdown",
     "metadata": {},
     "source": [
      "It is useful while editing a layout to have an overlay of an image in order to help placing points. The image overlay can either be an url \n",
      "or a filename. In that case the file is stored in "
     ]
    },
    {
     "cell_type": "code",
     "collapsed": false,
     "input": [
      "L=Layout()\n",
      "L.display['fileoverlay']='http://images.wikia.com/theoffice/images/9/9e/Layout.jpg'"
     ],
     "language": "python",
     "metadata": {},
     "outputs": [],
     "prompt_number": 17
    },
    {
     "cell_type": "code",
     "collapsed": false,
     "input": [
      "L.display['overlay']=True\n",
      "L.display['alpha']=1\n",
      "L.display['scaled']=False\n",
      "L.display['ticksoff']=False\n",
      "L.display['inverse']=True"
     ],
     "language": "python",
     "metadata": {},
     "outputs": [],
     "prompt_number": 18
    },
    {
     "cell_type": "code",
     "collapsed": false,
     "input": [
      "plt.figure(figsize=(10,10))\n",
      "L.showGs()"
     ],
     "language": "python",
     "metadata": {},
     "outputs": [],
     "prompt_number": 19
    },
    {
     "cell_type": "markdown",
     "metadata": {},
     "source": [
      "#### Scaling the figure overlay"
     ]
    },
    {
     "cell_type": "markdown",
     "metadata": {},
     "source": [
      "Before going further it is necessary : \n",
      "    \n",
      "+ to place the global origin \n",
      "+ to precise the vertical and horizontal scale of the image \n",
      "    \n",
      "This is done by the following commands : \n",
      "\n",
      "+ 'i' : back to init state\n",
      "+ 'm' : goes to CP state \n",
      "+ 'o' : define the origin \n",
      "+  'left click' on the point of the figure chasen as the origin\n",
      "+  'left click' on a point at a known distance from the origin along x axis. Fill the dialog box with the actual distance (expressed in meters) between the two points. \n",
      "+  'left click' on a point at a known distance from the origin along y axis. Fill the dialog box with the actual distance (expressed in meters) between the two points. \n",
      "\n",
      "In that sequence of operation it is useful to rescale the figure with 'r'."
     ]
    },
    {
     "cell_type": "markdown",
     "metadata": {},
     "source": [
      "At that stage, it is possible to start creating points"
     ]
    },
    {
     "cell_type": "markdown",
     "metadata": {},
     "source": [
      "        'b'  : selct a segment \n",
      "        'l'  : select activelayer\n",
      "        'i'  : back to init state\n",
      "        'e'  : edit segment\n",
      "        't'  : translate  structure\n",
      "        'h'  : add subsegment\n",
      "        'd'  : delete subsegment\n",
      "        'r'  : refresh\n",
      "        'o'  : toggle overlay\n",
      "        'm'  : toggle mode (point or segment)\n",
      "        'z'  : change display parameters\n",
      "        'q'  : quit interactive mode\n",
      "        'x'  : save .str2 file\n",
      "        'w'  : display all layers\n"
     ]
    },
    {
     "cell_type": "markdown",
     "metadata": {},
     "source": [
      "#### Vizualisation of the layout"
     ]
    },
    {
     "cell_type": "code",
     "collapsed": false,
     "input": [
      "L = Layout('TA-Office.ini')\n",
      "L.dumpr()\n",
      "fig = plt.figure(figsize=(25,25))\n",
      "ax = fig.gca()\n",
      "fig,ax = L.showG(fig=fig,ax=ax,graph='s',labels=True,font_size=9,node_size=220,node_color='c')\n",
      "a = plt.axis('off')"
     ],
     "language": "python",
     "metadata": {},
     "outputs": [],
     "prompt_number": 20
    },
    {
     "cell_type": "markdown",
     "metadata": {},
     "source": [
      "Each node of $\\mathcal{G}_s$ with a negative index is a point. \n",
      "\n",
      "Each node of $\\mathcal{G}_s$ with a positive index corresponds to a segment (wall,door,window,...)."
     ]
    },
    {
     "cell_type": "markdown",
     "metadata": {},
     "source": [
      "The segment name is the key of the **slab** dictionnary."
     ]
    },
    {
     "cell_type": "markdown",
     "metadata": {},
     "source": [
      "[Multi Subsegments](MultiSubsegments.ipynb)"
     ]
    }
   ],
   "metadata": {}
  }
 ]
}