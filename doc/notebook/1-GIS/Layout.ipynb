{
 "metadata": {
  "name": "",
  "signature": "sha256:e0585c00ce2b31216252540926f964d95fe76f500eb06ce00bdeee797f25b13b"
 },
 "nbformat": 3,
 "nbformat_minor": 0,
 "worksheets": [
  {
   "cells": [
    {
     "cell_type": "markdown",
     "metadata": {},
     "source": [
      "# Description of the propagation environment"
     ]
    },
    {
     "cell_type": "code",
     "collapsed": false,
     "input": [
      "from IPython.core.display import HTML\n",
      "\n",
      "def css_styling():\n",
      "    styles = open(\"../styles/custom.css\", \"r\").read()\n",
      "    return HTML(styles)\n",
      "css_styling()"
     ],
     "language": "python",
     "metadata": {},
     "outputs": [
      {
       "html": [
        "<style>\n",
        "    @font-face {\n",
        "        font-family: \"Computer Modern\";\n",
        "        src: url('http://mirrors.ctan.org/fonts/cm-unicode/fonts/otf/cmunss.otf');\n",
        "    }\n",
        "    div.cell{\n",
        "        width:800px;\n",
        "        margin-left:16% !important;\n",
        "        margin-right:auto;\n",
        "    }\n",
        "    h1 {\n",
        "        font-family: Helvetica, serif;\n",
        "    }\n",
        "    h4{\n",
        "        margin-top:12px;\n",
        "        margin-bottom: 3px;\n",
        "       }\n",
        "    div.text_cell_render{\n",
        "        font-family: Computer Modern, \"Helvetica Neue\", Arial, Helvetica, Geneva, sans-serif;\n",
        "        line-height: 145%;\n",
        "        font-size: 130%;\n",
        "        width:800px;\n",
        "        margin-left:auto;\n",
        "        margin-right:auto;\n",
        "    }\n",
        "    .CodeMirror{\n",
        "            font-family: \"Source Code Pro\", source-code-pro,Consolas, monospace;\n",
        "    }\n",
        "    .prompt{\n",
        "        display: None;\n",
        "    }\n",
        "    .text_cell_render h5 {\n",
        "        font-weight: 300;\n",
        "        font-size: 22pt;\n",
        "        color: #4057A1;\n",
        "        font-style: italic;\n",
        "        margin-bottom: .5em;\n",
        "        margin-top: 0.5em;\n",
        "        display: block;\n",
        "    }\n",
        "    \n",
        "    .warning{\n",
        "        color: rgb( 240, 20, 20 )\n",
        "        }  \n",
        "</style>\n",
        "<script>\n",
        "    MathJax.Hub.Config({\n",
        "                        TeX: {\n",
        "                           extensions: [\"AMSmath.js\"]\n",
        "                           },\n",
        "                tex2jax: {\n",
        "                    inlineMath: [ ['$','$'], [\"\\\\(\",\"\\\\)\"] ],\n",
        "                    displayMath: [ ['$$','$$'], [\"\\\\[\",\"\\\\]\"] ]\n",
        "                },\n",
        "                displayAlign: 'center', // Change this to 'center' to center equations.\n",
        "                \"HTML-CSS\": {\n",
        "                    styles: {'.MathJax_Display': {\"margin\": 4}}\n",
        "                }\n",
        "        });\n",
        "</script>"
       ],
       "metadata": {},
       "output_type": "pyout",
       "prompt_number": 1,
       "text": [
        "<IPython.core.display.HTML at 0x7f91cdb41610>"
       ]
      }
     ],
     "prompt_number": 1
    },
    {
     "cell_type": "markdown",
     "metadata": {},
     "source": [
      "The `Layout` Class is a very important class of the pylayers platform. This class contains the data structure necessary for fast ray tracing inside Indoor environement. The class is implemented in the [`layout.py`](http://pylayers.github.io/pylayers/modules/pylayers.gis.layout.html)  module"
     ]
    },
    {
     "cell_type": "code",
     "collapsed": false,
     "input": [
      "from pylayers.gis.layout import *\n",
      "from IPython.display import Image\n",
      "import os\n",
      "%matplotlib inline"
     ],
     "language": "python",
     "metadata": {},
     "outputs": [],
     "prompt_number": 8
    },
    {
     "cell_type": "markdown",
     "metadata": {},
     "source": [
      "## Getting the list of all available Layouts : the `ls()` method"
     ]
    },
    {
     "cell_type": "markdown",
     "metadata": {},
     "source": [
      "The `ls()` method lists the layout file which are available in the `struc` directory of the current project."
     ]
    },
    {
     "cell_type": "code",
     "collapsed": false,
     "input": [
      "L=Layout()\n",
      "L.ls()"
     ],
     "language": "python",
     "metadata": {},
     "outputs": [
      {
       "metadata": {},
       "output_type": "pyout",
       "prompt_number": 9,
       "text": [
        "['DLR.ini',\n",
        " 'DLR2.ini',\n",
        " 'TA-Office.ini',\n",
        " 'W2PTIN.ini',\n",
        " 'WHERE1.ini',\n",
        " 'WHERE2.ini',\n",
        " 'd24.ini',\n",
        " 'defstr.ini',\n",
        " 'defstr3.ini',\n",
        " 'klepal.ini',\n",
        " 'nicta.ini',\n",
        " 'scat1.ini',\n",
        " 'scat2.ini',\n",
        " 'scattering.ini',\n",
        " 'test.ini']"
       ]
      }
     ],
     "prompt_number": 9
    },
    {
     "cell_type": "code",
     "collapsed": false,
     "input": [
      "L=Layout('TA-Office.ini')\n",
      "L"
     ],
     "language": "python",
     "metadata": {},
     "outputs": [
      {
       "metadata": {},
       "output_type": "pyout",
       "prompt_number": 16,
       "text": [
        "\n",
        "----------------\n",
        "TA-Office.ini\n",
        "Image('/home/uguen/Bureau/P1/struc/images/DLR4991.png')\n",
        "----------------\n",
        "\n",
        "Number of points  : 71\n",
        "Number of segments  : 94\n",
        "Number of sub segments  : 16\n",
        "Number of cycles  : 25\n",
        "Number of rooms  : 17\n",
        "degree 0 : []\n",
        "degree 1 : []\n",
        "degree 2 : 39\n",
        "degree 3 : 32\n",
        "\n",
        "xrange :(0.0, 40.0)\n",
        "yrange :(0.0, 15.0)\n",
        "\n",
        "Useful dictionnaries\n",
        "----------------\n",
        "dca {cycle : []} cycle with an airwall\n",
        "sl {slab name : slab dictionary}\n",
        "name :  {slab :seglist} \n",
        "\n",
        "Useful arrays\n",
        "----------------\n",
        "tsg : get segment index in Gs from tahe\n",
        "isss :  sub-segment index above Nsmax\n",
        "tgs : get segment index in tahe from Gs\n",
        "lsss : list of segments with sub-segment\n",
        "sla : list of all slab names (Nsmax+Nss+1)\n",
        "degree : degree of nodes "
       ]
      }
     ],
     "prompt_number": 16
    },
    {
     "cell_type": "code",
     "collapsed": false,
     "input": [
      "fig,ax=L.showG('s')"
     ],
     "language": "python",
     "metadata": {},
     "outputs": [
      {
       "metadata": {},
       "output_type": "display_data",
       "png": "[encoded data removed]",
       "text": [
        "<matplotlib.figure.Figure at 0x7f91a34ae950>"
       ]
      }
     ],
     "prompt_number": 14
    },
    {
     "cell_type": "code",
     "collapsed": false,
     "input": [
      "L=Layout('WHERE1.ini')\n",
      "L"
     ],
     "language": "python",
     "metadata": {},
     "outputs": [
      {
       "metadata": {},
       "output_type": "pyout",
       "prompt_number": 24,
       "text": [
        "\n",
        "----------------\n",
        "WHERE1.ini\n",
        "----------------\n",
        "\n",
        "Number of points  : 281\n",
        "Number of segments  : 357\n",
        "Number of sub segments  : 71\n",
        "Number of cycles  : 80\n",
        "Number of rooms  : 29\n",
        "degree 0 : [-3]\n",
        "degree 1 : [-270 -264 -236 -235 -206  -15]\n",
        "degree 2 : 143\n",
        "degree 3 : 128\n",
        "degree 4 : [-211 -177 -171]\n",
        "\n",
        "xrange :(-28.13, 31.749)\n",
        "yrange :(4.258, 16.839)\n",
        "\n",
        "Useful dictionnaries\n",
        "----------------\n",
        "dca {cycle : []} cycle with an airwall\n",
        "sl {slab name : slab dictionary}\n",
        "name :  {slab :seglist} \n",
        "\n",
        "Useful arrays\n",
        "----------------\n",
        "tsg : get segment index in Gs from tahe\n",
        "isss :  sub-segment index above Nsmax\n",
        "tgs : get segment index in tahe from Gs\n",
        "lsss : list of segments with sub-segment\n",
        "sla : list of all slab names (Nsmax+Nss+1)\n",
        "degree : degree of nodes "
       ]
      }
     ],
     "prompt_number": 24
    },
    {
     "cell_type": "markdown",
     "metadata": {},
     "source": [
      "This Layout is still in construction"
     ]
    },
    {
     "cell_type": "code",
     "collapsed": false,
     "input": [
      "f,a=L.showG('s',airwalls=False)"
     ],
     "language": "python",
     "metadata": {},
     "outputs": [
      {
       "metadata": {},
       "output_type": "display_data",
       "png": "[encoded data removed]",
       "text": [
        "<matplotlib.figure.Figure at 0x7f91a344d110>"
       ]
      }
     ],
     "prompt_number": 25
    },
    {
     "cell_type": "code",
     "collapsed": false,
     "input": [
      "L=Layout('W2PTIN.ini')\n",
      "L"
     ],
     "language": "python",
     "metadata": {},
     "outputs": [
      {
       "metadata": {},
       "output_type": "pyout",
       "prompt_number": 27,
       "text": [
        "\n",
        "----------------\n",
        "W2PTIN.ini\n",
        "Image('/home/uguen/Bureau/P1/struc/images/W2PTIN.png')\n",
        "----------------\n",
        "\n",
        "Number of points  : 185\n",
        "Number of segments  : 236\n",
        "Number of sub segments  : 11\n",
        "Number of cycles  : 0\n",
        "Number of rooms  : 0\n",
        "degree 0 : [-110 -109 -108 -103]\n",
        "degree 1 : [-80]\n",
        "degree 2 : 97\n",
        "degree 3 : 81\n",
        "degree 4 : [-127  -87]\n",
        "\n",
        "xrange :(-7.578, 30.217)\n",
        "yrange :(-7.642, 30.753)\n",
        "\n",
        "Useful dictionnaries\n",
        "----------------\n",
        "sl {slab name : slab dictionary}\n",
        "name :  {slab :seglist} \n",
        "\n",
        "Useful arrays\n",
        "----------------\n",
        "tsg : get segment index in Gs from tahe\n",
        "isss :  sub-segment index above Nsmax\n",
        "tgs : get segment index in tahe from Gs\n",
        "lsss : list of segments with sub-segment\n",
        "sla : list of all slab names (Nsmax+Nss+1)\n",
        "degree : degree of nodes "
       ]
      }
     ],
     "prompt_number": 27
    },
    {
     "cell_type": "code",
     "collapsed": false,
     "input": [
      " L.showG('s')"
     ],
     "language": "python",
     "metadata": {},
     "outputs": [
      {
       "metadata": {},
       "output_type": "pyout",
       "prompt_number": 28,
       "text": [
        "(<matplotlib.figure.Figure at 0x7f91a3a9f390>,\n",
        " <matplotlib.axes.AxesSubplot at 0x7f91a2e88450>)"
       ]
      },
      {
       "metadata": {},
       "output_type": "display_data",
       "png": "[encoded data removed]",
       "text": [
        "<matplotlib.figure.Figure at 0x7f91a3a9f390>"
       ]
      }
     ],
     "prompt_number": 28
    },
    {
     "cell_type": "markdown",
     "metadata": {},
     "source": [
      "## The useful numpy arrays of the Layout"
     ]
    },
    {
     "cell_type": "markdown",
     "metadata": {},
     "source": [
      "## `pt` the array of points"
     ]
    },
    {
     "cell_type": "markdown",
     "metadata": {},
     "source": [
      "point coordinates are stored in two places : \n",
      "\n",
      "    L.Gs.pos : in a dictionnary form (key is the point negative index) \n",
      "    L.pt : in a numpy array"
     ]
    },
    {
     "cell_type": "code",
     "collapsed": false,
     "input": [
      "print np.shape(L.pt)\n",
      "print len(filter(lambda x: x<0,L.Gs.pos))"
     ],
     "language": "python",
     "metadata": {},
     "outputs": []
    },
    {
     "cell_type": "markdown",
     "metadata": {},
     "source": [
      "This dual storage is chosen (temporarily ? ) for computational efficiency reason. The \n",
      "priority goes to the graph and the numpy array is calculated at the end of the edition in the `Layout.g2npy`\n",
      "method (graph to numpy) which is in charge of the conversion. \n"
     ]
    },
    {
     "cell_type": "markdown",
     "metadata": {},
     "source": [
      "### tahe (tail-head)"
     ]
    },
    {
     "cell_type": "markdown",
     "metadata": {},
     "source": [
      "`tahe` is a $(2\\times N_{s})$  where $N_s$ denotes the number of segment. The first line  is the tail index of the segment $k$ and the second line is the head of the segment $k$. Where $k$ is the index of a given segment (starting in 0). "
     ]
    },
    {
     "cell_type": "markdown",
     "metadata": {},
     "source": [
      "## `tgs` : trancodage from graph indexing to numpy array indexing"
     ]
    },
    {
     "cell_type": "markdown",
     "metadata": {},
     "source": [
      "`tgs` is an arry with length $N_s$+1. The index 0 is not used because none segment has 0 as an index. "
     ]
    },
    {
     "cell_type": "code",
     "collapsed": false,
     "input": [
      "ns = 5\n",
      "utahe = L.tgs[ns]"
     ],
     "language": "python",
     "metadata": {},
     "outputs": [],
     "prompt_number": 29
    },
    {
     "cell_type": "code",
     "collapsed": false,
     "input": [
      "tahe =  L.tahe[:,utahe]"
     ],
     "language": "python",
     "metadata": {},
     "outputs": [],
     "prompt_number": 30
    },
    {
     "cell_type": "code",
     "collapsed": false,
     "input": [
      "ptail = L.pt[:,tahe[0]]\n",
      "phead = L.pt[:,tahe[1]]"
     ],
     "language": "python",
     "metadata": {},
     "outputs": [],
     "prompt_number": 31
    },
    {
     "cell_type": "code",
     "collapsed": false,
     "input": [
      "print ptail"
     ],
     "language": "python",
     "metadata": {},
     "outputs": [
      {
       "output_type": "stream",
       "stream": "stdout",
       "text": [
        "[ 29.785   6.822]\n"
       ]
      }
     ],
     "prompt_number": 32
    },
    {
     "cell_type": "code",
     "collapsed": false,
     "input": [
      "print phead "
     ],
     "language": "python",
     "metadata": {},
     "outputs": [
      {
       "output_type": "stream",
       "stream": "stdout",
       "text": [
        "[ 27.414   6.822]\n"
       ]
      }
     ],
     "prompt_number": 33
    },
    {
     "cell_type": "code",
     "collapsed": false,
     "input": [
      "L.Gs.node[5]"
     ],
     "language": "python",
     "metadata": {},
     "outputs": [
      {
       "metadata": {},
       "output_type": "pyout",
       "prompt_number": 34,
       "text": [
        "{'connect': [-8, -139],\n",
        " 'name': 'PARTITION',\n",
        " 'ncycles': [],\n",
        " 'norm': array([ 0., -1.,  0.]),\n",
        " 'transition': False,\n",
        " 'z': (0, 3.0)}"
       ]
      }
     ],
     "prompt_number": 34
    },
    {
     "cell_type": "code",
     "collapsed": false,
     "input": [
      "print L.Gs.pos[-8]\n",
      "print L.Gs.pos[-139]"
     ],
     "language": "python",
     "metadata": {},
     "outputs": [
      {
       "output_type": "stream",
       "stream": "stdout",
       "text": [
        "(29.785, 6.822)\n",
        "(27.414, 6.822)\n"
       ]
      }
     ],
     "prompt_number": 35
    },
    {
     "cell_type": "code",
     "collapsed": false,
     "input": [
      "aseg = np.array([4,7,134])"
     ],
     "language": "python",
     "metadata": {},
     "outputs": [],
     "prompt_number": 36
    },
    {
     "cell_type": "code",
     "collapsed": false,
     "input": [
      "print np.shape(aseg)"
     ],
     "language": "python",
     "metadata": {},
     "outputs": [
      {
       "output_type": "stream",
       "stream": "stdout",
       "text": [
        "(3,)\n"
       ]
      }
     ],
     "prompt_number": 37
    },
    {
     "cell_type": "code",
     "collapsed": false,
     "input": [
      "pt  = L.tahe[:,L.tgs[aseg]][0,:]\n",
      "ph = L.tahe[:,L.tgs[aseg]][1,:]\n",
      "pth = np.vstack((pt,ph))"
     ],
     "language": "python",
     "metadata": {},
     "outputs": [],
     "prompt_number": 38
    },
    {
     "cell_type": "code",
     "collapsed": false,
     "input": [
      "np.shape(pth)"
     ],
     "language": "python",
     "metadata": {},
     "outputs": [
      {
       "metadata": {},
       "output_type": "pyout",
       "prompt_number": 39,
       "text": [
        "(2, 3)"
       ]
      }
     ],
     "prompt_number": 39
    },
    {
     "cell_type": "markdown",
     "metadata": {},
     "source": [
      "## `Layout.seg2pts` a function for getting points coordinates from segment number array"
     ]
    },
    {
     "cell_type": "code",
     "collapsed": false,
     "input": [
      "L.seg2pts(aseg)"
     ],
     "language": "python",
     "metadata": {},
     "outputs": [
      {
       "metadata": {},
       "output_type": "pyout",
       "prompt_number": 40,
       "text": [
        "array([[ 29.785,  -3.754,  22.538],\n",
        "       [  6.822,  23.078,   8.711],\n",
        "       [ 29.785,   0.044,  20.326],\n",
        "       [  8.921,  23.078,   8.693]])"
       ]
      }
     ],
     "prompt_number": 40
    },
    {
     "cell_type": "code",
     "collapsed": false,
     "input": [
      "aseg = array(filter(lambda x: x>0,L.Gs.nodes()))\n",
      "pth = L.seg2pts(aseg)"
     ],
     "language": "python",
     "metadata": {},
     "outputs": [],
     "prompt_number": 41
    },
    {
     "cell_type": "code",
     "collapsed": false,
     "input": [
      "from pylayers.util.plotutil import displot"
     ],
     "language": "python",
     "metadata": {},
     "outputs": [],
     "prompt_number": 42
    },
    {
     "cell_type": "code",
     "collapsed": false,
     "input": [
      "displot(pth[0:2,:],pth[2:,:])\n",
      "plt.axis('off')"
     ],
     "language": "python",
     "metadata": {},
     "outputs": [
      {
       "metadata": {},
       "output_type": "pyout",
       "prompt_number": 44,
       "text": [
        "(-10.0, 35.0, -10.0, 35.0)"
       ]
      },
      {
       "metadata": {},
       "output_type": "display_data",
       "png": "[encoded data removed]",
       "text": [
        "<matplotlib.figure.Figure at 0x7f91a13548d0>"
       ]
      }
     ],
     "prompt_number": 44
    }
   ],
   "metadata": {}
  }
 ]
}