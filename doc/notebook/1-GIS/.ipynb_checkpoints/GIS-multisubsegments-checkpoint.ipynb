{
 "metadata": {
  "name": "",
  "signature": "sha256:e96ebee6019f1230f29ffa095254c5c32ef8073450ed66e1d7fad2bf17f45529"
 },
 "nbformat": 3,
 "nbformat_minor": 0,
 "worksheets": [
  {
   "cells": [
    {
     "cell_type": "markdown",
     "metadata": {},
     "source": [
      "### Segment and  sub-segments"
     ]
    },
    {
     "cell_type": "code",
     "collapsed": false,
     "input": [
      "from pylayers.simul.simulem import *\n",
      "from pylayers.antprop.rays import *\n",
      "from pylayers.gis.layout import *\n",
      "from pylayers.antprop.signature import *\n",
      "import pylayers.signal.bsignal as bs\n",
      "import pylayers.signal.waveform as wvf \n",
      "from pylayers.simul.simulem import *\n",
      "import matplotlib.pyplot as plt "
     ],
     "language": "python",
     "metadata": {},
     "outputs": [
      {
       "metadata": {},
       "output_type": "display_data",
       "text": [
        "<matplotlib.figure.Figure at 0x9846b10>"
       ]
      }
     ],
     "prompt_number": 1
    },
    {
     "cell_type": "code",
     "collapsed": false,
     "input": [
      "S = Simul()\n",
      "filestr = 'defstr3'\n",
      "S.layout(filestr+'.ini','matDB.ini','slabDB.ini')"
     ],
     "language": "python",
     "metadata": {},
     "outputs": [],
     "prompt_number": 2
    },
    {
     "cell_type": "markdown",
     "metadata": {},
     "source": [
      "The studied configuration is composed of a simple 2 rooms building separated by a subsegment which has a multi subsegment attribute. The attribute of the subsegment can be changed  with the method `chgmss` (change multisubsegment) "
     ]
    },
    {
     "cell_type": "code",
     "collapsed": false,
     "input": [
      "S.L.chgmss(1,ss_name=['WOOD','AIR','WOOD'],ss_z =[(0.0,2.7),(2.7,2.8),(2.8,3)])\n",
      "S.L.build()\n",
      "S.L.save()"
     ],
     "language": "python",
     "metadata": {},
     "outputs": [
      {
       "output_type": "stream",
       "stream": "stdout",
       "text": [
        "structure saved in  defstr3.str2\n",
        "structure saved in  defstr3.ini\n"
       ]
      }
     ],
     "prompt_number": 3
    },
    {
     "cell_type": "markdown",
     "metadata": {},
     "source": [
      "The $\\mathcal{G}_s$ graph dictionnary has the following structure"
     ]
    },
    {
     "cell_type": "code",
     "collapsed": false,
     "input": [
      "S.L.Gs.node"
     ],
     "language": "python",
     "metadata": {},
     "outputs": [
      {
       "metadata": {},
       "output_type": "pyout",
       "prompt_number": 4,
       "text": [
        "{-8: {},\n",
        " -7: {},\n",
        " -6: {},\n",
        " -5: {},\n",
        " -4: {},\n",
        " -3: {},\n",
        " -2: {},\n",
        " -1: {},\n",
        " 1: {'connect': [-8, -7],\n",
        "  'name': 'PARTITION',\n",
        "  'ncycles': [0, 1],\n",
        "  'norm': array([-0.999982  , -0.00599989,  0.        ]),\n",
        "  'ss_name': ['WOOD', 'AIR', 'WOOD'],\n",
        "  'ss_z': [(0.0, 2.7), (2.7, 2.8), (2.8, 3)],\n",
        "  'transition': True,\n",
        "  'z': (0.0, 3.0)},\n",
        " 2: {'connect': [-8, -2],\n",
        "  'name': 'WALL',\n",
        "  'ncycles': [0, 1],\n",
        "  'norm': array([ 0.99997778,  0.00666652,  0.        ]),\n",
        "  'transition': False,\n",
        "  'z': (0.0, 3.0)},\n",
        " 3: {'connect': [-7, -5],\n",
        "  'name': 'WALL',\n",
        "  'ncycles': [0, 1],\n",
        "  'norm': array([-0.99997775, -0.00667097,  0.        ]),\n",
        "  'transition': False,\n",
        "  'z': (0.0, 3.0)},\n",
        " 4: {'connect': [-6, -1],\n",
        "  'name': 'WALL',\n",
        "  'ncycles': [1],\n",
        "  'norm': array([ 0.99997888,  0.00649986,  0.        ]),\n",
        "  'transition': False,\n",
        "  'z': (0.0, 3.0)},\n",
        " 5: {'connect': [-6, -5],\n",
        "  'name': 'WALL',\n",
        "  'ncycles': [1],\n",
        "  'norm': array([-0.00619988,  0.99998078,  0.        ]),\n",
        "  'transition': False,\n",
        "  'z': (0.0, 3.0)},\n",
        " 6: {'connect': [-5, -4],\n",
        "  'name': 'WALL',\n",
        "  'ncycles': [0],\n",
        "  'norm': array([-0.00639987,  0.99997952,  0.        ]),\n",
        "  'transition': False,\n",
        "  'z': (0.0, 3.0)},\n",
        " 7: {'connect': [-4, -3],\n",
        "  'name': 'WALL',\n",
        "  'ncycles': [0],\n",
        "  'norm': array([ 0.99997887,  0.00650149,  0.        ]),\n",
        "  'transition': False,\n",
        "  'z': (0.0, 3.0)},\n",
        " 8: {'connect': [-3, -2],\n",
        "  'name': 'WALL',\n",
        "  'ncycles': [0],\n",
        "  'norm': array([ 0.00639987, -0.99997952,  0.        ]),\n",
        "  'transition': False,\n",
        "  'z': (0.0, 3.0)},\n",
        " 9: {'connect': [-1, -2],\n",
        "  'name': 'WALL',\n",
        "  'ncycles': [1],\n",
        "  'norm': array([-0.00639987,  0.99997952,  0.        ]),\n",
        "  'transition': False,\n",
        "  'z': (0.0, 3.0)}}"
       ]
      }
     ],
     "prompt_number": 4
    },
    {
     "cell_type": "markdown",
     "metadata": {},
     "source": []
    },
    {
     "cell_type": "code",
     "collapsed": false,
     "input": [
      "S.info()"
     ],
     "language": "python",
     "metadata": {},
     "outputs": [
      {
       "output_type": "stream",
       "stream": "stdout",
       "text": [
        "default.ini\n",
        "------------------------------------------\n",
        "Layout Info : \n",
        "filestr :  defstr3.ini\n",
        "filematini :  matDB.ini\n",
        "fileslabini :  slabDB.ini\n",
        "filegeom :  defstr3.off\n",
        "boundaries  (758.49, 768.516, 1111.9, 1115.963)\n",
        "number of Points : 8\n",
        "number of Segments : 9\n",
        "number of Sub-Segments : 3\n",
        "Gs Nodes :  17\n",
        "Gs Edges :  18\n",
        "Gt Nodes :  2\n",
        "Gt Edges :  1\n",
        "vnodes = Gt.node[Nc]['cycles'].cycle \n",
        "poly = Gt.node[Nc]['cycle'].polyg \n",
        "Gr Nodes    : 2\n",
        "Gr Edges    : 1\n",
        "Nc  = Gr.node[nroom]['cycles']  \n",
        "None\n",
        "Tx Info :\n",
        "npos       :  1\n",
        "position   :  [[  7.59000000e+02]\n",
        " [  1.11400000e+03]\n",
        " [  1.00000000e+00]]\n",
        "name       :  \n",
        "type       :  tx\n",
        "fileini    :  radiotx.ini\n",
        "filespa    :  radiotx.spa\n",
        "filegeom   :  radiotx.off\n",
        "fileant    :  defant.vsh3\n",
        "filestr    :  defstr3.str\n",
        "None\n",
        "Rx Info :\n",
        "npos       :  1\n",
        "position   :  [[  767. ]\n",
        " [ 1114. ]\n",
        " [    1.5]]\n",
        "name       :  \n",
        "type       :  rx\n",
        "fileini    :  radiorx.ini\n",
        "filespa    :  radiorx.spa\n",
        "filegeom   :  radiorx.off\n",
        "fileant    :  defant.vsh3\n",
        "filestr    :  defstr3.str\n",
        "None\n"
       ]
      }
     ],
     "prompt_number": 5
    },
    {
     "cell_type": "code",
     "collapsed": false,
     "input": [
      "S.tx.clear()\n",
      "S.rx.clear()\n",
      "\n",
      "# \n",
      "tx=np.array([759,1114,1.0])\n",
      "rx=np.array([767,1114,1.5])\n",
      "#\n",
      "S.tx.point(tx)\n",
      "S.rx.point(rx)\n",
      "# getting cycles from tx \n",
      "ctx = S.L.pt2cy(S.tx.position[:,0])\n",
      "# getting cycles from rx \n",
      "crx = S.L.pt2cy(S.rx.position[:,0])\n",
      "f,a = S.show()\n"
     ],
     "language": "python",
     "metadata": {},
     "outputs": [
      {
       "output_type": "stream",
       "stream": "stdout",
       "text": [
        "Warning : no furniture file loaded\n"
       ]
      },
      {
       "metadata": {},
       "output_type": "display_data",
       "png": "[encoded data removed]",
       "text": [
        "<matplotlib.figure.Figure at 0x7f6aa13a5410>"
       ]
      }
     ],
     "prompt_number": 6
    },
    {
     "cell_type": "code",
     "collapsed": false,
     "input": [
      "fGHz=np.arange(2,6,0.5)\n",
      "wav = wvf.Waveform(fcGHz=4,bandGHz=1.5)\n",
      "wav.show()"
     ],
     "language": "python",
     "metadata": {},
     "outputs": [
      {
       "metadata": {},
       "output_type": "display_data",
       "png": "[encoded data removed]",
       "text": [
        "<matplotlib.figure.Figure at 0x9a5dfd0>"
       ]
      }
     ],
     "prompt_number": 7
    },
    {
     "cell_type": "markdown",
     "metadata": {},
     "source": [
      "The different steps are :"
     ]
    },
    {
     "cell_type": "markdown",
     "metadata": {},
     "source": [
      "+ determine the signatures\n",
      "+ determine the 2d rays \n",
      "+ determine the 3d rays \n",
      "+ determine local basis on 3D rays\n",
      "+ fill interactions \n"
     ]
    },
    {
     "cell_type": "code",
     "collapsed": false,
     "input": [
      "Si = Signatures(S.L,ctx,crx)\n",
      "Si.run4(cutoff=5)\n",
      "r2d = Si.rays(tx,rx)\n",
      "r3d = r2d.to3D(S.L)\n",
      "r3d.locbas(S.L)\n",
      "r3d.fillinter(S.L)"
     ],
     "language": "python",
     "metadata": {},
     "outputs": [],
     "prompt_number": 8
    },
    {
     "cell_type": "heading",
     "level": 2,
     "metadata": {},
     "source": [
      "Channel variability due to different `Layout` constitutive materials"
     ]
    },
    {
     "cell_type": "code",
     "collapsed": false,
     "input": [
      "r3d"
     ],
     "language": "python",
     "metadata": {},
     "outputs": [
      {
       "metadata": {},
       "output_type": "pyout",
       "prompt_number": 9,
       "text": [
        "Rays3D\n",
        "----------\n",
        "1 / 1 : [0]\n",
        "2 / 6 : [1 2 3 4 5 6]\n",
        "3 / 18 : [ 7  8  9 10 11 12 13 14 15 16 17 18 19 20 21 22 23 24]\n",
        "4 / 37 : [25 26 27 28 29 30 31 32 33 34 35 36 37 38 39 40 41 42 43 44 45 46 47 48 49\n",
        " 50 51 52 53 54 55 56 57 58 59 60 61]\n",
        "5 / 57 : [ 62  63  64  65  66  67  68  69  70  71  72  73  74  75  76  77  78  79\n",
        "  80  81  82  83  84  85  86  87  88  89  90  91  92  93  94  95  96  97\n",
        "  98  99 100 101 102 103 104 105 106 107 108 109 110 111 112 113 114 115\n",
        " 116 117 118]\n",
        "6 / 71 : [119 120 121 122 123 124 125 126 127 128 129 130 131 132 133 134 135 136\n",
        " 137 138 139 140 141 142 143 144 145 146 147 148 149 150 151 152 153 154\n",
        " 155 156 157 158 159 160 161 162 163 164 165 166 167 168 169 170 171 172\n",
        " 173 174 175 176 177 178 179 180 181 182 183 184 185 186 187 188 189]\n",
        "7 / 67 : [190 191 192 193 194 195 196 197 198 199 200 201 202 203 204 205 206 207\n",
        " 208 209 210 211 212 213 214 215 216 217 218 219 220 221 222 223 224 225\n",
        " 226 227 228 229 230 231 232 233 234 235 236 237 238 239 240 241 242 243\n",
        " 244 245 246 247 248 249 250 251 252 253 254 255 256]\n",
        "8 / 44 : [257 258 259 260 261 262 263 264 265 266 267 268 269 270 271 272 273 274\n",
        " 275 276 277 278 279 280 281 282 283 284 285 286 287 288 289 290 291 292\n",
        " 293 294 295 296 297 298 299 300]\n",
        "9 / 14 : [301 302 303 304 305 306 307 308 309 310 311 312 313 314]\n",
        "-----\n",
        "ni : 1873\n",
        "nl : 4061\n"
       ]
      }
     ],
     "prompt_number": 9
    },
    {
     "cell_type": "code",
     "collapsed": false,
     "input": [
      "layer = ['AIR','AIR','AIR']\n",
      "S.L.chgmss(1,ss_name=layer)\n",
      "S.L.Gs.node[1]['ss_name']=layer\n",
      "S.L.g2npy()\n",
      "# graph to numpy \n",
      "r3d.fillinter(S.L,append=True)\n",
      "Cair = r3d.eval(fGHz)\n",
      "scair = Cair.prop2tran(a='theta',b='theta')\n",
      "cirair = scair.applywavB(wav.sfg)\n",
      "#cirair = evcir(r3d,wav)\n",
      "fig,ax = cirair.plot(typ=['v'],xmin=20,xmax=60)\n",
      "title = plt.title(str(layer))"
     ],
     "language": "python",
     "metadata": {},
     "outputs": [
      {
       "metadata": {},
       "output_type": "display_data",
       "png": "[encoded data removed]",
       "text": [
        "<matplotlib.figure.Figure at 0x7f6a95078350>"
       ]
      }
     ],
     "prompt_number": 10
    },
    {
     "cell_type": "code",
     "collapsed": false,
     "input": [
      "type(cirair)"
     ],
     "language": "python",
     "metadata": {},
     "outputs": [],
     "prompt_number": 11
    },
    {
     "cell_type": "code",
     "collapsed": false,
     "input": [
      "layer = ['PARTITION','PARTITION','PARTITION']\n",
      "S.L.chgmss(1,ss_name=layer)\n",
      "S.L.Gs.node[1]['ss_name']=layer\n",
      "S.L.g2npy()\n",
      "# graph to numpy \n",
      "r3d.fillinter(S.L,append=True)\n",
      "Cwood=r3d.eval(fGHz)\n",
      "scwood=Cwood.prop2tran(a='theta',b='theta')\n",
      "cirwood = scwood.applywavB(wav.sfg)\n",
      "cirwood.plot(typ=['v'],xmin=20,xmax=60)\n",
      "plt.title(str(layer))"
     ],
     "language": "python",
     "metadata": {},
     "outputs": [],
     "prompt_number": 12
    },
    {
     "cell_type": "code",
     "collapsed": false,
     "input": [
      "layer = ['METAL','METAL','METAL']\n",
      "S.L.chgmss(1,ss_name=layer)\n",
      "S.L.Gs.node[1]['ss_name']=layer\n",
      "# graph to numpy \n",
      "S.L.g2npy()\n",
      "r3d.fillinter(S.L,append=True)\n",
      "Cmetal=r3d.eval(fGHz)\n",
      "scmetal=Cmetal.prop2tran(a='theta',b='theta')\n",
      "cirmetal = scmetal.applywavB(wav.sfg)\n",
      "cirmetal.plot(typ=['v'],xmin=20,xmax=60)\n",
      "plt.title(str(layer))\n",
      "plt.show()"
     ],
     "language": "python",
     "metadata": {},
     "outputs": [],
     "prompt_number": 13
    },
    {
     "cell_type": "code",
     "collapsed": false,
     "input": [
      "#fig2=plt.figure()\n",
      "f,a=cirair.plot(typ=['l20'],color='b')\n",
      "plt.axis([0,120,-120,-40])\n",
      "plt.title('A simple illustration of shadowing effect')\n",
      "plt.legend(['air'])\n",
      "f,a=cirwood.plot(typ=['l20'],color='k')\n",
      "plt.axis([0,120,-120,-40])\n",
      "plt.legend(['wood'])\n",
      "f,a=cirmetal.plot(typ=['l20'],color='r')\n",
      "plt.axis([0,120,-120,-40])\n",
      "plt.legend(['metal'])"
     ],
     "language": "python",
     "metadata": {},
     "outputs": [],
     "prompt_number": 14
    }
   ],
   "metadata": {}
  }
 ]
}