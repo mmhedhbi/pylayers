{
 "metadata": {
  "name": ""
 },
 "nbformat": 3,
 "nbformat_minor": 0,
 "worksheets": [
  {
   "cells": [
    {
     "cell_type": "heading",
     "level": 1,
     "metadata": {},
     "source": [
      "Algebraic Localization Class"
     ]
    },
    {
     "cell_type": "markdown",
     "metadata": {},
     "source": [
      "For localization in the plane it is important not to provide the z coordinates. Otherwise \n",
      "a singularity problem arises. "
     ]
    },
    {
     "cell_type": "code",
     "collapsed": false,
     "input": [
      "import numpy as np\n",
      "from pylayers.location.algebraic.algebraic  import *\n"
     ],
     "language": "python",
     "metadata": {},
     "outputs": [],
     "prompt_number": 1
    },
    {
     "cell_type": "code",
     "collapsed": false,
     "input": [
      "c = 0.2997924583\n",
      "nodes={}\n",
      "ldp={}\n",
      "p1 = np.array([-1,-1])\n",
      "p2 = np.array([1,-1])\n",
      "p3 = np.array([0,1])\n",
      "nodes['BN'] = np.array([[0],[0]])\n",
      "nodes['RN_TOA']=np.vstack((p1,p2,p3)).T\n",
      "ldp['TOA']=np.array([np.sqrt(2),np.sqrt(2),1])\n",
      "ldp['TOA_std']=np.array([1,1,1])\n",
      "Alg = algloc(nodes,ldp)"
     ],
     "language": "python",
     "metadata": {},
     "outputs": [],
     "prompt_number": 2
    },
    {
     "cell_type": "code",
     "collapsed": false,
     "input": [
      "print ldp\n",
      "Alg.plot()"
     ],
     "language": "python",
     "metadata": {},
     "outputs": [],
     "prompt_number": 3
    },
    {
     "cell_type": "code",
     "collapsed": false,
     "input": [
      "pest = Alg.ls_locate(toa=True,tdoa=False,rss=False)"
     ],
     "language": "python",
     "metadata": {},
     "outputs": [],
     "prompt_number": 4
    },
    {
     "cell_type": "code",
     "collapsed": false,
     "input": [
      "Alg.plot()"
     ],
     "language": "python",
     "metadata": {},
     "outputs": [],
     "prompt_number": 5
    },
    {
     "cell_type": "code",
     "collapsed": false,
     "input": [
      "pest"
     ],
     "language": "python",
     "metadata": {},
     "outputs": [],
     "prompt_number": 6
    },
    {
     "cell_type": "code",
     "collapsed": false,
     "input": [
      "Alg"
     ],
     "language": "python",
     "metadata": {},
     "outputs": [],
     "prompt_number": 7
    },
    {
     "cell_type": "code",
     "collapsed": false,
     "input": [],
     "language": "python",
     "metadata": {},
     "outputs": [],
     "prompt_number": 8
    }
   ],
   "metadata": {}
  }
 ]
}
