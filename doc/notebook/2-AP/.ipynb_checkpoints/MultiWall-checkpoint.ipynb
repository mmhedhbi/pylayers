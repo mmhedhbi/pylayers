{
 "metadata": {
  "name": "",
  "signature": "sha256:9fc04c4b6bc3492f209dae9b664af61f1314b7aaedc11fb705ec8d5d1ab061c8"
 },
 "nbformat": 3,
 "nbformat_minor": 0,
 "worksheets": [
  {
   "cells": [
    {
     "cell_type": "code",
     "collapsed": false,
     "input": [
      "from IPython.core.display import HTML\n",
      "\n",
      "def css_styling():\n",
      "    styles = open(\"../styles/custom.css\", \"r\").read()\n",
      "    return HTML(styles)\n",
      "css_styling()"
     ],
     "language": "python",
     "metadata": {},
     "outputs": [],
     "prompt_number": 1
    },
    {
     "cell_type": "markdown",
     "metadata": {},
     "source": [
      "# Multi-wall model "
     ]
    },
    {
     "cell_type": "code",
     "collapsed": false,
     "input": [
      "import time\n",
      "from pylayers.util.project import *\n",
      "import pylayers.util.pyutil as pyu\n",
      "from pylayers.util.utilnet import str2bool\n",
      "from pylayers.gis.layout import Layout\n",
      "from pylayers.antprop.multiwall import *\n",
      "from pylayers.antprop.coverage import *\n",
      "from pylayers.network.model import *"
     ],
     "language": "python",
     "metadata": {},
     "outputs": [],
     "prompt_number": 2
    },
    {
     "cell_type": "markdown",
     "metadata": {},
     "source": [
      "The layout is loaded from an ini file. If the graphs are not available, they are built."
     ]
    },
    {
     "cell_type": "code",
     "collapsed": false,
     "input": [
      "L=Layout('TA-Office.ini')"
     ],
     "language": "python",
     "metadata": {},
     "outputs": [],
     "prompt_number": 3
    },
    {
     "cell_type": "markdown",
     "metadata": {},
     "source": [
      "## Defining a radio link"
     ]
    },
    {
     "cell_type": "markdown",
     "metadata": {},
     "source": [
      "The 2 extremities of the radio link are coordinates in `numpy.array` of transmitter and receiver. \n",
      "\n",
      "+ A a radio node\n",
      "\n",
      "+ B a radio node\n",
      "\n"
     ]
    },
    {
     "cell_type": "code",
     "collapsed": false,
     "input": [
      "A=np.array((4,1)) # defining transmitter position \n",
      "B=np.array((30,12)) # defining receiver position"
     ],
     "language": "python",
     "metadata": {},
     "outputs": [],
     "prompt_number": 4
    },
    {
     "cell_type": "heading",
     "level": 2,
     "metadata": {},
     "source": [
      "Ploting the scene"
     ]
    },
    {
     "cell_type": "markdown",
     "metadata": {},
     "source": [
      "The scene is plotted with the `showG` method of the Layout"
     ]
    },
    {
     "cell_type": "code",
     "collapsed": false,
     "input": [
      "# figure instanciation\n",
      "f = plt.figure(figsize=(25,25))\n",
      "ax = f.add_subplot(111)\n",
      "r = np.array((A,B))\n",
      "# plotting the Layout\n",
      "f,ax = L.showG(fig=f,ax=ax,graph='s',nodes=False)\n",
      "# plotting the Tx and Rx\n",
      "ax.plot(A[0],A[1],'ob')\n",
      "ax.plot(B[0],B[1],'or')\n",
      "# plotting the LOS\n",
      "ax.plot(r[:,0],r[:,1])\n",
      "a = plt.axis('off')"
     ],
     "language": "python",
     "metadata": {},
     "outputs": [],
     "prompt_number": 5
    },
    {
     "cell_type": "markdown",
     "metadata": {},
     "source": [
      "### Finding the intersection between the \"direct\" path and the walls\n",
      "\n",
      "\n",
      "The function `angleonlink` returns the list of intersected segments and the corresponding incidence angles (in radians) with respect to the segment normal."
     ]
    },
    {
     "cell_type": "code",
     "collapsed": false,
     "input": [
      "%pdef L.angleonlink"
     ],
     "language": "python",
     "metadata": {},
     "outputs": [],
     "prompt_number": 6
    },
    {
     "cell_type": "code",
     "collapsed": false,
     "input": [
      "data=L.angleonlink(A,B)"
     ],
     "language": "python",
     "metadata": {},
     "outputs": [],
     "prompt_number": 7
    },
    {
     "cell_type": "markdown",
     "metadata": {},
     "source": [
      "### Computing the Multi-wall model\n",
      "\n",
      "The multi-wall model computation returns losses and LOS excess delay for orthogonal and parallel polarization"
     ]
    },
    {
     "cell_type": "code",
     "collapsed": false,
     "input": [
      "fGHz = 2.4\n",
      "# observation grid\n",
      "\n",
      "r = np.array((B,B))\n",
      "\n",
      "Lwo,Lwp,Edo,Edp = Losst(L,fGHz,r.T,A)\n",
      "\n",
      "print 'Losses orthogonal polarization \\t %g dB' %(Lwo[0][0])\n",
      "print 'Losses parallel polarization \\t %g  dB' % (Lwp[0][0])\n",
      "print 'Excess delay orthogonal polarization  \\t %g ns' %(Edo[0][0])\n",
      "print 'Excess delay parallel polarization   \\t %g ns' %(Edp[0][0])"
     ],
     "language": "python",
     "metadata": {},
     "outputs": [],
     "prompt_number": 8
    },
    {
     "cell_type": "markdown",
     "metadata": {},
     "source": [
      "# Coverage class"
     ]
    },
    {
     "cell_type": "markdown",
     "metadata": {},
     "source": [
      "By extension, the multi-wall model can also be used to perform a full coverage of a Layout given a transmitter position."
     ]
    },
    {
     "cell_type": "code",
     "collapsed": false,
     "input": [
      "C = Coverage()\n",
      "C.L  = L # set layout\n",
      "C.tx = A # set the transmitter"
     ],
     "language": "python",
     "metadata": {},
     "outputs": [],
     "prompt_number": 9
    },
    {
     "cell_type": "code",
     "collapsed": false,
     "input": [
      "C.L"
     ],
     "language": "python",
     "metadata": {},
     "outputs": [],
     "prompt_number": 10
    },
    {
     "cell_type": "code",
     "collapsed": false,
     "input": [
      "C.creategrid()"
     ],
     "language": "python",
     "metadata": {},
     "outputs": [],
     "prompt_number": 11
    },
    {
     "cell_type": "markdown",
     "metadata": {},
     "source": [
      "The coverage is performed on grid. The boundaries can be specified in the coverage.ini file "
     ]
    },
    {
     "cell_type": "markdown",
     "metadata": {},
     "source": [
      "### Compute the coverage"
     ]
    },
    {
     "cell_type": "code",
     "collapsed": false,
     "input": [
      "t1=time.time()\n",
      "C.cover()\n",
      "t2=time.time()\n",
      "print 'Coverage performed in ', t2-t1, 's'"
     ],
     "language": "python",
     "metadata": {},
     "outputs": [],
     "prompt_number": 12
    },
    {
     "cell_type": "markdown",
     "metadata": {},
     "source": [
      "### Coverage Map"
     ]
    },
    {
     "cell_type": "markdown",
     "metadata": {},
     "source": [
      "For Orthogonal polarization"
     ]
    },
    {
     "cell_type": "code",
     "collapsed": false,
     "input": [
      "fig1=plt.figure(figsize=(10,10))\n",
      "C.show(typ='pr',fig=fig1)"
     ],
     "language": "python",
     "metadata": {},
     "outputs": [],
     "prompt_number": 13
    },
    {
     "cell_type": "markdown",
     "metadata": {},
     "source": [
      "For parallel polarization"
     ]
    },
    {
     "cell_type": "code",
     "collapsed": false,
     "input": [
      "C.cover(snr=False,sinr=False,polar='p')\n",
      "fig1=plt.figure(figsize=(10,10))\n",
      "C.show(typ='pr',fig=fig1)"
     ],
     "language": "python",
     "metadata": {},
     "outputs": [],
     "prompt_number": 14
    },
    {
     "cell_type": "code",
     "collapsed": false,
     "input": [],
     "language": "python",
     "metadata": {},
     "outputs": [],
     "prompt_number": 15
    }
   ],
   "metadata": {}
  }
 ]
}
