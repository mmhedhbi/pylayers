{
 "metadata": {
  "name": "",
  "signature": "sha256:aeabe81013c272dae6c6d91e57a4e986ad8c33bf6d85ff696cbbb8656a795f56"
 },
 "nbformat": 3,
 "nbformat_minor": 0,
 "worksheets": [
  {
   "cells": [
    {
     "cell_type": "code",
     "collapsed": false,
     "input": [
      "from IPython.core.display import HTML\n",
      "\n",
      "def css_styling():\n",
      "    styles = open(\"../styles/custom.css\", \"r\").read()\n",
      "    return HTML(styles)\n",
      "css_styling()"
     ],
     "language": "python",
     "metadata": {},
     "outputs": [
      {
       "html": [
        "<style>\n",
        "    @font-face {\n",
        "        font-family: \"Computer Modern\";\n",
        "        src: url('http://mirrors.ctan.org/fonts/cm-unicode/fonts/otf/cmunss.otf');\n",
        "    }\n",
        "    div.cell{\n",
        "        width:800px;\n",
        "        margin-left:16% !important;\n",
        "        margin-right:auto;\n",
        "    }\n",
        "    h1 {\n",
        "        font-family: Helvetica, serif;\n",
        "    }\n",
        "    h4{\n",
        "        margin-top:12px;\n",
        "        margin-bottom: 3px;\n",
        "       }\n",
        "    div.text_cell_render{\n",
        "        font-family: Computer Modern, \"Helvetica Neue\", Arial, Helvetica, Geneva, sans-serif;\n",
        "        line-height: 145%;\n",
        "        font-size: 130%;\n",
        "        width:800px;\n",
        "        margin-left:auto;\n",
        "        margin-right:auto;\n",
        "    }\n",
        "    .CodeMirror{\n",
        "            font-family: \"Source Code Pro\", source-code-pro,Consolas, monospace;\n",
        "    }\n",
        "    .prompt{\n",
        "        display: None;\n",
        "    }\n",
        "    .text_cell_render h5 {\n",
        "        font-weight: 300;\n",
        "        font-size: 22pt;\n",
        "        color: #4057A1;\n",
        "        font-style: italic;\n",
        "        margin-bottom: .5em;\n",
        "        margin-top: 0.5em;\n",
        "        display: block;\n",
        "    }\n",
        "    \n",
        "    .warning{\n",
        "        color: rgb( 240, 20, 20 )\n",
        "        }  \n",
        "</style>\n",
        "<script>\n",
        "    MathJax.Hub.Config({\n",
        "                        TeX: {\n",
        "                           extensions: [\"AMSmath.js\"]\n",
        "                           },\n",
        "                tex2jax: {\n",
        "                    inlineMath: [ ['$','$'], [\"\\\\(\",\"\\\\)\"] ],\n",
        "                    displayMath: [ ['$$','$$'], [\"\\\\[\",\"\\\\]\"] ]\n",
        "                },\n",
        "                displayAlign: 'center', // Change this to 'center' to center equations.\n",
        "                \"HTML-CSS\": {\n",
        "                    styles: {'.MathJax_Display': {\"margin\": 4}}\n",
        "                }\n",
        "        });\n",
        "</script>"
       ],
       "metadata": {},
       "output_type": "pyout",
       "prompt_number": 1,
       "text": [
        "<IPython.core.display.HTML at 0x3802250>"
       ]
      }
     ],
     "prompt_number": 1
    },
    {
     "cell_type": "markdown",
     "metadata": {},
     "source": [
      "# Slabs and Materials"
     ]
    },
    {
     "cell_type": "markdown",
     "metadata": {},
     "source": [
      " \n",
      "\n",
      "\n"
     ]
    },
    {
     "cell_type": "markdown",
     "metadata": {},
     "source": [
      "A slab is a set ol several layers of materials with specified thickness. Slabs are used to describe properties of the different constitutive elements of a building such as wall, windows ,... \n",
      "\n",
      "In practice when describing a specific building, it is necessary to specify a set of different slabs with different characteristics. \n",
      "\n",
      "The structure which gathers this set is `SlabDB`. If no file argument is given, this structure is initialized with the default file: [slabDB.ini](https://github.com/pylayers/pylayers/blob/master/data/ini/slabDB.ini)\n",
      "\n",
      "This section demonstates some features of the `pylayers.antprop.slab` module.   "
     ]
    },
    {
     "cell_type": "code",
     "collapsed": false,
     "input": [
      "from pylayers.antprop.slab import *\n",
      "fig = plt.figure(figsize=(10,10))"
     ],
     "language": "python",
     "metadata": {},
     "outputs": [],
     "prompt_number": 1
    },
    {
     "cell_type": "markdown",
     "metadata": {},
     "source": [
      "The Class `SlabDB` contains a dictionnary of all available Slab. This information is read in the file `slabDB.ini` of the current project pointed by environment variable `$BASENAME`"
     ]
    },
    {
     "cell_type": "markdown",
     "metadata": {},
     "source": [
      "A  `__repr__`  method provides a visual indication of the thichness and materials of a `Slab` "
     ]
    },
    {
     "cell_type": "code",
     "collapsed": false,
     "input": [
      "S = SlabDB()"
     ],
     "language": "python",
     "metadata": {},
     "outputs": [],
     "prompt_number": 2
    },
    {
     "cell_type": "code",
     "collapsed": false,
     "input": [
      "S.keys()"
     ],
     "language": "python",
     "metadata": {},
     "outputs": [],
     "prompt_number": 3
    },
    {
     "cell_type": "markdown",
     "metadata": {},
     "source": [
      "## Defining a new Slab and a new Material"
     ]
    },
    {
     "cell_type": "code",
     "collapsed": false,
     "input": [
      "S.mat.add(name='wall2',typ='reim',cval=2.6-0.026*1j,fGHz=4)"
     ],
     "language": "python",
     "metadata": {},
     "outputs": [],
     "prompt_number": 4
    },
    {
     "cell_type": "code",
     "collapsed": false,
     "input": [
      "S.add('slab2',['wall2'],[0.15])"
     ],
     "language": "python",
     "metadata": {},
     "outputs": [],
     "prompt_number": 5
    },
    {
     "cell_type": "code",
     "collapsed": false,
     "input": [
      "S.mat['wall2']"
     ],
     "language": "python",
     "metadata": {},
     "outputs": [],
     "prompt_number": 6
    },
    {
     "cell_type": "code",
     "collapsed": false,
     "input": [
      "S['slab2']['lmatname']"
     ],
     "language": "python",
     "metadata": {},
     "outputs": [],
     "prompt_number": 7
    },
    {
     "cell_type": "code",
     "collapsed": false,
     "input": [
      "fGHz= np.arange(3,5,0.01)\n",
      "theta = np.arange(0,np.pi/2,0.01)\n",
      "S['slab2'].ev(fGHz,theta)"
     ],
     "language": "python",
     "metadata": {},
     "outputs": [],
     "prompt_number": 8
    },
    {
     "cell_type": "code",
     "collapsed": false,
     "input": [
      "S['slab2'].ev"
     ],
     "language": "python",
     "metadata": {},
     "outputs": [],
     "prompt_number": 9
    },
    {
     "cell_type": "code",
     "collapsed": false,
     "input": [
      "S['slab2'].pcolor()"
     ],
     "language": "python",
     "metadata": {},
     "outputs": [],
     "prompt_number": 10
    },
    {
     "cell_type": "code",
     "collapsed": false,
     "input": [
      "A=S['slab2']"
     ],
     "language": "python",
     "metadata": {},
     "outputs": [],
     "prompt_number": 11
    },
    {
     "cell_type": "code",
     "collapsed": false,
     "input": [
      "R=A.R"
     ],
     "language": "python",
     "metadata": {},
     "outputs": [],
     "prompt_number": 12
    },
    {
     "cell_type": "markdown",
     "metadata": {},
     "source": [
      "## Slab Information\n",
      "\n",
      "Each slab contains informations about its constitutive materials electromagnetic properties.\n",
      "\n",
      "Below an example for a simple slab, constituted with a single material. The slab 'WOOD' is a layer of 4cm 'WOOD' material.\n",
      "\n"
     ]
    },
    {
     "cell_type": "code",
     "collapsed": false,
     "input": [
      "S['WOOD']['lmatname']"
     ],
     "language": "python",
     "metadata": {},
     "outputs": [],
     "prompt_number": 13
    },
    {
     "cell_type": "code",
     "collapsed": false,
     "input": [
      "S['WOOD']['lthick']"
     ],
     "language": "python",
     "metadata": {},
     "outputs": [],
     "prompt_number": 14
    },
    {
     "cell_type": "code",
     "collapsed": false,
     "input": [
      "S['WOOD']['color']"
     ],
     "language": "python",
     "metadata": {},
     "outputs": [],
     "prompt_number": 15
    },
    {
     "cell_type": "code",
     "collapsed": false,
     "input": [
      "S['WOOD']['linewidth']"
     ],
     "language": "python",
     "metadata": {},
     "outputs": [],
     "prompt_number": 16
    },
    {
     "cell_type": "markdown",
     "metadata": {},
     "source": [
      "Multi layers Slab, using different stacks of materials can be easily defined using the two lists **lmatname** and **lthick**. \n",
      "\n",
      "> Notice the adopted convention naming lists starting with letter 'l' and dictionnaries  starting with letter 'd'"
     ]
    },
    {
     "cell_type": "code",
     "collapsed": false,
     "input": [
      "S['3D_WINDOW_GLASS']['lmatname']"
     ],
     "language": "python",
     "metadata": {},
     "outputs": [],
     "prompt_number": 17
    },
    {
     "cell_type": "code",
     "collapsed": false,
     "input": [
      "S['3D_WINDOW_GLASS']['lthick']"
     ],
     "language": "python",
     "metadata": {},
     "outputs": [],
     "prompt_number": 18
    },
    {
     "cell_type": "markdown",
     "metadata": {},
     "source": [
      "For each constitutive material of a slab, their electromagnetic properties can be obtained as:"
     ]
    },
    {
     "cell_type": "code",
     "collapsed": false,
     "input": [
      "S['3D_WINDOW_GLASS']['lmat']"
     ],
     "language": "python",
     "metadata": {},
     "outputs": [],
     "prompt_number": 19
    },
    {
     "cell_type": "markdown",
     "metadata": {},
     "source": [
      "## Slab evaluation"
     ]
    },
    {
     "cell_type": "markdown",
     "metadata": {},
     "source": [
      "Each Slab can be evaluated to obtain the Transmission and Reflexion coefficients for \n",
      "\n",
      "+ a given frequency range\n",
      "+ a given incidence angle range  ($0\\le\\theta<\\frac{\\pi}{2}$)"
     ]
    },
    {
     "cell_type": "code",
     "collapsed": false,
     "input": [
      "fGHz = np.arange(3,5,0.01)\n",
      "theta = np.arange(0,pi/2,0.01)\n",
      "\n",
      "S['WOOD'].ev(fGHz,theta,compensate=True)\n",
      "sR = np.shape(S['WOOD'].R) \n",
      "print '\\nHere, slab is evaluted for',sR[0],'frequency(ies)', 'and',sR[1], 'angle(s)\\n'"
     ],
     "language": "python",
     "metadata": {},
     "outputs": [],
     "prompt_number": 20
    },
    {
     "cell_type": "markdown",
     "metadata": {},
     "source": [
      "## Transmission and Reflexion coefficients"
     ]
    },
    {
     "cell_type": "markdown",
     "metadata": {},
     "source": [
      "Reflexion and transmission coefficient are computed for the given frequency range and theta range"
     ]
    },
    {
     "cell_type": "code",
     "collapsed": false,
     "input": [
      "ifreq=1\n",
      "ithet=10\n",
      "\n",
      "print '\\nReflection coefficient @',fGHz[ifreq],'GHz and theta=',theta[ithet],':\\n\\n R=',S['WOOD'].R[0,0]\n",
      "print '\\nTransmission coefficient @',fGHz[ifreq],'GHz and theta=',theta[ithet],':\\n\\n T=',S['WOOD'].T[0,0],'\\n'\n"
     ],
     "language": "python",
     "metadata": {},
     "outputs": [],
     "prompt_number": 21
    },
    {
     "cell_type": "markdown",
     "metadata": {},
     "source": [
      "### Ploting Coefficients\n"
     ]
    },
    {
     "cell_type": "markdown",
     "metadata": {},
     "source": [
      "    plotwrt (plot with respect to)\n",
      "         \n",
      "    Parameters\n",
      "    ----------\n",
      "\n",
      "     kv  : int\n",
      "        variable index\n",
      "     polar: string \n",
      "            'po', # po | p | o   (parallel+ortho | parallel | ortogonal)\n",
      "     coeff: string \n",
      "            'RT', # RT | R | T   (Reflexion & Transmission ) | Reflexion | Transmission \n",
      "     var:  string \n",
      "            'a',    # a | f       angle | frequency \n",
      "     types : string \n",
      "            'm' | 'r' | 'd' | 'l20'\n",
      "            mod   rad    deg   dB\n"
     ]
    },
    {
     "cell_type": "code",
     "collapsed": false,
     "input": [
      "fig,ax = S['WOOD'].plotwrt(var='f',coeff='R',polar='p')"
     ],
     "language": "python",
     "metadata": {},
     "outputs": [],
     "prompt_number": 22
    },
    {
     "cell_type": "markdown",
     "metadata": {},
     "source": [
      "with respect to angle"
     ]
    },
    {
     "cell_type": "code",
     "collapsed": false,
     "input": [
      "fig = plt.figure(figsize=(20,20))\n",
      "fGHz= np.array([2.4])\n",
      "S['WOOD'].ev(fGHz,theta)\n",
      "fig,ax = S['WOOD'].plotwrt(var='a',coeff='R',fig=fig)\n",
      "plt.tight_layout()"
     ],
     "language": "python",
     "metadata": {},
     "outputs": [],
     "prompt_number": 23
    },
    {
     "cell_type": "markdown",
     "metadata": {},
     "source": [
      "wrt to angle and frequency "
     ]
    },
    {
     "cell_type": "code",
     "collapsed": false,
     "input": [
      "plt.figure(figsize=(10,10))\n",
      "fGHz= np.arange(0.7,5.2,0.1)\n",
      "S['WOOD'].ev(fGHz,theta)\n",
      "S['WOOD'].pcolor()"
     ],
     "language": "python",
     "metadata": {},
     "outputs": [],
     "prompt_number": 24
    },
    {
     "cell_type": "code",
     "collapsed": false,
     "input": [
      "theta = np.arange(0,np.pi/2,0.01)\n",
      "fGHz = np.arange(0.1,10,0.2)\n",
      "sl = SlabDB('matDB.ini','slabDB.ini')\n",
      "mat   = sl.mat\n",
      "lmat  = [mat['AIR'],mat['WOOD']]\n",
      "II    = MatInterface(lmat,0,fGHz,theta)\n",
      "II.RT()\n",
      "fig,ax = II.plotwrt(var='a',kv=10,typ=['m'])\n",
      "tight_layout()\n",
      "air = mat['AIR']\n",
      "brick  = mat['BRICK']\n",
      "II  = MatInterface([air,brick],0,fGHz,theta)\n",
      "II.RT()\n",
      "fig,ax = II.plotwrt(var='f',color='k',typ=['m'])\n",
      "tight_layout()"
     ],
     "language": "python",
     "metadata": {},
     "outputs": [],
     "prompt_number": 25
    },
    {
     "cell_type": "code",
     "collapsed": false,
     "input": [
      "## Adding new materials"
     ],
     "language": "python",
     "metadata": {},
     "outputs": [],
     "prompt_number": 26
    },
    {
     "cell_type": "code",
     "collapsed": false,
     "input": [
      "sl.mat.add(name='TESS-p50',cval=3+0j,sigma=0.06,typ='epsr')\n",
      "\n",
      "sl.add(name='TESS-p50-5cm',lmatname=['TESS-p50'],lthick=[0.05])\n",
      "sl.add(name='TESS-p50-10cm',lmatname=['TESS-p50'],lthick=[0.10])\n",
      "sl.add(name='TESS-p50-15cm',lmatname=['TESS-p50'],lthick=[0.15])\n",
      "fGHz=4\n",
      "theta = np.arange(0,np.pi/2,0.01)\n",
      "#figure(figsize=(8,8))\n",
      "# These Tessereau page 50 \n",
      "\n",
      "sl['TESS-p50-5cm'].ev(fGHz,theta,compensate=True)\n",
      "sl['TESS-p50-10cm'].ev(fGHz,theta,compensate=True)\n",
      "sl['TESS-p50-15cm'].ev(fGHz,theta,compensate=True)\n",
      "\n",
      "# by default var='a' and kv = 0 \n",
      "\n",
      "fig,ax = sl['TESS-p50-5cm'].plotwrt(color='k',labels=[''])\n",
      "fig,ax = sl['TESS-p50-10cm'].plotwrt(color='k',labels=[''],linestyle='dashed',fig=fig,ax=ax)\n",
      "fig,ax = sl['TESS-p50-15cm'].plotwrt(color='k',labels=[''],linestyle='dashdot',fig=fig,ax=ax)\n",
      "plt.tight_layout()"
     ],
     "language": "python",
     "metadata": {},
     "outputs": [],
     "prompt_number": 27
    },
    {
     "cell_type": "markdown",
     "metadata": {},
     "source": [
      "## Evaluation without phase compensation"
     ]
    },
    {
     "cell_type": "code",
     "collapsed": false,
     "input": [
      "fGHz = np.arange(2,16,0.1)\n",
      "theta = 0 \n",
      "\n",
      "sl['TESS-p50-5cm'].ev(fGHz,theta,compensate=False)\n",
      "sl['TESS-p50-10cm'].ev(fGHz,theta,compensate=False)\n",
      "sl['TESS-p50-15cm'].ev(fGHz,theta,compensate=False)\n",
      "    \n",
      "fig,ax = sl['TESS-p50-5cm'].plotwrt('f',coeff='T',typ=['ru'],labels=[''],color='k')\n",
      "print ax\n",
      "#fig,ax = sl['TESS-p50-10cm'].plotwrt('f',coeff='T',types=['ru'],labels=[''],color='k',linestyle='dashed',fig=fig,ax=ax)\n",
      "#fig,ax = sl['TESS-p50-15cm'].plotwrt('f',coeff='T',types=['ru'],labels=[''],color='k',linestyle='dashdot')\n",
      "plt.tight_layout()"
     ],
     "language": "python",
     "metadata": {},
     "outputs": [],
     "prompt_number": 28
    },
    {
     "cell_type": "code",
     "collapsed": false,
     "input": [
      "\n",
      "\n",
      "sl['TESS-p50-5cm'].ev(fGHz,theta,compensate=True)\n",
      "sl['TESS-p50-10cm'].ev(fGHz,theta,compensate=True)\n",
      "sl['TESS-p50-15cm'].ev(fGHz,theta,compensate=True)\n",
      "\n",
      "fig,ax = sl['TESS-p50-5cm'].plotwrt('f',coeff='T',typ=['ru'],labels=['5cm compensated',''],color='r',fig=fig,ax=ax)\n",
      "fig,ax = sl['TESS-p50-10cm'].plotwrt('f',coeff='T',typ=['ru'],labels=['10cm compensated',''],color='r',linestyle='dashed',fig=fig,ax=ax)\n",
      "fig,ax = sl['TESS-p50-15cm'].plotwrt('f',coeff='T',typ=['ru'],labels=['15cm not compensated',''],color='r',linestyle='dashdot',fig=fig,ax=ax) \n",
      "\n",
      "fig,ax = sl['TESS-p50-5cm'].plotwrt('f',coeff='T',labels=[''],color='k')\n",
      "fig,ax = sl['TESS-p50-10cm'].plotwrt('f',coeff='T',labels=[''],color='k',linestyle='dashed',fig=fig,ax=ax)\n",
      "fig,ax = sl['TESS-p50-15cm'].plotwrt('f',coeff='T',labels=[''],color='k',linestyle='dashdot',fig=fig,ax=ax)"
     ],
     "language": "python",
     "metadata": {},
     "outputs": [],
     "prompt_number": 29
    },
    {
     "cell_type": "markdown",
     "metadata": {},
     "source": [
      "## Double Glass example from litterature [1] in sub TeraHertz D-band @ 120GHz"
     ]
    },
    {
     "cell_type": "code",
     "collapsed": false,
     "input": [
      "sl.mat.add('ConcreteJc',cval=3.5,alpha_cmm1=1.9,fGHz=120,typ='THz')\n",
      "sl.mat.add('GlassJc',cval=2.55,alpha_cmm1=2.4,fGHz=120,typ='THz')\n",
      "sl.add('ConcreteJc',['ConcreteJc'],[0.049])\n",
      "\n",
      "theta = np.linspace(20,60,100)*np.pi/180\n",
      "sl['ConcreteJc'].ev(120,theta)\n",
      "fig,ax = sl['ConcreteJc'].plotwrt('a')\n",
      "\n"
     ],
     "language": "python",
     "metadata": {},
     "outputs": [],
     "prompt_number": 30
    },
    {
     "cell_type": "code",
     "collapsed": false,
     "input": [
      "fGHz = np.linspace(110,135,50)\n",
      "sl.add('DoubleGlass',['GlassJc','AIR','GlassJc'],[0.0029,0.0102,0.0029])\n",
      "sl['DoubleGlass'].ev(fGHz,theta)\n",
      "sl['DoubleGlass'].pcolor(dB=True)"
     ],
     "language": "python",
     "metadata": {},
     "outputs": [],
     "prompt_number": 31
    },
    {
     "cell_type": "code",
     "collapsed": false,
     "input": [
      "plt.figure(figsize=(10,10))\n",
      "sl['DoubleGlass'].ev(120,theta)\n",
      "fig,ax = sl['DoubleGlass'].plotwrt('a',figsize=(10,10))\n",
      "tight_layout()"
     ],
     "language": "python",
     "metadata": {},
     "outputs": [],
     "prompt_number": 32
    },
    {
     "cell_type": "code",
     "collapsed": false,
     "input": [
      "freq = np.linspace(110,135,50)\n",
      "sl['DoubleGlass'].ev(freq,theta)\n",
      "fig,ax = sl['DoubleGlass'].plotwrt('f',figsize=(10,10))  # @20\u00b0\n",
      "tight_layout()"
     ],
     "language": "python",
     "metadata": {},
     "outputs": [],
     "prompt_number": 33
    },
    {
     "cell_type": "markdown",
     "metadata": {},
     "source": [
      "## References"
     ]
    },
    {
     "cell_type": "markdown",
     "metadata": {},
     "source": [
      "[1]. [Jacob, M. ; Kurner, T. ; Geise, R. ; Piesiewicz, R.  \"Reflection ant Transmission Properties of Building Materials in D-Band for Modeling Future mm-Wave Communication Systems\" Antennas and Propagation (EuCAP), 2010 Proceedings of the Fourth European Conference on](http://ieeexplore.ieee.org/xpl/articleDetails.jsp?tp=&arnumber=5505315&queryText%3DReflection+ant+Transmission+Properties+of+Building+Materials+in+D-Band+for+Modeling+Future+mm-Wave+Communication+Systems.QT.+Antennas+and+Propagation)\n",
      "\n",
      "\n",
      "\n",
      "[2]. [R.Piesiewicz 'Terahertz characterization of building materials'  Electronics .Letters Jan 2005 Vol 41 N\u00b018](https://www.google.fr/url?sa=t&rct=j&q=&esrc=s&source=web&cd=1&cad=rja&ved=0CCwQFjAA&url=http%3A%2F%2Fwww-ece.rice.edu%2F~daniel%2Fpapers%2FnormanElecLett.pdf&ei=Tr_eUe6EG-OM0AWA0IAw&usg=AFQjCNHzt9H3RkLAtws51E9EpEgyqh-6LA&sig2=QLZlhoTJtiuHAW5Zzg_xOw&bvm=bv.48705608,d.d2k)\n",
      "\n",
      "    "
     ]
    }
   ],
   "metadata": {}
  }
 ]
}