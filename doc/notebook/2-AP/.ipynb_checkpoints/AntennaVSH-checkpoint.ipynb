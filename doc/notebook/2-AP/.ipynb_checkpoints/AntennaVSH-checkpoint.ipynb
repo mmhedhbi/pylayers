{
 "metadata": {
  "name": "",
  "signature": "sha256:5f20090565f0aff201fa38cb7ab6ab3a892437a4361eb7b6720782e8ed449411"
 },
 "nbformat": 3,
 "nbformat_minor": 0,
 "worksheets": [
  {
   "cells": [
    {
     "cell_type": "code",
     "collapsed": true,
     "input": [
      "from pylayers.antprop.antenna import *\n",
      "from pylayers.antprop.antvsh import *"
     ],
     "language": "python",
     "metadata": {},
     "outputs": [],
     "prompt_number": 1
    },
    {
     "cell_type": "markdown",
     "metadata": {},
     "source": [
      "Read a trx file. This file has no header, it contains 7 columns :"
     ]
    },
    {
     "cell_type": "code",
     "collapsed": false,
     "input": [
      "A = Antenna('S2R2.mat',directory='ant/UWBAN/Matfile')\n",
      "#A = Antenna('trx1','UWB_CEA.trx')"
     ],
     "language": "python",
     "metadata": {},
     "outputs": [],
     "prompt_number": 2
    },
    {
     "cell_type": "markdown",
     "metadata": {},
     "source": [
      "The shape of the $F_{\\phi}$ functions indicates : \n",
      "\n",
      "- $N_f= 104$\n",
      "- $N_{\\theta} = 91$\n",
      "- $N_{\\phi} = 180 $"
     ]
    },
    {
     "cell_type": "code",
     "collapsed": false,
     "input": [
      "figsize(5,5)\n",
      "shape(A.Fphi)\n"
     ],
     "language": "python",
     "metadata": {},
     "outputs": [],
     "prompt_number": 3
    },
    {
     "cell_type": "markdown",
     "metadata": {},
     "source": [
      "The frequency ramp is converted in $GHz$. In practice we always handles frequency expressed in $GHz$ and delays expressed in $ns$"
     ]
    },
    {
     "cell_type": "code",
     "collapsed": false,
     "input": [
      "fGHz = A.fa.reshape(104,1,1)"
     ],
     "language": "python",
     "metadata": {},
     "outputs": [],
     "prompt_number": 4
    },
    {
     "cell_type": "markdown",
     "metadata": {},
     "source": [
      "Then an electrical delay of $4.185ns$ is applied on the $F_{\\theta}$"
     ]
    },
    {
     "cell_type": "code",
     "collapsed": false,
     "input": [
      "I = A.Ftheta[:,:,:]\n",
      "imshow(unwrap(angle(I[:,45,:])))\n",
      "title(r'Unwrapped phase of $F_{\\theta}$ w.r.t frequency and phi for $\\theta=\\frac{pi}{2}$')\n",
      "ylabel('f index')\n",
      "colorbar()\n",
      "figure()\n",
      "plot(fGHz[:,0,0],unwrap(angle(I[:,45,85])))"
     ],
     "language": "python",
     "metadata": {},
     "outputs": [],
     "prompt_number": 5
    },
    {
     "cell_type": "code",
     "collapsed": false,
     "input": [
      "fGHz"
     ],
     "language": "python",
     "metadata": {},
     "outputs": [],
     "prompt_number": 6
    },
    {
     "cell_type": "code",
     "collapsed": false,
     "input": [
      "tau=4.185\n",
      "I = A.Ftheta[:,:,:]*exp(-2*1j*pi*fGHz*tau)"
     ],
     "language": "python",
     "metadata": {},
     "outputs": [],
     "prompt_number": 7
    },
    {
     "cell_type": "code",
     "collapsed": false,
     "input": [
      "imshow(unwrap(angle(I[:,45,:])))\n",
      "title(r'Unwrapped phase of $F_{\\theta}$ w.r.t frequency and phi for $\\theta=\\frac{pi}{2}$')\n",
      "ylabel('f index')\n",
      "colorbar()\n",
      "figure()\n",
      "plot(fGHz[:,0,0],unwrap(angle(I[:,45,85])))"
     ],
     "language": "python",
     "metadata": {},
     "outputs": [],
     "prompt_number": 8
    },
    {
     "cell_type": "markdown",
     "metadata": {},
     "source": [
      "Display of the radiation pattern for all frequencies"
     ]
    },
    {
     "cell_type": "code",
     "collapsed": false,
     "input": [
      "for nf in range(104):\n",
      "    polar(A.phi,abs(A.Ftheta[nf,45,:]))"
     ],
     "language": "python",
     "metadata": {},
     "outputs": [],
     "prompt_number": 9
    },
    {
     "cell_type": "code",
     "collapsed": false,
     "input": [
      "print 'Ntheta',A.Nt\n",
      "print 'Nphi',A.Np\n",
      "print 'Nf',A.Nf"
     ],
     "language": "python",
     "metadata": {},
     "outputs": [],
     "prompt_number": 10
    },
    {
     "cell_type": "code",
     "collapsed": false,
     "input": [
      "A.info()"
     ],
     "language": "python",
     "metadata": {},
     "outputs": [],
     "prompt_number": 11
    },
    {
     "cell_type": "markdown",
     "metadata": {},
     "source": [
      "\n",
      "# Evaluation of Vector Spherical Harmonics Coefficients \n",
      "\n",
      "At that stage we compute the Vector Spherical Harmonics coefficients "
     ]
    },
    {
     "cell_type": "code",
     "collapsed": true,
     "input": [
      "A=vsh(A)"
     ],
     "language": "python",
     "metadata": {},
     "outputs": [],
     "prompt_number": 12
    },
    {
     "cell_type": "code",
     "collapsed": false,
     "input": [
      "A.info()"
     ],
     "language": "python",
     "metadata": {},
     "outputs": [],
     "prompt_number": 13
    },
    {
     "cell_type": "code",
     "collapsed": false,
     "input": [
      "A.C.s1tos2(30)"
     ],
     "language": "python",
     "metadata": {},
     "outputs": [],
     "prompt_number": 14
    },
    {
     "cell_type": "code",
     "collapsed": true,
     "input": [
      "A.C"
     ],
     "language": "python",
     "metadata": {},
     "outputs": [],
     "prompt_number": 15
    },
    {
     "cell_type": "code",
     "collapsed": true,
     "input": [
      "figsize(10,10)\n",
      "A.C.show('s2',k=300)"
     ],
     "language": "python",
     "metadata": {},
     "outputs": [],
     "prompt_number": 16
    },
    {
     "cell_type": "code",
     "collapsed": true,
     "input": [
      "A.C.s2tos3()"
     ],
     "language": "python",
     "metadata": {},
     "outputs": [],
     "prompt_number": 17
    },
    {
     "cell_type": "code",
     "collapsed": false,
     "input": [
      "A.C"
     ],
     "language": "python",
     "metadata": {},
     "outputs": [],
     "prompt_number": 18
    },
    {
     "cell_type": "code",
     "collapsed": true,
     "input": [
      "A.C.show('s3')"
     ],
     "language": "python",
     "metadata": {},
     "outputs": [],
     "prompt_number": 19
    },
    {
     "cell_type": "code",
     "collapsed": false,
     "input": [],
     "language": "python",
     "metadata": {},
     "outputs": [],
     "prompt_number": 20
    }
   ],
   "metadata": {}
  }
 ]
}
