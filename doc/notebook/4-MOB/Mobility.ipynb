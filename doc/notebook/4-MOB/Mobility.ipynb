{
 "metadata": {
  "name": "",
  "signature": "sha256:c05ff031e9125f795c687e2bc5fa7a0f9a13222e72b1bf5b5d780c4534e5623c"
 },
 "nbformat": 3,
 "nbformat_minor": 0,
 "worksheets": [
  {
   "cells": [
    {
     "cell_type": "code",
     "collapsed": false,
     "input": [
      "from IPython.core.display import HTML\n",
      "\n",
      "def css_styling():\n",
      "    styles = open(\"../styles/custom.css\", \"r\").read()\n",
      "    return HTML(styles)\n",
      "css_styling()"
     ],
     "language": "python",
     "metadata": {},
     "outputs": [
      {
       "html": [
        "<style>\n",
        "    @font-face {\n",
        "        font-family: \"Computer Modern\";\n",
        "        src: url('http://mirrors.ctan.org/fonts/cm-unicode/fonts/otf/cmunss.otf');\n",
        "    }\n",
        "    div.cell{\n",
        "        width:800px;\n",
        "        margin-left:16% !important;\n",
        "        margin-right:auto;\n",
        "    }\n",
        "    h1 {\n",
        "        font-family: Helvetica, serif;\n",
        "    }\n",
        "    h4{\n",
        "        margin-top:12px;\n",
        "        margin-bottom: 3px;\n",
        "       }\n",
        "    div.text_cell_render{\n",
        "        font-family: Computer Modern, \"Helvetica Neue\", Arial, Helvetica, Geneva, sans-serif;\n",
        "        line-height: 145%;\n",
        "        font-size: 130%;\n",
        "        width:800px;\n",
        "        margin-left:auto;\n",
        "        margin-right:auto;\n",
        "    }\n",
        "    .CodeMirror{\n",
        "            font-family: \"Source Code Pro\", source-code-pro,Consolas, monospace;\n",
        "    }\n",
        "    .prompt{\n",
        "        display: None;\n",
        "    }\n",
        "    .text_cell_render h5 {\n",
        "        font-weight: 300;\n",
        "        font-size: 22pt;\n",
        "        color: #4057A1;\n",
        "        font-style: italic;\n",
        "        margin-bottom: .5em;\n",
        "        margin-top: 0.5em;\n",
        "        display: block;\n",
        "    }\n",
        "    \n",
        "    .warning{\n",
        "        color: rgb( 240, 20, 20 )\n",
        "        }  \n",
        "</style>\n",
        "<script>\n",
        "    MathJax.Hub.Config({\n",
        "                        TeX: {\n",
        "                           extensions: [\"AMSmath.js\"]\n",
        "                           },\n",
        "                tex2jax: {\n",
        "                    inlineMath: [ ['$','$'], [\"\\\\(\",\"\\\\)\"] ],\n",
        "                    displayMath: [ ['$$','$$'], [\"\\\\[\",\"\\\\]\"] ]\n",
        "                },\n",
        "                displayAlign: 'center', // Change this to 'center' to center equations.\n",
        "                \"HTML-CSS\": {\n",
        "                    styles: {'.MathJax_Display': {\"margin\": 4}}\n",
        "                }\n",
        "        });\n",
        "</script>"
       ],
       "metadata": {},
       "output_type": "pyout",
       "prompt_number": 18,
       "text": [
        "<IPython.core.display.HTML at 0x7f9b4c248c90>"
       ]
      }
     ],
     "prompt_number": 18
    },
    {
     "cell_type": "code",
     "collapsed": false,
     "input": [
      "from IPython.display import Image, HTML, Latex, YouTubeVideo\n",
      "import numpy as np"
     ],
     "language": "python",
     "metadata": {},
     "outputs": [],
     "prompt_number": 1
    },
    {
     "cell_type": "code",
     "collapsed": false,
     "input": [
      "#YouTubeVideo('1Qa6xLpU5-M')"
     ],
     "language": "python",
     "metadata": {},
     "outputs": [],
     "prompt_number": 2
    },
    {
     "cell_type": "code",
     "collapsed": false,
     "input": [
      "import pylayers.mobility.trajectory as traj\n",
      "from pylayers.mobility.ban.body import *\n",
      "from pylayers.gis.layout import *"
     ],
     "language": "python",
     "metadata": {},
     "outputs": [],
     "prompt_number": 10
    },
    {
     "cell_type": "markdown",
     "metadata": {},
     "source": [
      "Trajectories can be generated using simulnet.\n"
     ]
    },
    {
     "cell_type": "code",
     "collapsed": false,
     "input": [
      "from pylayers.simul.simulnet import *\n",
      "S=Simul()\n",
      "# set simulation duration\n",
      "\n",
      "S.sim_opt['duration']=10\n",
      "\n",
      "S.meca_opt['mecanic_update_time']=0.2\n",
      "\n",
      "# turn off network simulation\n",
      "S.net_opt['network']=False\n"
     ],
     "language": "python",
     "metadata": {},
     "outputs": [
      {
       "output_type": "stream",
       "stream": "stdout",
       "text": [
        "Layout graphs are loaded from  /home/uguen/Bureau/P1 /struc/ini\n"
       ]
      }
     ],
     "prompt_number": 11
    },
    {
     "cell_type": "code",
     "collapsed": false,
     "input": [
      "# run mechanical simulation\n",
      "S.runsimul()"
     ],
     "language": "python",
     "metadata": {},
     "outputs": [],
     "prompt_number": 12
    },
    {
     "cell_type": "markdown",
     "metadata": {},
     "source": [
      "trajectories can be imported from a simulnet simulation with the `importh5` method"
     ]
    },
    {
     "cell_type": "code",
     "collapsed": false,
     "input": [
      "from pylayers.mobility.trajectory import *"
     ],
     "language": "python",
     "metadata": {},
     "outputs": [],
     "prompt_number": 13
    },
    {
     "cell_type": "code",
     "collapsed": false,
     "input": [
      "str1 = eval(S.sim_opt['filename'])\n",
      "str2 = S.L.filename.split('.')[0]\n",
      "# the save filename is composed of simulation filename and layout filename\n",
      "save_filename = str1 + '_' + str2 +'.h5'\n",
      "\n",
      "list_traj = S.traj"
     ],
     "language": "python",
     "metadata": {},
     "outputs": [],
     "prompt_number": 14
    },
    {
     "cell_type": "code",
     "collapsed": false,
     "input": [
      "list_traj"
     ],
     "language": "python",
     "metadata": {},
     "outputs": [
      {
       "metadata": {},
       "output_type": "pyout",
       "prompt_number": 15,
       "text": [
        "Trajectories performed in Layout : TA-Office.ini\n",
        "\n",
        "Trajectory of agent John with ID 1\n",
        "----------------------------------\n",
        "t (s) : 0.00 : 0.20 : 10.00\n",
        "dtot (m) : 37.50\n",
        "Vmoy (m/s) : 3.75\n",
        "                                    x         y        vx        vy        ax  \\\n",
        "t                                                                               \n",
        "1970-01-01 00:00:00         18.907750  2.528547  0.038749  0.155237  0.193744   \n",
        "1970-01-01 00:00:00.200000  18.921699  2.584433  0.069748  0.279427  0.154995   \n",
        "\n",
        "                                  ay      s  \n",
        "t                                            \n",
        "1970-01-01 00:00:00         0.776185  0.160  \n",
        "1970-01-01 00:00:00.200000  0.620948  0.448  \n",
        "\n",
        "[2 rows x 7 columns]\n",
        "\n",
        "Trajectory of agent Alex with ID 2\n",
        "----------------------------------\n",
        "t (s) : 0.00 : 0.20 : 10.00\n",
        "dtot (m) : 39.94\n",
        "Vmoy (m/s) : 3.99\n",
        "                                    x          y        vx        vy  \\\n",
        "t                                                                      \n",
        "1970-01-01 00:00:00         29.706747  12.467719  0.033733 -0.156404   \n",
        "1970-01-01 00:00:00.200000  29.718891  12.411414  0.060720 -0.281526   \n",
        "\n",
        "                                  ax        ay      s  \n",
        "t                                                      \n",
        "1970-01-01 00:00:00         0.168667 -0.782018  0.160  \n",
        "1970-01-01 00:00:00.200000  0.134934 -0.625614  0.448  \n",
        "\n",
        "[2 rows x 7 columns]\n",
        "\n",
        "Access point Router with ID 6\n",
        "-----------------------------\n",
        "t (s) : 0.00\n",
        "Vmoy (m/s) : 0.0\n",
        "              x  y    z  vx  vy  ax  ay  s\n",
        "t                                         \n",
        "1970-01-01  0.5  2  2.5   0   0   0   0  0\n",
        "\n",
        "[1 rows x 8 columns]\n",
        "\n",
        "Access point Router with ID 7\n",
        "-----------------------------\n",
        "t (s) : 0.00\n",
        "Vmoy (m/s) : 0.0\n",
        "              x   y    z  vx  vy  ax  ay  s\n",
        "t                                          \n",
        "1970-01-01  0.7  14  2.5   0   0   0   0  0\n",
        "\n",
        "[1 rows x 8 columns]\n",
        "\n",
        "Access point Router with ID 8\n",
        "-----------------------------\n",
        "t (s) : 0.00\n",
        "Vmoy (m/s) : 0.0\n",
        "             x   y    z  vx  vy  ax  ay  s\n",
        "t                                         \n",
        "1970-01-01  39  13  2.5   0   0   0   0  0\n",
        "\n",
        "[1 rows x 8 columns]\n",
        "\n"
       ]
      }
     ],
     "prompt_number": 15
    },
    {
     "cell_type": "markdown",
     "metadata": {},
     "source": [
      "The 2 following trajectories have been calculated with `pylayers.simul.simulnet`"
     ]
    },
    {
     "cell_type": "code",
     "collapsed": false,
     "input": [
      "t=S.traj.resample(10)"
     ],
     "language": "python",
     "metadata": {},
     "outputs": [],
     "prompt_number": 16
    },
    {
     "cell_type": "code",
     "collapsed": false,
     "input": [
      "f=plt.figure(figsize=(20,20))\n",
      "f,a = S.L.showGs(fig=f)\n",
      "for nodes in t:\n",
      "    f,a = nodes.plot(fig=f,ax=a)"
     ],
     "language": "python",
     "metadata": {},
     "outputs": [
      {
       "metadata": {},
       "output_type": "display_data",
       "png": "[encoded data removed]",
       "text": [
        "<matplotlib.figure.Figure at 0x8f27710>"
       ]
      }
     ],
     "prompt_number": 17
    }
   ],
   "metadata": {}
  }
 ]
}