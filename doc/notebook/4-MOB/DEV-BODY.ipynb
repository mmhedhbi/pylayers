{
 "metadata": {
  "name": "",
  "signature": "sha256:ae31cbeac9cc4df44385540d6031e1042a3ac86194fa3fa516508a32a671871c"
 },
 "nbformat": 3,
 "nbformat_minor": 0,
 "worksheets": [
  {
   "cells": [
    {
     "cell_type": "code",
     "collapsed": false,
     "input": [
      "%matplotlib inline"
     ],
     "language": "python",
     "metadata": {},
     "outputs": [],
     "prompt_number": 25
    },
    {
     "cell_type": "markdown",
     "metadata": {},
     "source": [
      "# Handling Motion Capture Body Mobility in PyLayers"
     ]
    },
    {
     "cell_type": "code",
     "collapsed": false,
     "input": [
      "from pylayers.mobility.ban.body import *\n",
      "from pylayers.mobility.trajectory import Trajectory\n",
      "from IPython.display import Image\n",
      "from matplotlib.pyplot import *"
     ],
     "language": "python",
     "metadata": {},
     "outputs": [],
     "prompt_number": 26
    },
    {
     "cell_type": "markdown",
     "metadata": {},
     "source": [
      "The body mobility is imported from motion capture files. This is the chosen manner to achieve a high degree of realism for the modeling of the human motion. Two kind of files exist : \n",
      "\n",
      "+ `c3d` files are a set of point which are evolving in time\n",
      "+ `bvh` files are a stuctured version of the motion capture.\n",
      "\n",
      "Both type of file will be exploited in the following. "
     ]
    },
    {
     "cell_type": "markdown",
     "metadata": {},
     "source": [
      "## `BodyCylinder` data structure"
     ]
    },
    {
     "cell_type": "markdown",
     "metadata": {},
     "source": [
      "To ease electromagnetic simulation a simplification of the motion capture data structure is necessary. Generally there is a large number of captured points, not all of them being useful for our modeling. \n",
      "\n",
      "The body model is a restriction of key body segments which are transformed into $K$ cylinders of radius $r_k$. \n",
      "\n",
      "The chosen body model is made of 11 cylinders. 4 cylinders decribing the two arms, 4 cylinders decribing the two legs,  2 cylinders describing the trunk and 1 cylinder for the head. \n",
      "\n",
      "The body cylinder model is handled by the dedicated Python class call `Body`"
     ]
    },
    {
     "cell_type": "markdown",
     "metadata": {},
     "source": [
      "To create a void body, simply instantiate a Body object from the class"
     ]
    },
    {
     "cell_type": "code",
     "collapsed": false,
     "input": [
      "John = Body()"
     ],
     "language": "python",
     "metadata": {},
     "outputs": [],
     "prompt_number": 27
    },
    {
     "cell_type": "markdown",
     "metadata": {},
     "source": [
      "which is equivalent to :"
     ]
    },
    {
     "cell_type": "code",
     "collapsed": false,
     "input": [
      "John = Body(_filebody='John.ini',_filemocap='07_01.c3d')"
     ],
     "language": "python",
     "metadata": {},
     "outputs": [],
     "prompt_number": 28
    },
    {
     "cell_type": "markdown",
     "metadata": {},
     "source": [
      "The default body filename is John.ini and the default motion capture filename is '07_01.c3d'. The creation of a Body consists in reading a `_filebody` and a `_filemocap`"
     ]
    },
    {
     "cell_type": "markdown",
     "metadata": {},
     "source": [
      "## Description of a body file\n",
      "\n",
      "An example of a body file is given below. It is a file in `ini` format with 4 sections. \n",
      "\n",
      "+ [nodes] \n",
      " \n",
      "   This section associates a node number to a c3d fils conventional  node number \n",
      "   \n",
      "    NodeId = C3DNODE\n",
      "    \n",
      "+ [cylinder]\n",
      "\n",
      "   This section associates a cylinder Id to a dictionnary wich contains cylinder tail head and radius information \n",
      "   \n",
      "      CylId = {'t',NodeId1,'h',NodeId2,'r',float (m),'name',}\n",
      "      \n",
      "+ [device]\n",
      "\n",
      "   This section associates a device name to a dictionnary wich contains cylinder device related information\n",
      "   \n",
      "       DevId = {'typ' : {static|mobile} \n",
      "                 'cyl': CylId \n",
      "                 'l'  : length coordinate in ccs,\n",
      "                 'h'  : height coordinate in ccs, \n",
      "                 'a'  : angle coordinate in ccs, \n",
      "                 'file' : antenna file , \n",
      "                 'T' : Rotation matrix }\n",
      "   "
     ]
    },
    {
     "cell_type": "code",
     "collapsed": false,
     "input": [
      "#%load /home/uguen/Bureau/P1/ini/Francois.ini"
     ],
     "language": "python",
     "metadata": {},
     "outputs": [],
     "prompt_number": 29
    },
    {
     "cell_type": "raw",
     "metadata": {},
     "source": [
      "[nodes]\n",
      "0 = STRN\n",
      "1 = CLAV\n",
      "2 = RFHD \n",
      "3 =RSHO \n",
      "4 =LSHO\n",
      "5 =RELB \n",
      "6 =LELB \n",
      "7 =RWRB \n",
      "8 =LWRB\n",
      "9 =RFWT\n",
      "10 =LFWT \n",
      "11 =RKNE\n",
      "12 =LKNE \n",
      "13 =RANK \n",
      "14 =LANK \n",
      "15 =BOTT \n",
      "[cylinder]\n",
      "; sternum (STRN) - clavicule (CLAV)\n",
      "trunku = {'t':0,'h':1,'r':0.18,'i':0}\n",
      "; bottom  (BOTT) sternum (STRN)  \n",
      "trunkb = {'t':15,'h':0,'r':0.17,'i':10}\n",
      "; clavicule (CLAV)  - tete (RFHD)\n",
      "headu = {'t':1,'h':2,'r':0.12,'i':1}\n",
      "; coude droit (RELB)  epaule droite (RSHO)\n",
      "armr = {'t':5,'h':3,'r':0.05,'i':2}\n",
      "; coude gauche (LELB)  epaule gauche (LSHO)\n",
      "arml  = {'t':6,'h':4,'r':0.05,'i':3}\n",
      "; poignet droit (RWRB) coude droit (RELB)  \n",
      "forearmr = {'t':7,'h':5,'r':0.05,'i':4}\n",
      "; left wrist (LWRB)  left elbow (LELB)  \n",
      "forearml = {'t':8,'h':6,'r':0.05,'i':5}\n",
      "; knee droit (RKNE) hanche droit (RFWT)  \n",
      "thighr = {'t':11,'h':9,'r':0.05,'i':6}\n",
      "; knee left (LKNE)  hanche left (LFWT)  \n",
      "thighl = {'t':12,'h':10,'r':0.05,'i':7}\n",
      "; cheville droit (RANK) genou  droit (RKNE)  \n",
      "calfr = {'t':13,'h':11,'r':0.05,'i':8}\n",
      "; cheville droit (LANK) genou  droit (LKNE)  \n",
      "calfl = {'t':14,'h':12,'r':0.05,'i':9}\n",
      "[device]\n",
      "0 = {'typ':'static','name':'BeSpoon Phone','cyl':'trunku','l':0.1,'h':0.01,'a':0,'file':'S2R2.sh3','T':np.array([[1,0,0],[0,1,0],[0,0,1]])}\n",
      "1 = {'typ':'static','name':'Movea Accel','cyl':'trunku','l':0.1,'h':0.01,'a':180,'file':'S2R2.sh3','T':np.array([[1,0,0],[0,1,0],[0,0,1]])}\n",
      "2 = {'typ':'static','name':'Optivent Glass','cyl':'head','l':0.7,'h':0.01,'a':0,'file':'S2R2.sh3','T':np.array([[1,0,0],[0,1,0],[0,0,1]])}\n",
      "3 = {'typ':'static','name':'Geonaute Podo','cyl':'trunkb','l':0.1,'h':0.01,'a':45,'file':'S2R2.sh3','T':np.array([[1,0,0],[0,1,0],[0,0,1]])}\n",
      "4 = {'typ':'static','name':'Breizh Watch','cyl':'forearmr','l':0.2,'h':0.01,'a':0,'file':'S2R2.sh3','T':np.array([[1,0,0],[0,1,0],[0,0,1]])}\n",
      "5 = {'typ':'static','name':'Breizh Watch','cyl':'forearml','l':0.2,'h':0.01,'a':0,'file':'S2R2.sh3','T':np.array([[1,0,0],[0,1,0],[0,0,1]])}\n",
      "[mocap]\n",
      "\n",
      "walk = '07_01_c3d' \n"
     ]
    },
    {
     "cell_type": "code",
     "collapsed": false,
     "input": [
      "John"
     ],
     "language": "python",
     "metadata": {},
     "outputs": [
      {
       "metadata": {},
       "output_type": "pyout",
       "prompt_number": 30,
       "text": [
        "My name is : John\n",
        "\n",
        "I have a Galaxy Gear device on the left forearm\n",
        "I have a cardio device on the upper part of trunk\n",
        "I am nowhere yet\n",
        "\n",
        "filename : 07_01.c3d\n",
        "nframes : 300\n",
        "Centered : True\n",
        "Mocap Speed : 1.366 m/s \n"
       ]
      }
     ],
     "prompt_number": 30
    },
    {
     "cell_type": "code",
     "collapsed": false,
     "input": [
      "Francois = Body(_filebody='Francois.ini',_filemocap='07_01.c3d')\n",
      "Francois"
     ],
     "language": "python",
     "metadata": {},
     "outputs": [
      {
       "metadata": {},
       "output_type": "pyout",
       "prompt_number": 31,
       "text": [
        "My name is : Francois\n",
        "\n",
        "I have a BeSpoon Phone device on the upper part of trunk\n",
        "I have a Breizh Watch device on the left forearm\n",
        "I have a Breizh Watch device on the right forearm\n",
        "I am nowhere yet\n",
        "\n",
        "filename : 07_01.c3d\n",
        "nframes : 300\n",
        "Centered : True\n",
        "Mocap Speed : 1.366 m/s \n"
       ]
      }
     ],
     "prompt_number": 31
    },
    {
     "cell_type": "markdown",
     "metadata": {},
     "source": [
      "## Loading a Motion Capture File"
     ]
    },
    {
     "cell_type": "markdown",
     "metadata": {},
     "source": [
      "A `.c3d` motion capture file is loaded with the method `loadC3D` with as arguments the motion capture file and the number of frames to load.  \n",
      "\n",
      "The motion is represented as a sequence of framef stored in the `d` variable member."
     ]
    },
    {
     "cell_type": "markdown",
     "metadata": {},
     "source": [
      "It is possible to get the information from the C3D header by using the verbose option of the `read_c3d` function"
     ]
    },
    {
     "cell_type": "code",
     "collapsed": false,
     "input": [
      "# Video Frame Rate \n",
      "Vrate = 120\n",
      "# Inter Frame\n",
      "Tframe = 1./120\n",
      "# select a number of frame \n",
      "nframes = 300\n",
      "# Time duration of the whole selected frame sequence\n",
      "Tfseq = Tframe*nframes\n",
      "#\n",
      "# load a .c3dmotion capture file\n",
      "# this update the g.pos \n",
      "#\n",
      "#bc.loadC3D(filename='07_01.c3d',nframes=nframes,centered=True)"
     ],
     "language": "python",
     "metadata": {},
     "outputs": [],
     "prompt_number": 32
    },
    {
     "cell_type": "markdown",
     "metadata": {},
     "source": [
      "The duration of the capture is "
     ]
    },
    {
     "cell_type": "code",
     "collapsed": false,
     "input": [
      "print \"Duration of the motion capture sequence\", Tfseq,\" seconds\""
     ],
     "language": "python",
     "metadata": {},
     "outputs": [
      {
       "output_type": "stream",
       "stream": "stdout",
       "text": [
        "Duration of the motion capture sequence 2.5  seconds\n"
       ]
      }
     ],
     "prompt_number": 33
    },
    {
     "cell_type": "markdown",
     "metadata": {},
     "source": [
      "`d` is a MDA of shape `(3,npoint,nframe)`. It contains all the possible configurations of the body. In general it is supposed to be a cyclic motion as an integer number of walking steps. This allows to instantiate the body configuration anywhere else in space in a given trajectory. \n",
      "\n",
      "A specific space-time configuration of the body is called a **`topos`**."
     ]
    },
    {
     "cell_type": "code",
     "collapsed": false,
     "input": [
      "np.shape(John.d)"
     ],
     "language": "python",
     "metadata": {},
     "outputs": [
      {
       "metadata": {},
       "output_type": "pyout",
       "prompt_number": 34,
       "text": [
        "(3, 16, 300)"
       ]
      }
     ],
     "prompt_number": 34
    },
    {
     "cell_type": "markdown",
     "metadata": {},
     "source": [
      "## Defining a trajectory\n",
      "\n",
      "A Trajectory is a class which : \n",
      "\n",
      "+ derives from a pandas `DataFrame` \n",
      "+ is container for time,position,velocity and acceleration. \n",
      "\n",
      "To define a default trajectory : "
     ]
    },
    {
     "cell_type": "code",
     "collapsed": false,
     "input": [
      "traj = Trajectory()\n",
      "t = traj.generate()"
     ],
     "language": "python",
     "metadata": {},
     "outputs": [],
     "prompt_number": 35
    },
    {
     "cell_type": "code",
     "collapsed": false,
     "input": [
      "traj.head()"
     ],
     "language": "python",
     "metadata": {},
     "outputs": [
      {
       "html": [
        "<div style=\"max-height:1000px;max-width:1500px;overflow:auto;\">\n",
        "<table border=\"1\" class=\"dataframe\">\n",
        "  <thead>\n",
        "    <tr style=\"text-align: right;\">\n",
        "      <th></th>\n",
        "      <th>x</th>\n",
        "      <th>y</th>\n",
        "      <th>z</th>\n",
        "      <th>vx</th>\n",
        "      <th>vy</th>\n",
        "      <th>vz</th>\n",
        "      <th>ax</th>\n",
        "      <th>ay</th>\n",
        "      <th>az</th>\n",
        "      <th>s</th>\n",
        "    </tr>\n",
        "  </thead>\n",
        "  <tbody>\n",
        "    <tr>\n",
        "      <th>1970-01-01 00:00:00</th>\n",
        "      <td> 0.000000</td>\n",
        "      <td> 0.000000</td>\n",
        "      <td> 1.226488</td>\n",
        "      <td> 0.299813</td>\n",
        "      <td> 1</td>\n",
        "      <td>-1.938185</td>\n",
        "      <td>-0.005505</td>\n",
        "      <td> 0</td>\n",
        "      <td>-16.851795</td>\n",
        "      <td> 0.000000</td>\n",
        "    </tr>\n",
        "    <tr>\n",
        "      <th>1970-01-01 00:00:00.204082</th>\n",
        "      <td> 0.061186</td>\n",
        "      <td> 0.204082</td>\n",
        "      <td> 0.830940</td>\n",
        "      <td> 0.298689</td>\n",
        "      <td> 1</td>\n",
        "      <td>-5.377327</td>\n",
        "      <td>-0.010989</td>\n",
        "      <td> 0</td>\n",
        "      <td> 51.254274</td>\n",
        "      <td> 0.213056</td>\n",
        "    </tr>\n",
        "    <tr>\n",
        "      <th>1970-01-01 00:00:00.408163</th>\n",
        "      <td> 0.122143</td>\n",
        "      <td> 0.408163</td>\n",
        "      <td>-0.266473</td>\n",
        "      <td> 0.296446</td>\n",
        "      <td> 1</td>\n",
        "      <td> 5.082729</td>\n",
        "      <td>-0.016433</td>\n",
        "      <td> 0</td>\n",
        "      <td>-34.842497</td>\n",
        "      <td> 0.426047</td>\n",
        "    </tr>\n",
        "    <tr>\n",
        "      <th>1970-01-01 00:00:00.612245</th>\n",
        "      <td> 0.182642</td>\n",
        "      <td> 0.612245</td>\n",
        "      <td> 0.770818</td>\n",
        "      <td> 0.293093</td>\n",
        "      <td> 1</td>\n",
        "      <td>-2.027985</td>\n",
        "      <td>-0.021814</td>\n",
        "      <td> 0</td>\n",
        "      <td>-17.629478</td>\n",
        "      <td> 0.638907</td>\n",
        "    </tr>\n",
        "    <tr>\n",
        "      <th>1970-01-01 00:00:00.816327</th>\n",
        "      <td> 0.242457</td>\n",
        "      <td> 0.816327</td>\n",
        "      <td> 0.356944</td>\n",
        "      <td> 0.288641</td>\n",
        "      <td> 1</td>\n",
        "      <td>-5.625838</td>\n",
        "      <td>-0.027114</td>\n",
        "      <td> 0</td>\n",
        "      <td>-14.131343</td>\n",
        "      <td> 0.851574</td>\n",
        "    </tr>\n",
        "  </tbody>\n",
        "</table>\n",
        "<p>5 rows \u00d7 10 columns</p>\n",
        "</div>"
       ],
       "metadata": {},
       "output_type": "pyout",
       "prompt_number": 36,
       "text": [
        "                                   x         y         z        vx  vy  \\\n",
        "1970-01-01 00:00:00         0.000000  0.000000  1.226488  0.299813   1   \n",
        "1970-01-01 00:00:00.204082  0.061186  0.204082  0.830940  0.298689   1   \n",
        "1970-01-01 00:00:00.408163  0.122143  0.408163 -0.266473  0.296446   1   \n",
        "1970-01-01 00:00:00.612245  0.182642  0.612245  0.770818  0.293093   1   \n",
        "1970-01-01 00:00:00.816327  0.242457  0.816327  0.356944  0.288641   1   \n",
        "\n",
        "                                  vz        ax  ay         az         s  \n",
        "1970-01-01 00:00:00        -1.938185 -0.005505   0 -16.851795  0.000000  \n",
        "1970-01-01 00:00:00.204082 -5.377327 -0.010989   0  51.254274  0.213056  \n",
        "1970-01-01 00:00:00.408163  5.082729 -0.016433   0 -34.842497  0.426047  \n",
        "1970-01-01 00:00:00.612245 -2.027985 -0.021814   0 -17.629478  0.638907  \n",
        "1970-01-01 00:00:00.816327 -5.625838 -0.027114   0 -14.131343  0.851574  \n",
        "\n",
        "[5 rows x 10 columns]"
       ]
      }
     ],
     "prompt_number": 36
    },
    {
     "cell_type": "code",
     "collapsed": false,
     "input": [
      "f,a = traj.plot()"
     ],
     "language": "python",
     "metadata": {},
     "outputs": [
      {
       "metadata": {},
       "output_type": "display_data",
       "png": "[encoded data removed]",
       "text": [
        "<matplotlib.figure.Figure at 0x9fb3510>"
       ]
      }
     ],
     "prompt_number": 37
    },
    {
     "cell_type": "markdown",
     "metadata": {},
     "source": [
      "### settopos () method\n",
      "\n",
      "Once the trajectory has been defined it is possible to send the body at the position corresponding to any time \n",
      "of the trajectory with the `settopos` method. \n",
      "\n",
      "settopos takes as argument \n",
      "\n",
      "+ A trajectory \n",
      "+ A time index"
     ]
    },
    {
     "cell_type": "code",
     "collapsed": false,
     "input": [
      "traj.__repr__()"
     ],
     "language": "python",
     "metadata": {},
     "outputs": [
      {
       "metadata": {},
       "output_type": "pyout",
       "prompt_number": 38,
       "text": [
        "'void Trajectory'"
       ]
      }
     ],
     "prompt_number": 38
    },
    {
     "cell_type": "code",
     "collapsed": false,
     "input": [
      "John.settopos(traj,t=5)"
     ],
     "language": "python",
     "metadata": {},
     "outputs": [],
     "prompt_number": 39
    },
    {
     "cell_type": "code",
     "collapsed": false,
     "input": [
      "plt.figure(figsize=(15,20))\n",
      "for t in np.arange(traj.tmin+0.4,traj.tmax,0.5):\n",
      "    John.settopos(traj,t=t)\n",
      "    f,a=John.show(color='b',plane='yz',topos=True)\n",
      "    axis('off')"
     ],
     "language": "python",
     "metadata": {},
     "outputs": [
      {
       "metadata": {},
       "output_type": "display_data",
       "png": "[encoded data removed]",
       "text": [
        "<matplotlib.figure.Figure at 0x7f85acd80950>"
       ]
      }
     ],
     "prompt_number": 40
    },
    {
     "cell_type": "code",
     "collapsed": true,
     "input": [
      "John"
     ],
     "language": "python",
     "metadata": {},
     "outputs": [
      {
       "metadata": {},
       "output_type": "pyout",
       "prompt_number": 41,
       "text": [
        "My name is : John\n",
        "\n",
        "I have a Galaxy Gear device on the left forearm\n",
        "I have a cardio device on the upper part of trunk\n",
        "My centroid position is \n",
        "[ 0.31956097  9.3877551 ]\n",
        "filename : 07_01.c3d\n",
        "nframes : 300\n",
        "Centered : True\n",
        "Mocap Speed : 1.366 m/s \n"
       ]
      }
     ],
     "prompt_number": 41
    },
    {
     "cell_type": "code",
     "collapsed": false,
     "input": [
      "Francois.settopos(traj,t=6)\n",
      "Francois"
     ],
     "language": "python",
     "metadata": {},
     "outputs": [
      {
       "metadata": {},
       "output_type": "pyout",
       "prompt_number": 42,
       "text": [
        "My name is : Francois\n",
        "\n",
        "I have a BeSpoon Phone device on the upper part of trunk\n",
        "I have a Breizh Watch device on the left forearm\n",
        "I have a Breizh Watch device on the right forearm\n",
        "My centroid position is \n",
        "[ 0.97911919  5.91836735]\n",
        "filename : 07_01.c3d\n",
        "nframes : 300\n",
        "Centered : True\n",
        "Mocap Speed : 1.366 m/s \n"
       ]
      }
     ],
     "prompt_number": 42
    },
    {
     "cell_type": "markdown",
     "metadata": {},
     "source": [
      "+ 3  : dimension of space\n",
      "+ 16 : number of nodes\n",
      "+ 300 : number of frames "
     ]
    },
    {
     "cell_type": "markdown",
     "metadata": {},
     "source": [
      "The figure below shows the projection in a vertival plane of the body nodes. "
     ]
    },
    {
     "cell_type": "heading",
     "level": 2,
     "metadata": {},
     "source": [
      "Centering the motion"
     ]
    },
    {
     "cell_type": "code",
     "collapsed": false,
     "input": [
      "John.centered"
     ],
     "language": "python",
     "metadata": {},
     "outputs": [
      {
       "metadata": {},
       "output_type": "pyout",
       "prompt_number": 43,
       "text": [
        "True"
       ]
      }
     ],
     "prompt_number": 43
    },
    {
     "cell_type": "markdown",
     "metadata": {},
     "source": [
      "In order to translate the motion in any point in space-time, a distinction is made between the real motion or topos and the centered motion capture which acts as a virtual motion. \n",
      "\n",
      "Let $\\mathbf{p}^k$ denotes the center of gravity of the body in the (O,x,y) plane"
     ]
    },
    {
     "cell_type": "code",
     "collapsed": false,
     "input": [
      "John.center()"
     ],
     "language": "python",
     "metadata": {},
     "outputs": [],
     "prompt_number": 44
    },
    {
     "cell_type": "code",
     "collapsed": false,
     "input": [
      "a = np.hstack((John.vg,John.vg[:,-1][:,np.newaxis]))"
     ],
     "language": "python",
     "metadata": {},
     "outputs": [],
     "prompt_number": 45
    },
    {
     "cell_type": "markdown",
     "metadata": {},
     "source": [
      "$\\mathbf{v}_g$ is the velocity vector of the gravity center of the body."
     ]
    },
    {
     "cell_type": "code",
     "collapsed": false,
     "input": [
      "print np.shape(John.pg)\n",
      "print np.shape(John.vg)"
     ],
     "language": "python",
     "metadata": {},
     "outputs": [
      {
       "output_type": "stream",
       "stream": "stdout",
       "text": [
        "(3, 300)\n",
        "(3, 300)\n"
       ]
      }
     ],
     "prompt_number": 46
    },
    {
     "cell_type": "code",
     "collapsed": false,
     "input": [
      "print John.vg[:,145]\n",
      "print John.vg[:,298]"
     ],
     "language": "python",
     "metadata": {},
     "outputs": [
      {
       "output_type": "stream",
       "stream": "stdout",
       "text": [
        "[ 0.0114987  -0.00026335  0.        ]\n",
        "[  1.08123514e-02   7.24411022e-05   0.00000000e+00]\n"
       ]
      }
     ],
     "prompt_number": 47
    },
    {
     "cell_type": "markdown",
     "metadata": {},
     "source": [
      "At that point the body structure is centered. \n",
      "\n",
      "\n",
      "\n",
      "The frame is centered in the xy plane by substracting from the configuration of points the projection of the body in the xy plane. "
     ]
    },
    {
     "cell_type": "code",
     "collapsed": false,
     "input": [
      "np.shape(John.d)"
     ],
     "language": "python",
     "metadata": {},
     "outputs": [
      {
       "metadata": {},
       "output_type": "pyout",
       "prompt_number": 48,
       "text": [
        "(3, 16, 300)"
       ]
      }
     ],
     "prompt_number": 48
    },
    {
     "cell_type": "code",
     "collapsed": false,
     "input": [
      "John.npoints"
     ],
     "language": "python",
     "metadata": {},
     "outputs": [
      {
       "metadata": {},
       "output_type": "pyout",
       "prompt_number": 49,
       "text": [
        "16"
       ]
      }
     ],
     "prompt_number": 49
    },
    {
     "cell_type": "markdown",
     "metadata": {},
     "source": [
      "Each frame is centered above the origin. For example for a walk motion the effect of the centering is just like if the body was still walking but not moving forward exactly in the same manner as a walk on a conveyor belt."
     ]
    },
    {
     "cell_type": "code",
     "collapsed": false,
     "input": [
      "pgc = np.sum(John.d[:,:,0],axis=1)/16\n",
      "pg0 = John.pg[:,0]\n",
      "print \"True center of gravity\", pg0\n",
      "print \"Center of gravity of the centered frame\",pgc"
     ],
     "language": "python",
     "metadata": {},
     "outputs": [
      {
       "output_type": "stream",
       "stream": "stdout",
       "text": [
        "True center of gravity [-1.74251571  0.49373077  0.        ]\n",
        "Center of gravity of the centered frame [  3.74700271e-16   1.38777878e-17   8.94887363e-01]\n"
       ]
      }
     ],
     "prompt_number": 50
    },
    {
     "cell_type": "code",
     "collapsed": false,
     "input": [
      "np.shape(John.pg)"
     ],
     "language": "python",
     "metadata": {},
     "outputs": [
      {
       "metadata": {},
       "output_type": "pyout",
       "prompt_number": 51,
       "text": [
        "(3, 300)"
       ]
      }
     ],
     "prompt_number": 51
    },
    {
     "cell_type": "markdown",
     "metadata": {},
     "source": [
      "The current file contains 300 frames"
     ]
    },
    {
     "cell_type": "code",
     "collapsed": false,
     "input": [
      "tframe = np.arange(John.nframes)"
     ],
     "language": "python",
     "metadata": {},
     "outputs": [],
     "prompt_number": 54
    },
    {
     "cell_type": "code",
     "collapsed": false,
     "input": [
      "np.shape(John.pg[0:-1,:])"
     ],
     "language": "python",
     "metadata": {},
     "outputs": [
      {
       "metadata": {},
       "output_type": "pyout",
       "prompt_number": 55,
       "text": [
        "(2, 300)"
       ]
      }
     ],
     "prompt_number": 55
    },
    {
     "cell_type": "code",
     "collapsed": false,
     "input": [
      "xg = John.pg[0,:]\n",
      "yg = John.pg[1,:]\n",
      "zg = John.pg[2,:]\n",
      "figure(figsize=(8,8))\n",
      "subplot(311)\n",
      "plot(tframe,xg)\n",
      "title('x component')\n",
      "ylabel('m')\n",
      "subplot(312)\n",
      "xlabel('frame index')\n",
      "title('y component')\n",
      "ylabel('m')\n",
      "plot(tframe,yg)\n",
      "subplot(313)\n",
      "xlabel('frame index')\n",
      "title('Motion capture centroid trajectory')\n",
      "ylabel('m')\n",
      "plot(xg,yg,'.b')\n",
      "\n",
      "d = John.pg[0:-1,1:]-John.pg[0:-1,0:-1]\n",
      "smocap = np.cumsum(np.sqrt(np.sum(d*d,axis=0)))\n",
      "\n",
      "Vmocap = smocap[-1]/Tfseq\n",
      "title('Length = '+str(smocap[-1])+' V = '+str(Vmocap*3.6)+' km/h')\n",
      "axis('scaled')\n",
      "axis('off')\n",
      "plt.tight_layout()"
     ],
     "language": "python",
     "metadata": {},
     "outputs": [
      {
       "metadata": {},
       "output_type": "display_data",
       "png": "[encoded data removed]",
       "text": [
        "<matplotlib.figure.Figure at 0x7f85ad3bf310>"
       ]
      }
     ],
     "prompt_number": 57
    },
    {
     "cell_type": "code",
     "collapsed": false,
     "input": [
      "plot(smocap)\n",
      "title('evolution of curvilinear abscisse from motion capture centroid trajectory') \n",
      "xlabel('frame index')\n",
      "ylabel('distance (meters)')"
     ],
     "language": "python",
     "metadata": {},
     "outputs": [
      {
       "metadata": {},
       "output_type": "pyout",
       "prompt_number": 58,
       "text": [
        "<matplotlib.text.Text at 0x7f85acf39fd0>"
       ]
      },
      {
       "metadata": {},
       "output_type": "display_data",
       "png": "[encoded data removed]",
       "text": [
        "<matplotlib.figure.Figure at 0x7f85ac6fd3d0>"
       ]
      }
     ],
     "prompt_number": 58
    },
    {
     "cell_type": "heading",
     "level": 2,
     "metadata": {},
     "source": [
      "Defining a large scale trajectory "
     ]
    },
    {
     "cell_type": "markdown",
     "metadata": {},
     "source": [
      "A large scale trajectory is defined in the $(O,x,y)$ plane.\n",
      "\n",
      "`traj` is a data structure (Npt,2)"
     ]
    },
    {
     "cell_type": "code",
     "collapsed": false,
     "input": [
      "v = Vmocap\n",
      "print v*3.6,\"Kmph\""
     ],
     "language": "python",
     "metadata": {},
     "outputs": [
      {
       "output_type": "stream",
       "stream": "stdout",
       "text": [
        "4.91610047343 Kmph\n"
       ]
      }
     ],
     "prompt_number": 59
    },
    {
     "cell_type": "code",
     "collapsed": false,
     "input": [
      "# time in seconds\n",
      "time = np.arange(0,10,0.01)\n",
      "x = v*time\n",
      "y = np.zeros(len(time))\n",
      "z = np.zeros(len(time))\n",
      "traj = Trajectory()\n",
      "traj.generate()\n",
      "traj.tmax"
     ],
     "language": "python",
     "metadata": {},
     "outputs": [
      {
       "metadata": {},
       "output_type": "pyout",
       "prompt_number": 62,
       "text": [
        "9.591837"
       ]
      }
     ],
     "prompt_number": 62
    },
    {
     "cell_type": "code",
     "collapsed": false,
     "input": [
      "fig ,ax = traj.plot()\n",
      "traj.head()"
     ],
     "language": "python",
     "metadata": {},
     "outputs": [
      {
       "html": [
        "<div style=\"max-height:1000px;max-width:1500px;overflow:auto;\">\n",
        "<table border=\"1\" class=\"dataframe\">\n",
        "  <thead>\n",
        "    <tr style=\"text-align: right;\">\n",
        "      <th></th>\n",
        "      <th>x</th>\n",
        "      <th>y</th>\n",
        "      <th>z</th>\n",
        "      <th>vx</th>\n",
        "      <th>vy</th>\n",
        "      <th>vz</th>\n",
        "      <th>ax</th>\n",
        "      <th>ay</th>\n",
        "      <th>az</th>\n",
        "      <th>s</th>\n",
        "    </tr>\n",
        "  </thead>\n",
        "  <tbody>\n",
        "    <tr>\n",
        "      <th>1970-01-01 00:00:00</th>\n",
        "      <td> 0.000000</td>\n",
        "      <td> 0.000000</td>\n",
        "      <td> 0.367319</td>\n",
        "      <td> 0.299813</td>\n",
        "      <td> 1</td>\n",
        "      <td>-1.944814</td>\n",
        "      <td>-0.005505</td>\n",
        "      <td> 0</td>\n",
        "      <td> 16.515515</td>\n",
        "      <td> 0.000000</td>\n",
        "    </tr>\n",
        "    <tr>\n",
        "      <th>1970-01-01 00:00:00.204082</th>\n",
        "      <td> 0.061186</td>\n",
        "      <td> 0.204082</td>\n",
        "      <td>-0.029582</td>\n",
        "      <td> 0.298689</td>\n",
        "      <td> 1</td>\n",
        "      <td> 1.425700</td>\n",
        "      <td>-0.010989</td>\n",
        "      <td> 0</td>\n",
        "      <td>-17.445426</td>\n",
        "      <td> 0.213056</td>\n",
        "    </tr>\n",
        "    <tr>\n",
        "      <th>1970-01-01 00:00:00.408163</th>\n",
        "      <td> 0.122143</td>\n",
        "      <td> 0.408163</td>\n",
        "      <td> 0.261377</td>\n",
        "      <td> 0.296446</td>\n",
        "      <td> 1</td>\n",
        "      <td>-2.134591</td>\n",
        "      <td>-0.016433</td>\n",
        "      <td> 0</td>\n",
        "      <td> 40.864305</td>\n",
        "      <td> 0.426047</td>\n",
        "    </tr>\n",
        "    <tr>\n",
        "      <th>1970-01-01 00:00:00.612245</th>\n",
        "      <td> 0.182642</td>\n",
        "      <td> 0.612245</td>\n",
        "      <td>-0.174254</td>\n",
        "      <td> 0.293093</td>\n",
        "      <td> 1</td>\n",
        "      <td> 6.205063</td>\n",
        "      <td>-0.021814</td>\n",
        "      <td> 0</td>\n",
        "      <td>-45.211143</td>\n",
        "      <td> 0.638907</td>\n",
        "    </tr>\n",
        "    <tr>\n",
        "      <th>1970-01-01 00:00:00.816327</th>\n",
        "      <td> 0.242457</td>\n",
        "      <td> 0.816327</td>\n",
        "      <td> 1.092086</td>\n",
        "      <td> 0.288641</td>\n",
        "      <td> 1</td>\n",
        "      <td>-3.021701</td>\n",
        "      <td>-0.027114</td>\n",
        "      <td> 0</td>\n",
        "      <td>-44.785535</td>\n",
        "      <td> 0.851574</td>\n",
        "    </tr>\n",
        "  </tbody>\n",
        "</table>\n",
        "<p>5 rows \u00d7 10 columns</p>\n",
        "</div>"
       ],
       "metadata": {},
       "output_type": "pyout",
       "prompt_number": 63,
       "text": [
        "                                   x         y         z        vx  vy  \\\n",
        "1970-01-01 00:00:00         0.000000  0.000000  0.367319  0.299813   1   \n",
        "1970-01-01 00:00:00.204082  0.061186  0.204082 -0.029582  0.298689   1   \n",
        "1970-01-01 00:00:00.408163  0.122143  0.408163  0.261377  0.296446   1   \n",
        "1970-01-01 00:00:00.612245  0.182642  0.612245 -0.174254  0.293093   1   \n",
        "1970-01-01 00:00:00.816327  0.242457  0.816327  1.092086  0.288641   1   \n",
        "\n",
        "                                  vz        ax  ay         az         s  \n",
        "1970-01-01 00:00:00        -1.944814 -0.005505   0  16.515515  0.000000  \n",
        "1970-01-01 00:00:00.204082  1.425700 -0.010989   0 -17.445426  0.213056  \n",
        "1970-01-01 00:00:00.408163 -2.134591 -0.016433   0  40.864305  0.426047  \n",
        "1970-01-01 00:00:00.612245  6.205063 -0.021814   0 -45.211143  0.638907  \n",
        "1970-01-01 00:00:00.816327 -3.021701 -0.027114   0 -44.785535  0.851574  \n",
        "\n",
        "[5 rows x 10 columns]"
       ]
      },
      {
       "metadata": {},
       "output_type": "display_data",
       "png": "[encoded data removed]",
       "text": [
        "<matplotlib.figure.Figure at 0x7f85ad28b350>"
       ]
      }
     ],
     "prompt_number": 63
    },
    {
     "cell_type": "heading",
     "level": 2,
     "metadata": {},
     "source": [
      "Trajectory"
     ]
    },
    {
     "cell_type": "heading",
     "level": 2,
     "metadata": {},
     "source": [
      "`posvel()`"
     ]
    },
    {
     "cell_type": "markdown",
     "metadata": {},
     "source": [
      "\n",
      "\n",
      "\n",
      "The `posvel()` function (position and velocity) takes as arguments the following parameters \n",
      "\n",
      "+ `traj` a plane trajectory object.\n",
      "+ $t_k$ time for evaluation of topos \n",
      "+ $T_{fs}$ duration of the periodic motion frame sequence \n",
      "\n",
      "and returns \n",
      "\n",
      "+ the frame index $k_f = \\lfloor \\frac{t_k \\pmod{T_{fs}}}{t_f} \\rfloor$\n",
      "+ the trajectory index $k_t = \\lfloor t_k \\rfloor$\n",
      "+ velocity unitary vector along motion capture frame $\\hat{\\mathbf{v}}_s = \\frac{\\mathbf{p}^g[k_f]-\\mathbf{p}^g[k_f-1]}{|\\mathbf{p}^g[k_f]-\\mathbf{p}^g[k_f-1]|}$\n",
      "+ $\\hat{\\mathbf{w}}_s = \\mathbf{\\hat{z}} \\times  \\hat{\\mathbf{v}}_s $\n",
      "+  velocity unitary vector along trajectory $\\hat{\\mathbf{v}}_t = \\frac{\\mathbf{p}^t[k_t]-\\mathbf{p}^g[k_t-1]}{|\\mathbf{p}^g[k_t]-\\mathbf{p}^t[k_t-1]|}$\n",
      "+ $\\hat{\\mathbf{w}}_t = \\mathbf{\\hat{z}} \\times  \\hat{\\mathbf{v}}_t $\n",
      "\n",
      "$t_f = \\frac{T_{fs}}{Nf}$ is the interframe time or frame sampling period, it is equal to the whole duration of the motion sequence $T_{fs}$ divided by the number of frames\n",
      "\n",
      "\n",
      "\n"
     ]
    },
    {
     "cell_type": "markdown",
     "metadata": {},
     "source": [
      "`settopos` is a method which takes as argument : \n",
      "\n",
      "+ `traj` a plane trajectory (Npt,2)\n",
      "+ $t_k$ time for evaluation of topos "
     ]
    },
    {
     "cell_type": "markdown",
     "metadata": {},
     "source": [
      "In futher version of the project, this function will be modified to be able to avoid passing the whole trajectory. "
     ]
    },
    {
     "cell_type": "code",
     "collapsed": false,
     "input": [
      "John.settopos(traj=traj,t=3)"
     ],
     "language": "python",
     "metadata": {},
     "outputs": [],
     "prompt_number": 64
    },
    {
     "cell_type": "markdown",
     "metadata": {},
     "source": [
      "There is now a new data structure in the Body objet. This data structure is called a `topos`."
     ]
    },
    {
     "cell_type": "code",
     "collapsed": false,
     "input": [
      "print np.shape(John.topos)"
     ],
     "language": "python",
     "metadata": {},
     "outputs": [
      {
       "output_type": "stream",
       "stream": "stdout",
       "text": [
        "(3, 16)\n"
       ]
      }
     ],
     "prompt_number": 65
    },
    {
     "cell_type": "code",
     "collapsed": false,
     "input": [
      "John.topos"
     ],
     "language": "python",
     "metadata": {},
     "outputs": [
      {
       "metadata": {},
       "output_type": "pyout",
       "prompt_number": 66,
       "text": [
        "array([[ 0.76257682,  0.76161576,  0.85550228,  0.906866  ,  0.59291834,\n",
        "         0.98090711,  0.50279859,  1.02400967,  0.55340425,  0.89393114,\n",
        "         0.62143017,  0.90139236,  0.5590976 ,  0.82550155,  0.59597357,\n",
        "         0.75768065],\n",
        "       [ 2.93821947,  2.87431184,  2.87361108,  2.76881965,  2.83965281,\n",
        "         2.674539  ,  2.95899477,  2.60000196,  3.1489    ,  2.91725821,\n",
        "         2.92957927,  2.95486552,  2.87202412,  2.91375328,  2.52633601,\n",
        "         2.92341874],\n",
        "       [ 1.25100197,  1.41281777,  1.62468582,  1.43689199,  1.46460085,\n",
        "         1.10583351,  1.15306435,  0.84091029,  0.95195644,  0.97260017,\n",
        "         0.9406891 ,  0.47981791,  0.4705312 ,  0.09524233,  0.27365879,\n",
        "         0.95664464]])"
       ]
      }
     ],
     "prompt_number": 66
    },
    {
     "cell_type": "code",
     "collapsed": false,
     "input": [
      "John.show3()"
     ],
     "language": "python",
     "metadata": {},
     "outputs": [],
     "prompt_number": 67
    },
    {
     "cell_type": "code",
     "collapsed": false,
     "input": [
      "John.settopos(traj=traj,t=1)\n",
      "fig,ax=John.plot3d(topos=True,col='#87CEEB')\n",
      "John.settopos(traj=traj,t=2)\n",
      "John.plot3d(topos=True,fig=fig,ax=ax,col='#7EC0EE')\n",
      "John.settopos(traj=traj,t=3)\n",
      "John.plot3d(topos=True,fig=fig,ax=ax,col='#6A5ACD')\n",
      "John.settopos(traj=traj,t=4)\n",
      "John.plot3d(topos=True,fig=fig,ax=ax,col='#7A67EE')\n",
      "John.settopos(traj=traj,t=5)\n",
      "John.plot3d(topos=True,fig=fig,ax=ax,col='#473C8B')"
     ],
     "language": "python",
     "metadata": {},
     "outputs": [
      {
       "metadata": {},
       "output_type": "pyout",
       "prompt_number": 68,
       "text": [
        "(<matplotlib.figure.Figure at 0x7f85ad11e890>,\n",
        " <matplotlib.axes.Axes3DSubplot at 0x7f85ad139e10>)"
       ]
      },
      {
       "metadata": {},
       "output_type": "display_data",
       "png": "[encoded data removed]",
       "text": [
        "<matplotlib.figure.Figure at 0x7f85ad11e890>"
       ]
      }
     ],
     "prompt_number": 68
    },
    {
     "cell_type": "markdown",
     "metadata": {},
     "source": [
      "## Definition of Several Coordinates systems"
     ]
    },
    {
     "cell_type": "markdown",
     "metadata": {},
     "source": [
      "Each cylinder of the `Body` model bears one specific coordinate system. \n",
      "\n",
      "One or several cylinder coordinate systems can be chosen to define the Body Local Coordinates System (BLCS) which is required for motion capture (BLCS) applications. \n",
      "\n",
      "In general, the origin will be chosen on a position which is the most time invariant as on the chest or the back. \n",
      "\n",
      "\n",
      "Those frames of references are all defined in the Global Coordinate System (GCS) of the scene."
     ]
    },
    {
     "cell_type": "markdown",
     "metadata": {},
     "source": [
      "### Construction of the Cylinder Coordinate System (CCS)"
     ]
    },
    {
     "cell_type": "markdown",
     "metadata": {},
     "source": [
      "The method `setccs()` is used to associate a Cylinder Coordinate System (CCS) to each cylinder of the bodyCylinder model. Notice that those cylinders coordinates systems are not known by the localization application. The localization application will define the BLCS from the position of radiating devices placed on the body surface. "
     ]
    },
    {
     "cell_type": "markdown",
     "metadata": {},
     "source": [
      "Each basis is constructed with the function from `geomutil.onbfromaxe()` : orthonormal bases from axes. This function takes 2 sets of $n$ points $\\mathbf{p}_{A,n}$ and $\\mathbf{p}_{B,n}$ as input and provides an orthonormal basis as output. \n",
      "\n",
      "3 unitary vectors are constructed :\n",
      "\n",
      "\n",
      "$$\\hat{\\mathbf{w}}_n = \\frac{\\mathbf{p}_B-\\mathbf{p}_A}{| \\mathbf{p}_B-\\mathbf{p}_A |} $$\n",
      "\n",
      "$$\\hat{\\mathbf{u}}_n = \\frac{\\hat{\\mathbf{v}}_g - (\\hat{\\mathbf{v}}_g.{\\hat{\\mathbf{w}}_n}) \\mathbf{\\hat{w}}_n}{|\\hat{\\mathbf{v}_g} - (\\hat{\\mathbf{v}_g}.{\\hat{\\mathbf{w}}_n}) \\mathbf{\\hat{w}}_n|} $$\n",
      "\n",
      "$$\\hat{\\mathbf{v}}_n = \\mathbf{\\hat{w}}_n \\times \\mathbf{\\hat{u}}_n  $$\n",
      "\n",
      "Where $\\hat{\\mathbf{v}}_g$ is the unit velocity vector along actual trajectory.  \n",
      "\n",
      "The outpout of `geomutil.onbframe` is an MDA  $(3\\times n \\times 3)$ of $n$ unitary matrices aggregated along axis 1 $$\\mathbf{T}_n=[\\hat{\\mathbf{u}}_n, \\hat{\\mathbf{v}}_n, \\hat{\\mathbf{w}}_n]$$\n"
     ]
    },
    {
     "cell_type": "markdown",
     "metadata": {},
     "source": [
      "To create the CCS : "
     ]
    },
    {
     "cell_type": "code",
     "collapsed": false,
     "input": [
      "John.setccs()"
     ],
     "language": "python",
     "metadata": {},
     "outputs": [],
     "prompt_number": 69
    },
    {
     "cell_type": "code",
     "collapsed": false,
     "input": [
      "import scipy.linalg as la \n",
      "print \"ccs dimensions : \",np.shape(John.ccs)\n",
      "print John.ccs[0,:,:]\n",
      "print \"Check determinant : \", la.det(John.ccs[0,:,:])"
     ],
     "language": "python",
     "metadata": {},
     "outputs": [
      {
       "output_type": "stream",
       "stream": "stdout",
       "text": [
        "ccs dimensions :  (11, 3, 3)\n",
        "[[ 0.94678656  0.05306765 -0.31745715]\n",
        " [-0.06834689  0.99696857 -0.03718026]\n",
        " [ 0.31452173  0.05689898  0.94754345]]\n",
        "Check determinant :  1.0\n"
       ]
      }
     ],
     "prompt_number": 70
    },
    {
     "cell_type": "markdown",
     "metadata": {},
     "source": [
      "Create a Wireframe body representation from the body graph model"
     ]
    },
    {
     "cell_type": "markdown",
     "metadata": {},
     "source": [
      "Representation of frames associated with the cylinder"
     ]
    },
    {
     "cell_type": "code",
     "collapsed": false,
     "input": [
      "John.show3()"
     ],
     "language": "python",
     "metadata": {},
     "outputs": [],
     "prompt_number": 71
    },
    {
     "cell_type": "markdown",
     "metadata": {},
     "source": [
      "On the figure below the wireframe model is shown associated with the 11 CCS (Cylinder coordinates systems) "
     ]
    },
    {
     "cell_type": "code",
     "collapsed": false,
     "input": [
      "Image('CCS.png')"
     ],
     "language": "python",
     "metadata": {},
     "outputs": [
      {
       "metadata": {},
       "output_type": "pyout",
       "png": "Q0NTLnBuZw==\n",
       "prompt_number": 72,
       "text": [
        "<IPython.core.display.Image object>"
       ]
      }
     ],
     "prompt_number": 72
    },
    {
     "cell_type": "heading",
     "level": 2,
     "metadata": {},
     "source": [
      "Placing a dcs (Device Coordinate System ) on the cylinder"
     ]
    },
    {
     "cell_type": "markdown",
     "metadata": {},
     "source": [
      "A DCS is refered by 4 numbers $(Id,l,h,\\alpha)$"
     ]
    },
    {
     "cell_type": "markdown",
     "metadata": {},
     "source": [
      "+ Id : Cylinder Id\n",
      "+ l : length along cylinder\n",
      "+ h : height above cylinder generatrix\n",
      "+ alpha : angle from front direction (degrees)"
     ]
    },
    {
     "cell_type": "code",
     "collapsed": false,
     "input": [
      "Id = 4 # 4 Left Arm\n",
      "l  = 0.1 # Longitudinal coordinates\n",
      "h  = 0.03 # height \n",
      "alpha = 45 # angle degrees"
     ],
     "language": "python",
     "metadata": {},
     "outputs": [],
     "prompt_number": 73
    },
    {
     "cell_type": "code",
     "collapsed": false,
     "input": [
      "John.dcyl"
     ],
     "language": "python",
     "metadata": {},
     "outputs": [
      {
       "metadata": {},
       "output_type": "pyout",
       "prompt_number": 74,
       "text": [
        "{'arml': 3,\n",
        " 'armr': 2,\n",
        " 'calfl': 9,\n",
        " 'calfr': 8,\n",
        " 'forearml': 5,\n",
        " 'forearmr': 4,\n",
        " 'headu': 1,\n",
        " 'thighl': 7,\n",
        " 'thighr': 6,\n",
        " 'trunkb': 10,\n",
        " 'trunku': 0}"
       ]
      }
     ],
     "prompt_number": 74
    },
    {
     "cell_type": "markdown",
     "metadata": {},
     "source": [
      "Rotate Matrix around z"
     ]
    },
    {
     "cell_type": "code",
     "collapsed": false,
     "input": [
      "John.settopos(traj=traj,t=6,cs=True)"
     ],
     "language": "python",
     "metadata": {},
     "outputs": [],
     "prompt_number": 75
    },
    {
     "cell_type": "code",
     "collapsed": false,
     "input": [
      "John.dcyl"
     ],
     "language": "python",
     "metadata": {},
     "outputs": [
      {
       "metadata": {},
       "output_type": "pyout",
       "prompt_number": 76,
       "text": [
        "{'arml': 3,\n",
        " 'armr': 2,\n",
        " 'calfl': 9,\n",
        " 'calfr': 8,\n",
        " 'forearml': 5,\n",
        " 'forearmr': 4,\n",
        " 'headu': 1,\n",
        " 'thighl': 7,\n",
        " 'thighr': 6,\n",
        " 'trunkb': 10,\n",
        " 'trunku': 0}"
       ]
      }
     ],
     "prompt_number": 76
    },
    {
     "cell_type": "code",
     "collapsed": false,
     "input": [
      "John.show3(topos=True,dcs=True)"
     ],
     "language": "python",
     "metadata": {},
     "outputs": [],
     "prompt_number": 77
    },
    {
     "cell_type": "code",
     "collapsed": false,
     "input": [
      "John.show3(topos=True,pattern=True)"
     ],
     "language": "python",
     "metadata": {},
     "outputs": [],
     "prompt_number": 78
    },
    {
     "cell_type": "code",
     "collapsed": false,
     "input": [
      "Image('acs.png')"
     ],
     "language": "python",
     "metadata": {},
     "outputs": [
      {
       "metadata": {},
       "output_type": "pyout",
       "png": "YWNzLnBuZw==\n",
       "prompt_number": 79,
       "text": [
        "<IPython.core.display.Image object>"
       ]
      }
     ],
     "prompt_number": 79
    },
    {
     "cell_type": "code",
     "collapsed": false,
     "input": [
      "from IPython.core.display import HTML\n",
      "\n",
      "def css_styling():\n",
      "    styles = open(\"../styles/custom.css\", \"r\").read()\n",
      "    return HTML(styles)\n",
      "css_styling()"
     ],
     "language": "python",
     "metadata": {},
     "outputs": [
      {
       "html": [
        "<style>\n",
        "    @font-face {\n",
        "        font-family: \"Computer Modern\";\n",
        "        src: url('http://mirrors.ctan.org/fonts/cm-unicode/fonts/otf/cmunss.otf');\n",
        "    }\n",
        "    div.cell{\n",
        "        width:800px;\n",
        "        margin-left:16% !important;\n",
        "        margin-right:auto;\n",
        "    }\n",
        "    h1 {\n",
        "        font-family: Helvetica, serif;\n",
        "    }\n",
        "    h4{\n",
        "        margin-top:12px;\n",
        "        margin-bottom: 3px;\n",
        "       }\n",
        "    div.text_cell_render{\n",
        "        font-family: Computer Modern, \"Helvetica Neue\", Arial, Helvetica, Geneva, sans-serif;\n",
        "        line-height: 145%;\n",
        "        font-size: 130%;\n",
        "        width:800px;\n",
        "        margin-left:auto;\n",
        "        margin-right:auto;\n",
        "    }\n",
        "    .CodeMirror{\n",
        "            font-family: \"Source Code Pro\", source-code-pro,Consolas, monospace;\n",
        "    }\n",
        "    .prompt{\n",
        "        display: None;\n",
        "    }\n",
        "    .text_cell_render h5 {\n",
        "        font-weight: 300;\n",
        "        font-size: 22pt;\n",
        "        color: #4057A1;\n",
        "        font-style: italic;\n",
        "        margin-bottom: .5em;\n",
        "        margin-top: 0.5em;\n",
        "        display: block;\n",
        "    }\n",
        "    \n",
        "    .warning{\n",
        "        color: rgb( 240, 20, 20 )\n",
        "        }  \n",
        "</style>\n",
        "<script>\n",
        "    MathJax.Hub.Config({\n",
        "                        TeX: {\n",
        "                           extensions: [\"AMSmath.js\"]\n",
        "                           },\n",
        "                tex2jax: {\n",
        "                    inlineMath: [ ['$','$'], [\"\\\\(\",\"\\\\)\"] ],\n",
        "                    displayMath: [ ['$$','$$'], [\"\\\\[\",\"\\\\]\"] ]\n",
        "                },\n",
        "                displayAlign: 'center', // Change this to 'center' to center equations.\n",
        "                \"HTML-CSS\": {\n",
        "                    styles: {'.MathJax_Display': {\"margin\": 4}}\n",
        "                }\n",
        "        });\n",
        "</script>"
       ],
       "metadata": {},
       "output_type": "pyout",
       "prompt_number": 80,
       "text": [
        "<IPython.core.display.HTML object>"
       ]
      }
     ],
     "prompt_number": 80
    }
   ],
   "metadata": {}
  }
 ]
}