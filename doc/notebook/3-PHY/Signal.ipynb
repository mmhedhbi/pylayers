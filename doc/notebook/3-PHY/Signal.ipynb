{
 "metadata": {
  "name": "",
  "signature": "sha256:e67365db65d355c810aabc7362fcb55a613ab56e945808eda10ee394bbf05000"
 },
 "nbformat": 3,
 "nbformat_minor": 0,
 "worksheets": [
  {
   "cells": [
    {
     "cell_type": "code",
     "collapsed": false,
     "input": [
      "from IPython.core.display import HTML\n",
      "\n",
      "def css_styling():\n",
      "    styles = open(\"../styles/custom.css\", \"r\").read()\n",
      "    return HTML(styles)\n",
      "css_styling()"
     ],
     "language": "python",
     "metadata": {},
     "outputs": [
      {
       "html": [
        "<style>\n",
        "    @font-face {\n",
        "        font-family: \"Computer Modern\";\n",
        "        src: url('http://mirrors.ctan.org/fonts/cm-unicode/fonts/otf/cmunss.otf');\n",
        "    }\n",
        "    div.cell{\n",
        "        width:800px;\n",
        "        margin-left:16% !important;\n",
        "        margin-right:auto;\n",
        "    }\n",
        "    h1 {\n",
        "        font-family: Helvetica, serif;\n",
        "    }\n",
        "    h4{\n",
        "        margin-top:12px;\n",
        "        margin-bottom: 3px;\n",
        "       }\n",
        "    div.text_cell_render{\n",
        "        font-family: Computer Modern, \"Helvetica Neue\", Arial, Helvetica, Geneva, sans-serif;\n",
        "        line-height: 145%;\n",
        "        font-size: 130%;\n",
        "        width:800px;\n",
        "        margin-left:auto;\n",
        "        margin-right:auto;\n",
        "    }\n",
        "    .CodeMirror{\n",
        "            font-family: \"Source Code Pro\", source-code-pro,Consolas, monospace;\n",
        "    }\n",
        "    .prompt{\n",
        "        display: None;\n",
        "    }\n",
        "    .text_cell_render h5 {\n",
        "        font-weight: 300;\n",
        "        font-size: 22pt;\n",
        "        color: #4057A1;\n",
        "        font-style: italic;\n",
        "        margin-bottom: .5em;\n",
        "        margin-top: 0.5em;\n",
        "        display: block;\n",
        "    }\n",
        "    \n",
        "    .warning{\n",
        "        color: rgb( 240, 20, 20 )\n",
        "        }  \n",
        "</style>\n",
        "<script>\n",
        "    MathJax.Hub.Config({\n",
        "                        TeX: {\n",
        "                           extensions: [\"AMSmath.js\"]\n",
        "                           },\n",
        "                tex2jax: {\n",
        "                    inlineMath: [ ['$','$'], [\"\\\\(\",\"\\\\)\"] ],\n",
        "                    displayMath: [ ['$$','$$'], [\"\\\\[\",\"\\\\]\"] ]\n",
        "                },\n",
        "                displayAlign: 'center', // Change this to 'center' to center equations.\n",
        "                \"HTML-CSS\": {\n",
        "                    styles: {'.MathJax_Display': {\"margin\": 4}}\n",
        "                }\n",
        "        });\n",
        "</script>"
       ],
       "metadata": {},
       "output_type": "pyout",
       "prompt_number": 3,
       "text": [
        "<IPython.core.display.HTML at 0x7f5058074cd0>"
       ]
      }
     ],
     "prompt_number": 3
    },
    {
     "cell_type": "code",
     "collapsed": false,
     "input": [
      "%matplotlib inline"
     ],
     "language": "python",
     "metadata": {},
     "outputs": [],
     "prompt_number": 4
    },
    {
     "cell_type": "markdown",
     "metadata": {},
     "source": [
      "## Synthesis of Ultra Wide Band Waveforms"
     ]
    },
    {
     "cell_type": "markdown",
     "metadata": {},
     "source": [
      "Once the propagation channel has been evaluated. This is done in the `pylayers.antprop.channel` module. \n",
      "The received signal is evaluated in applying a convolution product of each ray tranfer function with a specific\n",
      "IR-UWB waveform. The necessary modules are \n",
      "\n",
      "+ `pylayers.signal.bsignal`.\n",
      "+ `pylayers.signal.waveform`\n",
      "+ `pylayers.signal.channel`\n",
      "\n",
      "The module `pylayers.simul.simulem` is for definition of electromagnetic simulation.  "
     ]
    },
    {
     "cell_type": "code",
     "collapsed": true,
     "input": [
      "from pylayers.signal.bsignal import *\n",
      "from pylayers.signal.waveform import *\n",
      "from pylayers.antprop.channel import *\n",
      "from pylayers.simul.simulem import *"
     ],
     "language": "python",
     "metadata": {},
     "outputs": [
      {
       "output_type": "stream",
       "stream": "stderr",
       "text": [
        "WARNING:traits.has_traits:DEPRECATED: traits.has_traits.wrapped_class, 'the 'implements' class advisor has been deprecated. Use the 'provides' class decorator.\n"
       ]
      },
      {
       "metadata": {},
       "output_type": "display_data",
       "text": [
        "<matplotlib.figure.Figure at 0x7f5020b15bd0>"
       ]
      }
     ],
     "prompt_number": 5
    },
    {
     "cell_type": "markdown",
     "metadata": {},
     "source": [
      "### Generation of an Impulse of normalized energy \n",
      "\n",
      "One possible manner to define an energy normalized short UWB impulse is as follows using  `bsignal.EnImpulse` function. \n",
      "\n",
      "The default waveform is a gaussian windowing of a sine wave of frequency $f_c$. The normalization term depends on the exponential scaling factor $\\tau$. \n",
      "\n",
      "$p(t)= \\frac{\\sqrt{2\\sqrt{2}}}{\\tau\\sqrt{\\pi}} \\cos(2\\pi f_c t) e^{-(\\frac{t}{\\tau})^2}$\n",
      "\n",
      "$\\tau = \\frac{2}{B\\pi}\\sqrt{\\frac{\\gamma_{dB}\\ln{10}}{20}}$\n",
      "\n",
      "where $B$ is the desired bandwidth defined at $\\gamma_{dB}$ below the spectrum maximum and $f_c$ is the central frequency of the pulse.\n",
      "\n",
      "\n"
     ]
    },
    {
     "cell_type": "code",
     "collapsed": true,
     "input": [
      "fc     = 4 \n",
      "band   = 2\n",
      "thresh = 10\n",
      "fe     = 100 \n",
      "ip     = EnImpulse([],fc,band,thresh,fe)"
     ],
     "language": "python",
     "metadata": {},
     "outputs": [],
     "prompt_number": 6
    },
    {
     "cell_type": "code",
     "collapsed": false,
     "input": [
      "ip.info()"
     ],
     "language": "python",
     "metadata": {},
     "outputs": [
      {
       "output_type": "stream",
       "stream": "stdout",
       "text": [
        "TUsignal\n",
        "--------\n",
        "shx :  (343,)\n",
        "shy :  (343,)\n",
        "dx :   0.01\n",
        "xmin : -1.71\n",
        "xmax : 1.71\n",
        "ymin : -1.89545539648\n",
        "ymax : 2.16154131873\n"
       ]
      }
     ],
     "prompt_number": 7
    },
    {
     "cell_type": "markdown",
     "metadata": {},
     "source": [
      "## Verification of energy normalization in both domains"
     ]
    },
    {
     "cell_type": "code",
     "collapsed": false,
     "input": [
      "E1= sum(ip.y*ip.y)*ip.dx()\n",
      "print \"Integration in time\",E1"
     ],
     "language": "python",
     "metadata": {},
     "outputs": [
      {
       "output_type": "stream",
       "stream": "stdout",
       "text": [
        "Integration in time 1.0\n"
       ]
      }
     ],
     "prompt_number": 8
    },
    {
     "cell_type": "code",
     "collapsed": false,
     "input": [
      "P = ip.esd()\n",
      "E2 = sum(P.y)*P.dx()\n",
      "print \"Integration in frequency domain \",E2"
     ],
     "language": "python",
     "metadata": {},
     "outputs": [
      {
       "output_type": "stream",
       "stream": "stdout",
       "text": [
        "Integration in frequency domain  1.0\n"
       ]
      }
     ],
     "prompt_number": 9
    },
    {
     "cell_type": "markdown",
     "metadata": {},
     "source": [
      "## Calculation of UWB channel impulse response"
     ]
    },
    {
     "cell_type": "markdown",
     "metadata": {},
     "source": [
      "We choose to load a simple floor plan. "
     ]
    },
    {
     "cell_type": "code",
     "collapsed": false,
     "input": [
      "S = Simul()\n",
      "S.L = Layout('defstr3.ini')"
     ],
     "language": "python",
     "metadata": {},
     "outputs": [
      {
       "output_type": "stream",
       "stream": "stdout",
       "text": [
        "new file WHERE1.str\n"
       ]
      }
     ],
     "prompt_number": 10
    },
    {
     "cell_type": "markdown",
     "metadata": {},
     "source": [
      "A simulation object has an `info` method providing a summary of simulation informations."
     ]
    },
    {
     "cell_type": "code",
     "collapsed": false,
     "input": [
      "st = S.wav.st\n",
      "sf = S.wav.sf\n",
      "S.wav.info()"
     ],
     "language": "python",
     "metadata": {},
     "outputs": [
      {
       "output_type": "stream",
       "stream": "stdout",
       "text": [
        "fcGHz  :  4.493\n",
        "typ  :  generic\n",
        "feGHz  :  100\n",
        "Np  :  3000\n",
        "twns  :  30\n",
        "te  :  0.01\n",
        "threshdB  :  3\n",
        "bandGHz  :  0.499\n"
       ]
      }
     ],
     "prompt_number": 11
    },
    {
     "cell_type": "markdown",
     "metadata": {},
     "source": [
      "The waveform associated with the simulation object is "
     ]
    },
    {
     "cell_type": "code",
     "collapsed": false,
     "input": [
      "S.wav"
     ],
     "language": "python",
     "metadata": {},
     "outputs": [
      {
       "metadata": {},
       "output_type": "pyout",
       "prompt_number": 12,
       "text": [
        "{'Np': 3000,\n",
        " 'bandGHz': 0.499,\n",
        " 'fcGHz': 4.493,\n",
        " 'feGHz': 100,\n",
        " 'te': 0.01,\n",
        " 'threshdB': 3,\n",
        " 'twns': 30,\n",
        " 'typ': 'generic'}"
       ]
      }
     ],
     "prompt_number": 12
    },
    {
     "cell_type": "code",
     "collapsed": false,
     "input": [
      "S.wav.show()"
     ],
     "language": "python",
     "metadata": {},
     "outputs": [
      {
       "metadata": {},
       "output_type": "display_data",
       "png": "[encoded data removed]",
       "text": [
        "<matplotlib.figure.Figure at 0x7f504e650f50>"
       ]
      }
     ],
     "prompt_number": 13
    },
    {
     "cell_type": "markdown",
     "metadata": {},
     "source": [
      "Above the waveform is a generic UWB waveform. The interested user can add easyly any other mathematical expression of UWB waveform for investigation on pulse waveform modulation for example. The waveform can also comes from measurement. For now there are two version of this waveform which has been used during the M1 measurement campaign. One is not compensated `W1compensate` for an extra short delay which can introduse a bias when interpretating the observed delay in terms of distance. The non compensated version is `W1offset` from the time origin about 0.7 ns.\n",
      "\n",
      "The waveform class should grow for incorporating more waveforms, especially waveforms compliants with the current IEEE 802.15.4a and IEEE 802.15.6 standards. "
     ]
    },
    {
     "cell_type": "code",
     "collapsed": false,
     "input": [
      "wavmeasured = Waveform(typ='W1compensate')\n",
      "wavmeasured.show()"
     ],
     "language": "python",
     "metadata": {},
     "outputs": [
      {
       "metadata": {},
       "output_type": "display_data",
       "png": "[encoded data removed]",
       "text": [
        "<matplotlib.figure.Figure at 0x7f50208544d0>"
       ]
      }
     ],
     "prompt_number": 14
    },
    {
     "cell_type": "code",
     "collapsed": false,
     "input": [
      "wavmeasured = Waveform(typ='W1offset')\n",
      "wavmeasured.show()"
     ],
     "language": "python",
     "metadata": {},
     "outputs": [
      {
       "metadata": {},
       "output_type": "display_data",
       "png": "[encoded data removed]",
       "text": [
        "<matplotlib.figure.Figure at 0x7f5020747710>"
       ]
      }
     ],
     "prompt_number": 15
    },
    {
     "cell_type": "markdown",
     "metadata": {},
     "source": [
      "Here the time domain waveform is measured and the anticausal part of the signal is artificially set to 0.\n",
      "\n",
      "To handle properly the time domain wavefom in PyLayers, it is required to center the signal in the middle of the array.  The waveform has embedded in the object its frequency domain and time domain representation.  \n",
      "\n",
      "+ `st` member stands for signal in time domain\n",
      "+ `sf` member stands for signal in frequency domain"
     ]
    },
    {
     "cell_type": "code",
     "collapsed": false,
     "input": [
      "print type(S.wav.sf)\n",
      "print type(S.wav.st)"
     ],
     "language": "python",
     "metadata": {},
     "outputs": [
      {
       "output_type": "stream",
       "stream": "stdout",
       "text": [
        "<class 'pylayers.signal.bsignal.FUsignal'>\n",
        "<class 'pylayers.signal.bsignal.EnImpulse'>\n"
       ]
      }
     ],
     "prompt_number": 16
    },
    {
     "cell_type": "markdown",
     "metadata": {},
     "source": [
      "+ `FUsignal` Frequency domain uniformly sampled base signal \n",
      "+ `TUsignal` Time domain uniformly sampled base signal"
     ]
    },
    {
     "cell_type": "heading",
     "level": 2,
     "metadata": {},
     "source": [
      "Construction of the propagation channel "
     ]
    },
    {
     "cell_type": "markdown",
     "metadata": {},
     "source": [
      "The following representation shows the spatial spreading of the propagation channel. \n",
      "On the left are scattered the intensity of rays wrt to angles of departure (in azimut and elevation). \n",
      "On the right is the intensity of rays wrt to angles of arrival. It misses the application between the 2\n",
      "planes as well as the delay dimension of the propagation channel."
     ]
    },
    {
     "cell_type": "code",
     "collapsed": false,
     "input": [
      "from pylayers.antprop.signature import *\n",
      "from pylayers.antprop.channel import *"
     ],
     "language": "python",
     "metadata": {},
     "outputs": [],
     "prompt_number": 17
    },
    {
     "cell_type": "code",
     "collapsed": false,
     "input": [
      "S.L.build()"
     ],
     "language": "python",
     "metadata": {},
     "outputs": [],
     "prompt_number": 18
    },
    {
     "cell_type": "code",
     "collapsed": false,
     "input": [
      "S.L"
     ],
     "language": "python",
     "metadata": {},
     "outputs": [
      {
       "metadata": {},
       "output_type": "pyout",
       "prompt_number": 19,
       "text": [
        "\n",
        "----------------\n",
        "defstr3.ini\n",
        "Image('/home/uguen/Bureau/P1/struc/images/TA-Office.png')\n",
        "----------------\n",
        "\n",
        "Number of points  : 8\n",
        "Number of segments  : 9\n",
        "Number of sub segments  : 3\n",
        "Number of cycles  : 3\n",
        "Number of rooms  : 2\n",
        "degree 0 : []\n",
        "degree 1 : [-8 -7]\n",
        "degree 2 : 4\n",
        "degree 3 : 2\n",
        "\n",
        "xrange :(758.49, 768.516)\n",
        "yrange :(1111.9, 1115.963)\n",
        "\n",
        "Useful dictionnaries\n",
        "----------------\n",
        "dca {cycle : []} cycle with an airwall\n",
        "sl {slab name : slab dictionary}\n",
        "name :  {slab :seglist} \n",
        "\n",
        "Useful arrays\n",
        "----------------\n",
        "tsg : get segment index in Gs from tahe\n",
        "isss :  sub-segment index above Nsmax\n",
        "tgs : get segment index in tahe from Gs\n",
        "lsss : list of segments with sub-segment\n",
        "sla : list of all slab names (Nsmax+Nss+1)\n",
        "degree : degree of nodes "
       ]
      }
     ],
     "prompt_number": 19
    },
    {
     "cell_type": "code",
     "collapsed": false,
     "input": [
      "S.L.Gt.pos"
     ],
     "language": "python",
     "metadata": {},
     "outputs": [
      {
       "metadata": {},
       "output_type": "pyout",
       "prompt_number": 20,
       "text": [
        "{0: (758.49, 1111.9),\n",
        " 1: (766.00300113353387, 1113.947479109665),\n",
        " 2: (761.00289669547806, 1113.915769812613)}"
       ]
      }
     ],
     "prompt_number": 20
    },
    {
     "cell_type": "code",
     "collapsed": false,
     "input": [
      "tx=np.array([759,1114,1.0])\n",
      "rx=np.array([767,1114,1.5])\n",
      "ctx = S.L.pt2cy(tx)\n",
      "crx = S.L.pt2cy(rx)"
     ],
     "language": "python",
     "metadata": {},
     "outputs": [],
     "prompt_number": 21
    },
    {
     "cell_type": "markdown",
     "metadata": {},
     "source": [
      "The sequence of command below :\n",
      "    \n",
      "+ initialize a signature between cycle ctx and cycle crx\n",
      "+ evaluates the signature with a given cutoff value\n",
      "+ calculates a set of 2D rays from signature and tx/rx coordinates\n",
      "+ calculates a set of 3D ray from 2D rays and layout and ceil height (default H=3m)\n",
      "+ calculates local basis and various geometric information out of the 3D ray and Layout \n",
      "+ fill and reorganize the interactions object with proper material chararcteristics"
     ]
    },
    {
     "cell_type": "code",
     "collapsed": false,
     "input": [
      "Si = Signatures(S.L,ctx,crx)\n",
      "Si.run5(cutoff=5)\n",
      "r2d = Si.rays(tx,rx)\n",
      "r3d = r2d.to3D(S.L)\n",
      "r3d.locbas(S.L)\n",
      "r3d.fillinter(S.L)"
     ],
     "language": "python",
     "metadata": {},
     "outputs": [],
     "prompt_number": 22
    },
    {
     "cell_type": "markdown",
     "metadata": {},
     "source": [
      "Define a frequency base in GHz."
     ]
    },
    {
     "cell_type": "code",
     "collapsed": false,
     "input": [
      "fGHz = np.arange(2,10,0.01)"
     ],
     "language": "python",
     "metadata": {},
     "outputs": []
    },
    {
     "cell_type": "markdown",
     "metadata": {},
     "source": [
      "Evaluate the propagation channel $\\tilde{\\mathbf{C}}$. Here the meaning of tilde is that the complex value of the channel do not include the phase term due to delay along the ray. "
     ]
    },
    {
     "cell_type": "code",
     "collapsed": false,
     "input": [
      "C = r3d.eval(fGHz) "
     ],
     "language": "python",
     "metadata": {},
     "outputs": []
    },
    {
     "cell_type": "markdown",
     "metadata": {},
     "source": [
      "##  Construction of the transmission channel"
     ]
    },
    {
     "cell_type": "markdown",
     "metadata": {},
     "source": [
      "The transmission channel is obtained from the combination of the propagation channel $\\tilde{\\mathbf{C}}$ and the vector antenna pattern at both side of the radio link. This operation is implemented in the `prop2tran` method of the `Ctilde` class.  "
     ]
    },
    {
     "cell_type": "code",
     "collapsed": true,
     "input": [
      "sc = C.prop2tran()"
     ],
     "language": "python",
     "metadata": {},
     "outputs": []
    },
    {
     "cell_type": "markdown",
     "metadata": {},
     "source": [
      "The transmission channel is obtained by applying a vector radiation pattern using an antenna file.\n",
      "\n",
      "In the presented case, it comes from a real antenna which has been used during the **FP7 project WHERE1** measurement campaign \n",
      "M1."
     ]
    },
    {
     "cell_type": "code",
     "collapsed": false,
     "input": [
      "sc"
     ],
     "language": "python",
     "metadata": {},
     "outputs": []
    },
    {
     "cell_type": "markdown",
     "metadata": {},
     "source": [
      "The antenna radiation pattern is stored in a very compact way thanks to Vector Spherical Harmonics decomposition.\n",
      "The following gives information about the content of the antenna object."
     ]
    },
    {
     "cell_type": "code",
     "collapsed": false,
     "input": [
      "S.tx.A.info()"
     ],
     "language": "python",
     "metadata": {},
     "outputs": []
    },
    {
     "cell_type": "markdown",
     "metadata": {},
     "source": [
      "The figure below plot on a same graph all the tansfer function in modulus and phase of the ray transfer function."
     ]
    },
    {
     "cell_type": "markdown",
     "metadata": {},
     "source": [
      "If a realistic antenna is applied it gives "
     ]
    },
    {
     "cell_type": "code",
     "collapsed": false,
     "input": [
      "sca = C.prop2tran(S.tx.A,S.rx.A)"
     ],
     "language": "python",
     "metadata": {},
     "outputs": []
    },
    {
     "cell_type": "markdown",
     "metadata": {},
     "source": [
      "## Calculate UWB Channel Impulse Response "
     ]
    },
    {
     "cell_type": "markdown",
     "metadata": {},
     "source": [
      "Once the transmission channel has been evaluated on can convolved the waveform with the channel impulse response to get the received waveform."
     ]
    },
    {
     "cell_type": "code",
     "collapsed": true,
     "input": [
      "r = sca.applywavB(S.wav.sfg)"
     ],
     "language": "python",
     "metadata": {},
     "outputs": []
    },
    {
     "cell_type": "code",
     "collapsed": false,
     "input": [
      "r.y"
     ],
     "language": "python",
     "metadata": {},
     "outputs": []
    },
    {
     "cell_type": "code",
     "collapsed": false,
     "input": [
      "fig,ax = r.plot(typ=['l20'])\n",
      "plt.axis([15,90,-120,-60])\n",
      "plt.title(u'Received Waveform $r(t)$')"
     ],
     "language": "python",
     "metadata": {},
     "outputs": []
    },
    {
     "cell_type": "code",
     "collapsed": false,
     "input": [
      "r.plot(typ=['v'])\n",
      "#plt.axis([15,60,-0.3,0.3])\n",
      "plt.title(u'Received Waveform $r(t)$')"
     ],
     "language": "python",
     "metadata": {},
     "outputs": []
    },
    {
     "cell_type": "heading",
     "level": 2,
     "metadata": {},
     "source": [
      "Hermitian symetry enforcment "
     ]
    },
    {
     "cell_type": "markdown",
     "metadata": {},
     "source": [
      "If the number of point for the transmission channel and the waveform were the same the mathematical operation is an Hadamrd-Shur product between \n",
      "$\\mathbf{Y}$ and $\\mathbf{W}$. \n",
      "\n",
      "$\\mathbf{Y} = \\mathbf{S} \\odot \\mathbf{W}$\n",
      "\n",
      "In practice this is what is done after a resampling of the time base with a reinterpolated  time step. "
     ]
    },
    {
     "cell_type": "markdown",
     "metadata": {},
     "source": [
      "The process which consists in going from time domain to frequency domain is delegated to a specialized class `pylayers.signal.bsignal.Bsignal` which maintains the proper \n",
      "binding between signal samples and their indexation either in time or in frequency domain."
     ]
    },
    {
     "cell_type": "code",
     "collapsed": false,
     "input": [
      "wgam = S.wav.sfg\n",
      "Y    = sc.apply(wgam)\n",
      "tau  = Y.taud\n",
      "dod = Y.dod\n",
      "doa = Y.doa"
     ],
     "language": "python",
     "metadata": {},
     "outputs": []
    },
    {
     "cell_type": "markdown",
     "metadata": {},
     "source": [
      "The transmission channel has a member data which is the time delay of each path in nano seconds. Notice that by default those delay are not sorted. "
     ]
    },
    {
     "cell_type": "code",
     "collapsed": false,
     "input": [
      "print 'tau =', tau[0:20]"
     ],
     "language": "python",
     "metadata": {},
     "outputs": []
    },
    {
     "cell_type": "code",
     "collapsed": false,
     "input": [
      "h = plt.hist(tau,20)"
     ],
     "language": "python",
     "metadata": {},
     "outputs": []
    },
    {
     "cell_type": "markdown",
     "metadata": {},
     "source": [
      "Direction of arrival $(\\theta_r,\\phi_r)$ in radians"
     ]
    },
    {
     "cell_type": "code",
     "collapsed": false,
     "input": [
      "print \"doa = \", doa[1:10,:]"
     ],
     "language": "python",
     "metadata": {},
     "outputs": []
    },
    {
     "cell_type": "code",
     "collapsed": false,
     "input": [
      "plt.subplot(221)\n",
      "ht = plt.hist(doa[:,0],20)\n",
      "plt.xlabel(u'$\\\\theta_r$')\n",
      "plt.ylabel('#')\n",
      "plt.subplot(222)\n",
      "hp = plt.hist(doa[:,1],20)\n",
      "plt.xlabel(u'$\\phi_r$')\n",
      "plt.ylabel('#')\n",
      "plt.subplot(223)\n",
      "ht = plt.hist(dod[:,0],20)\n",
      "plt.xlabel(u'$\\\\theta_t$')\n",
      "plt.ylabel('#')\n",
      "plt.subplot(224)\n",
      "hp = plt.hist(dod[:,1],20)\n",
      "plt.xlabel(u'$\\phi_t$')\n",
      "plt.ylabel('#')\n",
      "plt.tight_layout()"
     ],
     "language": "python",
     "metadata": {},
     "outputs": []
    }
   ],
   "metadata": {}
  }
 ]
}