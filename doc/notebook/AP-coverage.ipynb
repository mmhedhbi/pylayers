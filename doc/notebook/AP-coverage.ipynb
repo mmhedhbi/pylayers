{
 "metadata": {
  "name": "",
  "signature": "sha256:9acc8257a450b85530849b64e55e05c614377e0a1fb4a9ca147778779a4ab03d"
 },
 "nbformat": 3,
 "nbformat_minor": 0,
 "worksheets": [
  {
   "cells": [
    {
     "cell_type": "markdown",
     "metadata": {},
     "source": [
      "#  Indoor Coverage with the PyLayers Multi Wall model "
     ]
    },
    {
     "cell_type": "markdown",
     "metadata": {},
     "source": [
      "> A Multi wall model accounts only for the attenuation along the direct path between Tx and Rx. \n",
      "\n",
      "> Thus, it is an approach which can't provide any\n",
      "information about delay spread or multi path but which can be sufficently informative when the point is optimization of an indoor radio network.  The main advantage of the MultiWall approach is that is provides a fast indication about propagation losses. \n",
      "\n",
      "> A ray tracing approach is much more precise, but  also is more time consuming and depending on the purpose, it could be relevant \n",
      "> to proceed with a simpler and faster site-specific approach as the Multiwall model. \n",
      "\n",
      ">`PyLayers` provides a multiwall module which heavily relies on the core module `slab.py`. Notice that, the same core modules are used for Ray tracing and MultiWall model approach."
     ]
    },
    {
     "cell_type": "markdown",
     "metadata": {},
     "source": [
      "Let see, how it is implemented and usable. First let's import the `coverage` module. And the `time` module for performance evaluation. "
     ]
    },
    {
     "cell_type": "code",
     "collapsed": false,
     "input": [
      "from pylayers.antprop.coverage import *\n",
      "import time"
     ],
     "language": "python",
     "metadata": {},
     "outputs": [],
     "prompt_number": 1
    },
    {
     "cell_type": "markdown",
     "metadata": {},
     "source": [
      "Instantiate a coverage object.\n",
      "By defaut the `TA-Office.ini` layout is loaded.\n",
      "\n",
      "The coverage information is placed in the **coverage.ini** file in the project directory.\n",
      "\n",
      "Below is an example such a configuration file. "
     ]
    },
    {
     "cell_type": "code",
     "collapsed": false,
     "input": [
      "!cat $BASENAME/ini/coverage.ini"
     ],
     "language": "python",
     "metadata": {},
     "outputs": [],
     "prompt_number": 2
    },
    {
     "cell_type": "markdown",
     "metadata": {},
     "source": [
      "The ini file contains 5 sections. \n",
      "\n",
      "+ [grid] section \n",
      "\n",
      "    This section precise the size of the grid. By default the grid is placed over the whole region of the Layout. \n",
      "    A selected region can also be defined whith the `boundary` list\n",
      "\n",
      "+ [layout] section \n",
      "\n",
      "    The name of the layout file\n",
      "    \n",
      "+ [ap] section \n",
      "    \n",
      "       A dictionnary of access point precising the standard, the used channel, the emitted power and the position \n",
      "       of the access point.\n",
      "       \n",
      "+ [show] section       \n",
      "             "
     ]
    },
    {
     "cell_type": "code",
     "collapsed": false,
     "input": [
      "# Create a Coverage object from coverag.ini file\n",
      "C = Coverage('coverage.ini')"
     ],
     "language": "python",
     "metadata": {},
     "outputs": [],
     "prompt_number": 3
    },
    {
     "cell_type": "markdown",
     "metadata": {},
     "source": [
      "`C` has a dictionnary `dap`  which gathered various information about each access points of the simulation."
     ]
    },
    {
     "cell_type": "code",
     "collapsed": false,
     "input": [
      "C.dap[0]"
     ],
     "language": "python",
     "metadata": {},
     "outputs": [],
     "prompt_number": 4
    },
    {
     "cell_type": "markdown",
     "metadata": {},
     "source": [
      "We can now check which frequencies have been selected. We have asked for the IEEE.802.11.a standard, so we get \n",
      "the following list."
     ]
    },
    {
     "cell_type": "code",
     "collapsed": false,
     "input": [
      "C.fGHz"
     ],
     "language": "python",
     "metadata": {},
     "outputs": [],
     "prompt_number": 5
    },
    {
     "cell_type": "markdown",
     "metadata": {},
     "source": [
      "The coverage object has a `__repr__` method which summarizes different parameters of the current coverage object"
     ]
    },
    {
     "cell_type": "code",
     "collapsed": false,
     "input": [
      "C"
     ],
     "language": "python",
     "metadata": {},
     "outputs": [],
     "prompt_number": 6
    },
    {
     "cell_type": "markdown",
     "metadata": {},
     "source": [
      "Then, the coverage calculation is launched by calling the `cover()` method"
     ]
    },
    {
     "cell_type": "code",
     "collapsed": false,
     "input": [
      "tic = time.time()\n",
      "C.cover()\n",
      "toc = time.time()\n",
      "print \"Execution time : %2.3f \" % (toc-tic) "
     ],
     "language": "python",
     "metadata": {},
     "outputs": [],
     "prompt_number": 7
    },
    {
     "cell_type": "markdown",
     "metadata": {},
     "source": [
      "Let display the current Layout with hidding nodes. "
     ]
    },
    {
     "cell_type": "code",
     "collapsed": false,
     "input": [
      "fig=figure(figsize=(10,5))\n",
      "C.L.display['nodes']=False\n",
      "C.L.display['ednodes']=False\n",
      "f,a = C.show(fig=fig)"
     ],
     "language": "python",
     "metadata": {},
     "outputs": [],
     "prompt_number": 8
    },
    {
     "cell_type": "markdown",
     "metadata": {},
     "source": [
      "The shadowing map coverage results can be displayed by invoquing various functions."
     ]
    },
    {
     "cell_type": "code",
     "collapsed": false,
     "input": [
      "fig=figure(figsize=(10,5))\n",
      "f,a=C.show(fig=fig,typ='pr')"
     ],
     "language": "python",
     "metadata": {},
     "outputs": [],
     "prompt_number": 9
    },
    {
     "cell_type": "code",
     "collapsed": false,
     "input": [
      "f,a=C.show(typ='pr',f=4)"
     ],
     "language": "python",
     "metadata": {},
     "outputs": [],
     "prompt_number": 10
    },
    {
     "cell_type": "code",
     "collapsed": false,
     "input": [
      "f,a=C.show(typ='pr',f=10)"
     ],
     "language": "python",
     "metadata": {},
     "outputs": [],
     "prompt_number": 11
    },
    {
     "cell_type": "code",
     "collapsed": false,
     "input": [
      "f,a=C.show(typ='best',f=1)"
     ],
     "language": "python",
     "metadata": {},
     "outputs": [],
     "prompt_number": 12
    },
    {
     "cell_type": "code",
     "collapsed": false,
     "input": [
      "f,a=C.show(typ='best',f=10)"
     ],
     "language": "python",
     "metadata": {},
     "outputs": [],
     "prompt_number": 13
    },
    {
     "cell_type": "code",
     "collapsed": false,
     "input": [
      "C.show(f=5,typ='sinr')"
     ],
     "language": "python",
     "metadata": {},
     "outputs": [],
     "prompt_number": 14
    },
    {
     "cell_type": "markdown",
     "metadata": {},
     "source": [
      "As you have noticed the calculation has bee done for all the center frequencies of the selected standard.\n",
      "This is done in prevision of furthe channel optimization"
     ]
    },
    {
     "cell_type": "markdown",
     "metadata": {},
     "source": [
      "Let's consider an other standard"
     ]
    },
    {
     "cell_type": "code",
     "collapsed": false,
     "input": [
      "C2 = Coverage('coverage2.ini')\n",
      "C2.cover()"
     ],
     "language": "python",
     "metadata": {},
     "outputs": [],
     "prompt_number": 15
    },
    {
     "cell_type": "code",
     "collapsed": false,
     "input": [
      "C2.show(typ='pr')"
     ],
     "language": "python",
     "metadata": {},
     "outputs": [],
     "prompt_number": 16
    },
    {
     "cell_type": "code",
     "collapsed": false,
     "input": [
      "C.show(f=5,typ='capacity')"
     ],
     "language": "python",
     "metadata": {},
     "outputs": [],
     "prompt_number": 17
    },
    {
     "cell_type": "markdown",
     "metadata": {},
     "source": [
      "All simulated quantities are stored in linear scale."
     ]
    },
    {
     "cell_type": "code",
     "collapsed": false,
     "input": [
      "C2.Lw[0,0,0]"
     ],
     "language": "python",
     "metadata": {},
     "outputs": [],
     "prompt_number": 18
    },
    {
     "cell_type": "code",
     "collapsed": false,
     "input": [
      "C2.freespace[0,0,0]"
     ],
     "language": "python",
     "metadata": {},
     "outputs": [],
     "prompt_number": 19
    },
    {
     "cell_type": "code",
     "collapsed": false,
     "input": [
      "C2.sinr[0,0,0]"
     ],
     "language": "python",
     "metadata": {},
     "outputs": [],
     "prompt_number": 20
    },
    {
     "cell_type": "code",
     "collapsed": false,
     "input": [
      "C2.snr[0,0,0]"
     ],
     "language": "python",
     "metadata": {},
     "outputs": [],
     "prompt_number": 21
    }
   ],
   "metadata": {}
  }
 ]
}
