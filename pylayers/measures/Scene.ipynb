{
 "metadata": {
  "name": "",
  "signature": "sha256:4af7dcb46d24b18ac0c042e748896d790cc4d3785e3ff50cf9949b65e791f89b"
 },
 "nbformat": 3,
 "nbformat_minor": 0,
 "worksheets": [
  {
   "cells": [
    {
     "cell_type": "code",
     "collapsed": false,
     "input": [
      "from pylayers.gis.layout import *\n",
      "from pylayers.mobility.ban.c3d import *\n",
      "from pylayers.mobility.ban.body import *\n",
      "import pandas as pd"
     ],
     "language": "python",
     "metadata": {},
     "outputs": [
      {
       "output_type": "stream",
       "stream": "stderr",
       "text": [
        "WARNING:traits.has_traits:DEPRECATED: traits.has_traits.wrapped_class, 'the 'implements' class advisor has been deprecated. Use the 'provides' class decorator.\n"
       ]
      }
     ],
     "prompt_number": 1
    },
    {
     "cell_type": "code",
     "collapsed": false,
     "input": [
      "%matplotlib inline"
     ],
     "language": "python",
     "metadata": {},
     "outputs": [],
     "prompt_number": 2
    },
    {
     "cell_type": "code",
     "collapsed": false,
     "input": [
      "#CORMORAN='/home/uguen/svn2/measures/CORMORAN/'\n",
      "#CORMORAN='/media/niamiot/DONNEES/svn2/measures/CORMORAN/'\n",
      "import os\n",
      "CORMORAN = os.environ['CORMORAN']"
     ],
     "language": "python",
     "metadata": {},
     "outputs": [],
     "prompt_number": 3
    },
    {
     "cell_type": "code",
     "collapsed": false,
     "input": [
      "L=Layout('MOCAP.ini')"
     ],
     "language": "python",
     "metadata": {},
     "outputs": [
      {
       "output_type": "stream",
       "stream": "stdout",
       "text": [
        "problem to construct geomfile\n"
       ]
      }
     ],
     "prompt_number": 4
    },
    {
     "cell_type": "code",
     "collapsed": false,
     "input": [
      "u = ReadC3d('scene.c3d')"
     ],
     "language": "python",
     "metadata": {},
     "outputs": [
      {
       "output_type": "stream",
       "stream": "stdout",
       "text": [
        "*************************\n",
        "**** Processor coding ***\n",
        "*************************\n",
        "Intel-PC\n"
       ]
      }
     ],
     "prompt_number": 5
    },
    {
     "cell_type": "code",
     "collapsed": false,
     "input": [
      "pts=u[2]"
     ],
     "language": "python",
     "metadata": {},
     "outputs": [],
     "prompt_number": 6
    },
    {
     "cell_type": "code",
     "collapsed": false,
     "input": [
      "cam = pd.read_csv(CORMORAN+'/POST-TREATED/camccoord.csv')/1000\n",
      "cam"
     ],
     "language": "python",
     "metadata": {},
     "outputs": [
      {
       "html": [
        "<div style=\"max-height:1000px;max-width:1500px;overflow:auto;\">\n",
        "<table border=\"1\" class=\"dataframe\">\n",
        "  <thead>\n",
        "    <tr style=\"text-align: right;\">\n",
        "      <th></th>\n",
        "      <th>x</th>\n",
        "      <th>y</th>\n",
        "      <th>z</th>\n",
        "    </tr>\n",
        "  </thead>\n",
        "  <tbody>\n",
        "    <tr>\n",
        "      <th>0 </th>\n",
        "      <td>-6.502166</td>\n",
        "      <td> 5.440980</td>\n",
        "      <td> 2.296444</td>\n",
        "    </tr>\n",
        "    <tr>\n",
        "      <th>1 </th>\n",
        "      <td>-7.782349</td>\n",
        "      <td> 4.998476</td>\n",
        "      <td> 2.417586</td>\n",
        "    </tr>\n",
        "    <tr>\n",
        "      <th>2 </th>\n",
        "      <td> 8.308829</td>\n",
        "      <td> 3.618505</td>\n",
        "      <td> 2.698077</td>\n",
        "    </tr>\n",
        "    <tr>\n",
        "      <th>3 </th>\n",
        "      <td> 5.606683</td>\n",
        "      <td>-6.354179</td>\n",
        "      <td> 2.500278</td>\n",
        "    </tr>\n",
        "    <tr>\n",
        "      <th>4 </th>\n",
        "      <td>-8.237919</td>\n",
        "      <td>-2.332986</td>\n",
        "      <td> 4.765318</td>\n",
        "    </tr>\n",
        "    <tr>\n",
        "      <th>5 </th>\n",
        "      <td> 5.496094</td>\n",
        "      <td> 6.216919</td>\n",
        "      <td> 2.433300</td>\n",
        "    </tr>\n",
        "    <tr>\n",
        "      <th>6 </th>\n",
        "      <td>-8.296197</td>\n",
        "      <td> 2.430073</td>\n",
        "      <td> 4.794016</td>\n",
        "    </tr>\n",
        "    <tr>\n",
        "      <th>7 </th>\n",
        "      <td> 7.718375</td>\n",
        "      <td>-4.644268</td>\n",
        "      <td> 2.584753</td>\n",
        "    </tr>\n",
        "    <tr>\n",
        "      <th>8 </th>\n",
        "      <td> 8.471272</td>\n",
        "      <td>-3.043746</td>\n",
        "      <td> 2.683451</td>\n",
        "    </tr>\n",
        "    <tr>\n",
        "      <th>9 </th>\n",
        "      <td>-8.213048</td>\n",
        "      <td>-4.034574</td>\n",
        "      <td> 2.368545</td>\n",
        "    </tr>\n",
        "    <tr>\n",
        "      <th>10</th>\n",
        "      <td>-7.184667</td>\n",
        "      <td>-4.950494</td>\n",
        "      <td> 2.317686</td>\n",
        "    </tr>\n",
        "    <tr>\n",
        "      <th>11</th>\n",
        "      <td> 7.531661</td>\n",
        "      <td> 5.279024</td>\n",
        "      <td> 2.479363</td>\n",
        "    </tr>\n",
        "    <tr>\n",
        "      <th>12</th>\n",
        "      <td>-6.303086</td>\n",
        "      <td>-7.057062</td>\n",
        "      <td> 2.288849</td>\n",
        "    </tr>\n",
        "    <tr>\n",
        "      <th>13</th>\n",
        "      <td>-5.441178</td>\n",
        "      <td> 6.637930</td>\n",
        "      <td> 2.315157</td>\n",
        "    </tr>\n",
        "    <tr>\n",
        "      <th>14</th>\n",
        "      <td> 8.287799</td>\n",
        "      <td> 0.059161</td>\n",
        "      <td> 4.809145</td>\n",
        "    </tr>\n",
        "  </tbody>\n",
        "</table>\n",
        "<p>15 rows \u00d7 3 columns</p>\n",
        "</div>"
       ],
       "metadata": {},
       "output_type": "pyout",
       "prompt_number": 13,
       "text": [
        "           x         y         z\n",
        "0  -6.502166  5.440980  2.296444\n",
        "1  -7.782349  4.998476  2.417586\n",
        "2   8.308829  3.618505  2.698077\n",
        "3   5.606683 -6.354179  2.500278\n",
        "4  -8.237919 -2.332986  4.765318\n",
        "5   5.496094  6.216919  2.433300\n",
        "6  -8.296197  2.430073  4.794016\n",
        "7   7.718375 -4.644268  2.584753\n",
        "8   8.471272 -3.043746  2.683451\n",
        "9  -8.213048 -4.034574  2.368545\n",
        "10 -7.184667 -4.950494  2.317686\n",
        "11  7.531661  5.279024  2.479363\n",
        "12 -6.303086 -7.057062  2.288849\n",
        "13 -5.441178  6.637930  2.315157\n",
        "14  8.287799  0.059161  4.809145\n",
        "\n",
        "[15 rows x 3 columns]"
       ]
      }
     ],
     "prompt_number": 13
    },
    {
     "cell_type": "code",
     "collapsed": false,
     "input": [
      "B=Body('Nicolas.ini',_filemocap='serie_007.c3d',unit='mm')"
     ],
     "language": "python",
     "metadata": {},
     "outputs": [
      {
       "output_type": "stream",
       "stream": "stdout",
       "text": [
        "*************************\n",
        "**** Processor coding ***\n",
        "*************************\n",
        "Intel-PC\n"
       ]
      }
     ],
     "prompt_number": 14
    },
    {
     "cell_type": "code",
     "collapsed": false,
     "input": [
      "ymin=pts[:,:,0].min()\n",
      "ymax=pts[:,:,0].max()\n",
      "xmin=pts[:,:,1].min()\n",
      "xmax=pts[:,:,1].max()\n",
      "pg = np.zeros((5,2))\n",
      "pg[0,:]=np.array(([xmin+200,ymax-400]))\n",
      "pg[1,:]=np.array(([xmax-1200,ymax-400]))\n",
      "pg[2,:]=np.array(([xmax-1200,ymin+400]))\n",
      "pg[3,:]=np.array(([xmin+200,ymin+400]))\n",
      "pg[4,:]=pg[0,:]"
     ],
     "language": "python",
     "metadata": {},
     "outputs": [],
     "prompt_number": 15
    },
    {
     "cell_type": "code",
     "collapsed": false,
     "input": [
      "L.showG('s',figsize=(20,20))\n",
      "[plt.text(-pts[2,i,1]/1000,pts[2,i,0]/1000,str(i)) for i in range(0,shape(pts)[1],3)]\n",
      "b= plt.plot(-cam['y'],cam['x'],'ok')\n",
      "plt.plot(pg[:,0]/1000,pg[:,1]/1000)\n",
      "\n",
      "plt.axis([-13,13,-13,13])\n",
      "#plt.plot(-B.traj['y'],B.traj['x'],'r')"
     ],
     "language": "python",
     "metadata": {},
     "outputs": [
      {
       "metadata": {},
       "output_type": "pyout",
       "prompt_number": 27,
       "text": [
        "[-13, 13, -13, 13]"
       ]
      },
      {
       "metadata": {},
       "output_type": "display_data",
       "png": "[encoded data removed]",
       "text": [
        "<matplotlib.figure.Figure at 0x7fa83365b790>"
       ]
      }
     ],
     "prompt_number": 27
    },
    {
     "cell_type": "code",
     "collapsed": false,
     "input": [
      "plt.show()"
     ],
     "language": "python",
     "metadata": {},
     "outputs": []
    },
    {
     "cell_type": "code",
     "collapsed": false,
     "input": [
      "B.dev['6']"
     ],
     "language": "python",
     "metadata": {},
     "outputs": []
    },
    {
     "cell_type": "code",
     "collapsed": false,
     "input": [
      "B.settopos(t=1,cs=True)"
     ],
     "language": "python",
     "metadata": {},
     "outputs": []
    },
    {
     "cell_type": "code",
     "collapsed": false,
     "input": [
      "Bernard=Body('Bernard.ini')"
     ],
     "language": "python",
     "metadata": {},
     "outputs": []
    },
    {
     "cell_type": "code",
     "collapsed": false,
     "input": [
      "Bernard"
     ],
     "language": "python",
     "metadata": {},
     "outputs": []
    },
    {
     "cell_type": "code",
     "collapsed": false,
     "input": [
      "Bernard.show(frameId=500,plane='xz',color='b',widthfactor=50,offset=0)\n",
      "a = plt.axis('scaled')"
     ],
     "language": "python",
     "metadata": {},
     "outputs": []
    },
    {
     "cell_type": "code",
     "collapsed": false,
     "input": [
      "fig = plt.figure(figsize=(20,20))\n",
      "Bernard.chronophoto(tstart=0,tend=10,tstep=2,sstep=1,fig=fig)"
     ],
     "language": "python",
     "metadata": {},
     "outputs": []
    },
    {
     "cell_type": "markdown",
     "metadata": {},
     "source": [
      "The `dev` member is a dictionnary which contains the following (key,value) pairs.\n",
      "+ file : the antenna pattern file name\n",
      "+ comment : a comment string \n",
      "+ name : \n",
      "+ radiomarkname : \n",
      "+ status : 'real' | \n",
      "+ typ : 'static' | \n",
      "\n"
     ]
    },
    {
     "cell_type": "code",
     "collapsed": false,
     "input": [
      "Bernard._f.shape"
     ],
     "language": "python",
     "metadata": {},
     "outputs": []
    },
    {
     "cell_type": "code",
     "collapsed": false,
     "input": [
      "Bernard.d.shape"
     ],
     "language": "python",
     "metadata": {},
     "outputs": []
    },
    {
     "cell_type": "code",
     "collapsed": false,
     "input": [
      "Bernard._p[44]"
     ],
     "language": "python",
     "metadata": {},
     "outputs": []
    },
    {
     "cell_type": "code",
     "collapsed": false,
     "input": [
      "tra=Bernard.traj"
     ],
     "language": "python",
     "metadata": {},
     "outputs": []
    },
    {
     "cell_type": "code",
     "collapsed": false,
     "input": [
      "plt.figure(figsize=(10,10))\n",
      "tra.plot()"
     ],
     "language": "python",
     "metadata": {},
     "outputs": []
    },
    {
     "cell_type": "code",
     "collapsed": false,
     "input": [
      "Bernard.rdpdf()"
     ],
     "language": "python",
     "metadata": {},
     "outputs": []
    },
    {
     "cell_type": "code",
     "collapsed": false,
     "input": [
      "ddev = {}\n",
      "tdev = []\n",
      "for k in Bernard.dev:\n",
      "    ddev[k] = (Bernard.dev[k]['radiomarkname'],Bernard.dev[k]['uc3d'][0])\n",
      "    tdev.append(Bernard.dev[k]['uc3d'][0])\n",
      "tdev = np.array(tdev)    "
     ],
     "language": "python",
     "metadata": {},
     "outputs": []
    },
    {
     "cell_type": "code",
     "collapsed": false,
     "input": [
      "tdev"
     ],
     "language": "python",
     "metadata": {},
     "outputs": []
    },
    {
     "cell_type": "markdown",
     "metadata": {},
     "source": [
      "In a first step we will take only the first marker of each group of marker as the estimate of the device position. This approach will be refined further on.  "
     ]
    },
    {
     "cell_type": "code",
     "collapsed": false,
     "input": [
      "Network= Bernard._f[:,tdev,:]"
     ],
     "language": "python",
     "metadata": {},
     "outputs": []
    },
    {
     "cell_type": "code",
     "collapsed": false,
     "input": [
      "D = Network[:,:,np.newaxis,:]-Network[:,np.newaxis,:,:]\n",
      "V = (D[1:,:,:,:]-D[0:-1,:,:,:])/0.01\n",
      "A = (V[1:,:,:,:]-V[0:-1,:,:,:])/0.01\n",
      "print D.shape"
     ],
     "language": "python",
     "metadata": {},
     "outputs": []
    },
    {
     "cell_type": "code",
     "collapsed": false,
     "input": [
      "D2 = np.sqrt(np.sum(D*D,axis=3))\n",
      "D2 = D2.reshape(11213,100)"
     ],
     "language": "python",
     "metadata": {},
     "outputs": []
    },
    {
     "cell_type": "code",
     "collapsed": false,
     "input": [
      "V2 = np.sqrt(np.sum(V*V,axis=3))\n",
      "V2 = V2.reshape(11212,100)"
     ],
     "language": "python",
     "metadata": {},
     "outputs": []
    },
    {
     "cell_type": "code",
     "collapsed": false,
     "input": [
      "A2 = np.sqrt(np.sum(A*A,axis=3))\n",
      "A2 = A2.reshape(11211,100)"
     ],
     "language": "python",
     "metadata": {},
     "outputs": []
    },
    {
     "cell_type": "code",
     "collapsed": false,
     "input": [
      "plt.figure(figsize=(20,10))\n",
      "plt.imshow(D2.T[0:49],interpolation='nearest',aspect='auto')\n",
      "plt.colorbar()"
     ],
     "language": "python",
     "metadata": {},
     "outputs": []
    },
    {
     "cell_type": "code",
     "collapsed": false,
     "input": [
      "plt.figure(figsize=(20,10))\n",
      "plt.imshow(V2.T[0:49],interpolation='nearest',aspect='auto')\n",
      "plt.colorbar()"
     ],
     "language": "python",
     "metadata": {},
     "outputs": []
    },
    {
     "cell_type": "code",
     "collapsed": false,
     "input": [
      "plt.plot(A2[:,4])\n",
      "plt.plot(A2[:,16]+30)\n"
     ],
     "language": "python",
     "metadata": {},
     "outputs": []
    }
   ],
   "metadata": {}
  }
 ]
}