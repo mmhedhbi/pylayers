{
 "metadata": {
  "name": "",
  "signature": "sha256:a6976b96dab7d1cca189f11e0b0917cadd071363bbc28ae01110cba07bc98e8f"
 },
 "nbformat": 3,
 "nbformat_minor": 0,
 "worksheets": [
  {
   "cells": [
    {
     "cell_type": "code",
     "collapsed": false,
     "input": [
      "from pylayers.gis.layout import *\n",
      "from pylayers.mobility.ban.c3d import *\n",
      "from pylayers.mobility.ban.body import *\n",
      "import pandas as pd"
     ],
     "language": "python",
     "metadata": {},
     "outputs": []
    },
    {
     "cell_type": "code",
     "collapsed": false,
     "input": [
      "%matplotlib inline"
     ],
     "language": "python",
     "metadata": {},
     "outputs": []
    },
    {
     "cell_type": "code",
     "collapsed": false,
     "input": [
      "#CORMORAN='/home/uguen/svn2/measures/CORMORAN/'\n",
      "#CORMORAN='/media/niamiot/DONNEES/svn2/measures/CORMORAN/'\n",
      "import os\n",
      "CORMORAN = os.environ['CORMORAN']"
     ],
     "language": "python",
     "metadata": {},
     "outputs": []
    },
    {
     "cell_type": "code",
     "collapsed": false,
     "input": [
      "L=Layout('MOCAP.ini')"
     ],
     "language": "python",
     "metadata": {},
     "outputs": []
    },
    {
     "cell_type": "code",
     "collapsed": false,
     "input": [
      "u = ReadC3d('scene.c3d')"
     ],
     "language": "python",
     "metadata": {},
     "outputs": []
    },
    {
     "cell_type": "code",
     "collapsed": false,
     "input": [
      "pts=u[2]"
     ],
     "language": "python",
     "metadata": {},
     "outputs": []
    },
    {
     "cell_type": "code",
     "collapsed": false,
     "input": [
      "cam = pd.read_csv(CORMORAN+'POST-TREATED/camccoord.csv')/1000\n",
      "cam"
     ],
     "language": "python",
     "metadata": {},
     "outputs": []
    },
    {
     "cell_type": "code",
     "collapsed": false,
     "input": [
      "B=Body('Nicolas.ini',_filemocap='serie_007.c3d',unit='mm')"
     ],
     "language": "python",
     "metadata": {},
     "outputs": []
    },
    {
     "cell_type": "code",
     "collapsed": false,
     "input": [
      "ymin=pts[:,:,0].min()\n",
      "ymax=pts[:,:,0].max()\n",
      "xmin=pts[:,:,1].min()\n",
      "xmax=pts[:,:,1].max()\n",
      "pg = np.zeros((5,2))\n",
      "pg[0,:]=np.array(([xmin+200,ymax-400]))\n",
      "pg[1,:]=np.array(([xmax-1200,ymax-400]))\n",
      "pg[2,:]=np.array(([xmax-1200,ymin+400]))\n",
      "pg[3,:]=np.array(([xmin+200,ymin+400]))\n",
      "pg[4,:]=pg[0,:]"
     ],
     "language": "python",
     "metadata": {},
     "outputs": []
    },
    {
     "cell_type": "code",
     "collapsed": false,
     "input": [
      "L.showG('s',figsize=(20,20))\n",
      "a= plt.plot(-pts[:,:,1]/1000,pts[:,:,0]/1000,'.')\n",
      "b= plt.plot(-cam['y'],cam['x'],'ok')\n",
      "plt.plot(pg[:,0]/1000,pg[:,1]/1000)\n",
      "\n",
      "plt.axis([-13,13,-13,13])\n",
      "plt.plot(-B.traj['y'],B.traj['x'],'r')"
     ],
     "language": "python",
     "metadata": {},
     "outputs": []
    },
    {
     "cell_type": "code",
     "collapsed": false,
     "input": [
      "plt.show()"
     ],
     "language": "python",
     "metadata": {},
     "outputs": []
    },
    {
     "cell_type": "code",
     "collapsed": false,
     "input": [
      "B.dev['6']"
     ],
     "language": "python",
     "metadata": {},
     "outputs": []
    },
    {
     "cell_type": "code",
     "collapsed": false,
     "input": [
      "B.settopos(t=1,cs=True)"
     ],
     "language": "python",
     "metadata": {},
     "outputs": []
    },
    {
     "cell_type": "code",
     "collapsed": false,
     "input": [
      "Bernard=Body('Bernard.ini')"
     ],
     "language": "python",
     "metadata": {},
     "outputs": []
    },
    {
     "cell_type": "code",
     "collapsed": false,
     "input": [
      "Bernard"
     ],
     "language": "python",
     "metadata": {},
     "outputs": []
    },
    {
     "cell_type": "code",
     "collapsed": false,
     "input": [
      "Bernard.show(frameId=500,plane='xz',color='b',widthfactor=50,offset=0)\n",
      "a = plt.axis('scaled')"
     ],
     "language": "python",
     "metadata": {},
     "outputs": []
    },
    {
     "cell_type": "code",
     "collapsed": false,
     "input": [
      "fig = plt.figure(figsize=(20,20))\n",
      "Bernard.chronophoto(tstart=0,tend=10,tstep=2,sstep=1,fig=fig)"
     ],
     "language": "python",
     "metadata": {},
     "outputs": []
    },
    {
     "cell_type": "markdown",
     "metadata": {},
     "source": [
      "The `dev` member is a dictionnary which contains the following (key,value) pairs.\n",
      "+ file : the antenna pattern file name\n",
      "+ comment : a comment string \n",
      "+ name : \n",
      "+ radiomarkname : \n",
      "+ status : 'real' | \n",
      "+ typ : 'static' | \n",
      "\n"
     ]
    },
    {
     "cell_type": "code",
     "collapsed": false,
     "input": [
      "Bernard._f.shape"
     ],
     "language": "python",
     "metadata": {},
     "outputs": []
    },
    {
     "cell_type": "code",
     "collapsed": false,
     "input": [
      "Bernard.d.shape"
     ],
     "language": "python",
     "metadata": {},
     "outputs": []
    },
    {
     "cell_type": "code",
     "collapsed": false,
     "input": [
      "Bernard._p[44]"
     ],
     "language": "python",
     "metadata": {},
     "outputs": []
    },
    {
     "cell_type": "code",
     "collapsed": false,
     "input": [
      "tra=Bernard.traj"
     ],
     "language": "python",
     "metadata": {},
     "outputs": []
    },
    {
     "cell_type": "code",
     "collapsed": false,
     "input": [
      "plt.figure(figsize=(10,10))\n",
      "tra.plot()"
     ],
     "language": "python",
     "metadata": {},
     "outputs": []
    },
    {
     "cell_type": "code",
     "collapsed": false,
     "input": [
      "Bernard.rdpdf()"
     ],
     "language": "python",
     "metadata": {},
     "outputs": []
    },
    {
     "cell_type": "code",
     "collapsed": false,
     "input": [
      "ddev = {}\n",
      "tdev = []\n",
      "for k in Bernard.dev:\n",
      "    ddev[k] = (Bernard.dev[k]['radiomarkname'],Bernard.dev[k]['uc3d'][0])\n",
      "    tdev.append(Bernard.dev[k]['uc3d'][0])\n",
      "tdev = np.array(tdev)    "
     ],
     "language": "python",
     "metadata": {},
     "outputs": []
    },
    {
     "cell_type": "code",
     "collapsed": false,
     "input": [
      "tdev"
     ],
     "language": "python",
     "metadata": {},
     "outputs": []
    },
    {
     "cell_type": "markdown",
     "metadata": {},
     "source": [
      "In a first step we will take only the first marker of each group of marker as the estimate of the device position. This approach will be refined further on.  "
     ]
    },
    {
     "cell_type": "code",
     "collapsed": false,
     "input": [
      "Network= Bernard._f[:,tdev,:]"
     ],
     "language": "python",
     "metadata": {},
     "outputs": []
    },
    {
     "cell_type": "code",
     "collapsed": false,
     "input": [
      "D = Network[:,:,np.newaxis,:]-Network[:,np.newaxis,:,:]\n",
      "V = (D[1:,:,:,:]-D[0:-1,:,:,:])/0.01\n",
      "A = (V[1:,:,:,:]-V[0:-1,:,:,:])/0.01\n",
      "print D.shape"
     ],
     "language": "python",
     "metadata": {},
     "outputs": []
    },
    {
     "cell_type": "code",
     "collapsed": false,
     "input": [
      "D2 = np.sqrt(np.sum(D*D,axis=3))\n",
      "D2 = D2.reshape(11213,100)"
     ],
     "language": "python",
     "metadata": {},
     "outputs": []
    },
    {
     "cell_type": "code",
     "collapsed": false,
     "input": [
      "V2 = np.sqrt(np.sum(V*V,axis=3))\n",
      "V2 = V2.reshape(11212,100)"
     ],
     "language": "python",
     "metadata": {},
     "outputs": []
    },
    {
     "cell_type": "code",
     "collapsed": false,
     "input": [
      "A2 = np.sqrt(np.sum(A*A,axis=3))\n",
      "A2 = A2.reshape(11211,100)"
     ],
     "language": "python",
     "metadata": {},
     "outputs": []
    },
    {
     "cell_type": "code",
     "collapsed": false,
     "input": [
      "plt.figure(figsize=(20,10))\n",
      "plt.imshow(D2.T[0:49],interpolation='nearest',aspect='auto')\n",
      "plt.colorbar()"
     ],
     "language": "python",
     "metadata": {},
     "outputs": []
    },
    {
     "cell_type": "code",
     "collapsed": false,
     "input": [
      "plt.figure(figsize=(20,10))\n",
      "plt.imshow(V2.T[0:49],interpolation='nearest',aspect='auto')\n",
      "plt.colorbar()"
     ],
     "language": "python",
     "metadata": {},
     "outputs": []
    },
    {
     "cell_type": "code",
     "collapsed": false,
     "input": [
      "plt.plot(A2[:,4])\n",
      "plt.plot(A2[:,16]+30)\n"
     ],
     "language": "python",
     "metadata": {},
     "outputs": []
    }
   ],
   "metadata": {}
  }
 ]
}